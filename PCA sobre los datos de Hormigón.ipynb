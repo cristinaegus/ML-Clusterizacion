{
 "cells": [
  {
   "cell_type": "code",
   "execution_count": null,
   "metadata": {
    "id": "kr5vNE1KaBlm"
   },
   "outputs": [],
   "source": [
    "import pandas as pd\n",
    "import numpy as np\n",
    "from sklearn.datasets import load_iris\n",
    "from sklearn.decomposition import PCA\n",
    "import matplotlib.pyplot as plt"
   ]
  },
  {
   "cell_type": "markdown",
   "metadata": {
    "id": "iUm6YcesP7Nx"
   },
   "source": [
    "# Cargar el conjunto de datos hormigon.csv"
   ]
  },
  {
   "cell_type": "code",
   "execution_count": 3,
   "metadata": {
    "id": "rk5w6sSA92_b"
   },
   "outputs": [],
   "source": [
    "import pandas as pd\n",
    "\n",
    "df = pd.read_csv(\"hormigon.csv\")"
   ]
  },
  {
   "cell_type": "markdown",
   "metadata": {
    "id": "ZBSMy1lYAXkR"
   },
   "source": [
    "Convertimos el dataset de regresión en clasificación si dividimos los datos en tres categorías (blandos = 0, medios = 1, duros = 2)"
   ]
  },
  {
   "cell_type": "code",
   "execution_count": 5,
   "metadata": {
    "id": "SP21F1WzaY1A"
   },
   "outputs": [],
   "source": [
    "corte1_3 = df[\"strength\"].quantile(0.3333)\n",
    "corte2_3 = df[\"strength\"].quantile(0.6666)"
   ]
  },
  {
   "cell_type": "code",
   "execution_count": 6,
   "metadata": {
    "id": "lkjT9vHQ6phM"
   },
   "outputs": [],
   "source": [
    "dureza0 = df[\"strength\"] > corte1_3\n",
    "dureza1 = df[\"strength\"] > corte2_3\n",
    "df[\"target\"] = dureza0.astype(\"int\") + dureza1.astype(\"int\")"
   ]
  },
  {
   "cell_type": "code",
   "execution_count": 7,
   "metadata": {
    "colab": {
     "base_uri": "https://localhost:8080/"
    },
    "executionInfo": {
     "elapsed": 2,
     "status": "ok",
     "timestamp": 1718374414440,
     "user": {
      "displayName": "Aitor Donado",
      "userId": "08246046509718212083"
     },
     "user_tz": -120
    },
    "id": "Aq6XIEog7FAX",
    "outputId": "15b459ad-9827-428e-dcaf-3904c885c6bd"
   },
   "outputs": [
    {
     "data": {
      "text/plain": [
       "target\n",
       "1    344\n",
       "0    343\n",
       "2    343\n",
       "Name: count, dtype: int64"
      ]
     },
     "execution_count": 7,
     "metadata": {},
     "output_type": "execute_result"
    }
   ],
   "source": [
    "df[\"target\"].value_counts()"
   ]
  },
  {
   "cell_type": "code",
   "execution_count": 8,
   "metadata": {
    "id": "kq9S5Km47nCx"
   },
   "outputs": [],
   "source": [
    "df = df.drop(columns = \"strength\")"
   ]
  },
  {
   "cell_type": "markdown",
   "metadata": {
    "id": "qZhMPLoffVsK"
   },
   "source": [
    "# Reducción a 2 dimensiones mediante \"Principal Components Analysis\""
   ]
  },
  {
   "cell_type": "code",
   "execution_count": 10,
   "metadata": {
    "executionInfo": {
     "elapsed": 328,
     "status": "ok",
     "timestamp": 1718375505435,
     "user": {
      "displayName": "Aitor Donado",
      "userId": "08246046509718212083"
     },
     "user_tz": -120
    },
    "id": "DSstJsFQaK06"
   },
   "outputs": [],
   "source": [
    "from sklearn.decomposition import PCA\n",
    "\n",
    "pca = PCA(n_components=2)\n",
    "principal_components = pca.fit_transform(df.iloc[:, :-1])  # Excluir la columna 'target' al realizar PCA"
   ]
  },
  {
   "cell_type": "code",
   "execution_count": 112,
   "metadata": {
    "colab": {
     "base_uri": "https://localhost:8080/"
    },
    "executionInfo": {
     "elapsed": 303,
     "status": "ok",
     "timestamp": 1718375573322,
     "user": {
      "displayName": "Aitor Donado",
      "userId": "08246046509718212083"
     },
     "user_tz": -120
    },
    "id": "vKV_LNzlKirI",
    "outputId": "4a99852b-af05-491c-a332-be7421d2f4d6"
   },
   "outputs": [
    {
     "name": "stdout",
     "output_type": "stream",
     "text": [
      "Pesos de las características en los componentes principales:\n",
      "                         cement      slag       ash     water  superplastic  \\\n",
      "Principal Component 1  0.904440 -0.254671 -0.239376  0.005420     -0.001121   \n",
      "Principal Component 2  0.023062  0.788812 -0.299063  0.075483     -0.004873   \n",
      "\n",
      "                       coarseagg   fineagg       age  strength  \n",
      "Principal Component 1  -0.012811 -0.212263  0.100312  0.067214  \n",
      "Principal Component 2  -0.276091 -0.446486  0.070005  0.040081  \n"
     ]
    }
   ],
   "source": [
    "# Obtener los pesos de las características (component loadings)\n",
    "loadings = pca.components_\n",
    "\n",
    "# Mostrar los pesos de las características\n",
    "loadings_df = pd.DataFrame(loadings, columns=df.columns[:-1], index=['Principal Component 1', 'Principal Component 2'])\n",
    "print(\"Pesos de las características en los componentes principales:\")\n",
    "print(loadings_df)"
   ]
  },
  {
   "cell_type": "code",
   "execution_count": 11,
   "metadata": {
    "colab": {
     "base_uri": "https://localhost:8080/"
    },
    "executionInfo": {
     "elapsed": 340,
     "status": "ok",
     "timestamp": 1718375512398,
     "user": {
      "displayName": "Aitor Donado",
      "userId": "08246046509718212083"
     },
     "user_tz": -120
    },
    "id": "v6Q73x-dKT-t",
    "outputId": "eb087782-09f3-4b68-f73e-792f0d3c535f"
   },
   "outputs": [
    {
     "name": "stdout",
     "output_type": "stream",
     "text": [
      "Varianza explicada: 0.5746\n",
      "Contribución de cada componente principal a la varianza explicada:\n",
      "0.3257681635054439\n",
      "0.24887432558564956\n"
     ]
    }
   ],
   "source": [
    "print('Varianza explicada: %.4f' % pca.explained_variance_ratio_.sum())\n",
    "\n",
    "print('Contribución de cada componente principal a la varianza explicada:')\n",
    "for j in range(2):\n",
    "    print(pca.explained_variance_ratio_[j])"
   ]
  },
  {
   "cell_type": "markdown",
   "metadata": {
    "id": "cn9t5Dh7QSoT"
   },
   "source": [
    "Crear un DataFrame con los componentes principales"
   ]
  },
  {
   "cell_type": "code",
   "execution_count": 12,
   "metadata": {
    "id": "Y5KWjwysaNJm"
   },
   "outputs": [],
   "source": [
    "principal_df = pd.DataFrame(data=principal_components, columns=['Principal Component 1', 'Principal Component 2'])\n",
    "principal_df['target'] = df['target']"
   ]
  },
  {
   "cell_type": "markdown",
   "metadata": {
    "id": "EHAxwmSUQajb"
   },
   "source": [
    "## Visualizar los resultados en 2 dimensiones"
   ]
  },
  {
   "cell_type": "code",
   "execution_count": 13,
   "metadata": {
    "colab": {
     "base_uri": "https://localhost:8080/"
    },
    "executionInfo": {
     "elapsed": 2,
     "status": "ok",
     "timestamp": 1718372731201,
     "user": {
      "displayName": "Aitor Donado",
      "userId": "08246046509718212083"
     },
     "user_tz": -120
    },
    "id": "JjajKJBu-oVL",
    "outputId": "b62d66c4-ac33-4b11-dbb5-6af918890be8"
   },
   "outputs": [
    {
     "data": {
      "text/plain": [
       "array([1, 0, 2])"
      ]
     },
     "execution_count": 13,
     "metadata": {},
     "output_type": "execute_result"
    }
   ],
   "source": [
    "principal_df['target'].unique()"
   ]
  },
  {
   "cell_type": "code",
   "execution_count": null,
   "metadata": {
    "colab": {
     "base_uri": "https://localhost:8080/",
     "height": 564
    },
    "executionInfo": {
     "elapsed": 674,
     "status": "ok",
     "timestamp": 1718372731873,
     "user": {
      "displayName": "Aitor Donado",
      "userId": "08246046509718212083"
     },
     "user_tz": -120
    },
    "id": "NOJrHK2qaTGn",
    "outputId": "bfb7c141-5aa5-4046-c188-646b3a5d0d29"
   },
   "outputs": [
    {
     "data": {
      "image/png": "[encoded data removed]",
      "text/plain": [
       "<Figure size 800x600 with 1 Axes>"
      ]
     },
     "metadata": {},
     "output_type": "display_data"
    }
   ],
   "source": [
    "plt.figure(figsize=(8, 6))\n",
    "for target in principal_df['target'].unique():\n",
    "    subset = principal_df[principal_df['target'] == target]\n",
    "    plt.scatter(subset['Principal Component 1'], subset['Principal Component 2'], label=target)\n",
    "plt.xlabel('Componente Principal 1')\n",
    "plt.ylabel('Componente Principal 2')\n",
    "plt.title('PCA del Dataset Iris')\n",
    "plt.legend()\n",
    "plt.show()"
   ]
  },
  {
   "cell_type": "markdown",
   "metadata": {
    "id": "nz_maf1dQuDF"
   },
   "source": [
    "## Obtener los pesos de las características originales en el cálculo de las Componentes Principales (component loadings)"
   ]
  },
  {
   "cell_type": "code",
   "execution_count": 14,
   "metadata": {
    "colab": {
     "base_uri": "https://localhost:8080/"
    },
    "executionInfo": {
     "elapsed": 6,
     "status": "ok",
     "timestamp": 1718372731874,
     "user": {
      "displayName": "Aitor Donado",
      "userId": "08246046509718212083"
     },
     "user_tz": -120
    },
    "id": "3LgA2YcacbZy",
    "outputId": "973e25de-0c8b-47a4-9a01-c4284277cfdf"
   },
   "outputs": [
    {
     "name": "stdout",
     "output_type": "stream",
     "text": [
      "Pesos de las características en los componentes principales:\n",
      "                         cement      slag       ash     water  superplastic  \\\n",
      "Principal Component 1  0.905636 -0.262578 -0.238606  0.005559     -0.001325   \n",
      "Principal Component 2  0.032661  0.786028 -0.303039  0.076253     -0.005110   \n",
      "\n",
      "                       coarseagg   fineagg       age  \n",
      "Principal Component 1  -0.009092 -0.210124  0.098367  \n",
      "Principal Component 2  -0.274566 -0.450725  0.069862  \n"
     ]
    }
   ],
   "source": [
    "# Obtener los pesos de las características (component loadings)\n",
    "loadings = pca.components_\n",
    "\n",
    "# Mostrar los pesos de las características\n",
    "loadings_df = pd.DataFrame(loadings, columns=df.columns[:-1], index=['Principal Component 1', 'Principal Component 2'])\n",
    "print(\"Pesos de las características en los componentes principales:\")\n",
    "print(loadings_df)"
   ]
  },
  {
   "cell_type": "markdown",
   "metadata": {
    "id": "ZjDzubhZRFYF"
   },
   "source": [
    "# Reducción a 3 dimensiones mediante \"Principal Components Analysis\""
   ]
  },
  {
   "cell_type": "code",
   "execution_count": 15,
   "metadata": {
    "id": "moO5Fi1HRYlS"
   },
   "outputs": [],
   "source": [
    "pca = PCA(n_components=3)\n",
    "principal_components = pca.fit_transform(df.iloc[:, :-1])  # Excluir la columna 'target' al realizar PCA"
   ]
  },
  {
   "cell_type": "markdown",
   "metadata": {
    "id": "4tFuLaIfRl--"
   },
   "source": [
    "Crear un DataFrame con los componentes principales"
   ]
  },
  {
   "cell_type": "code",
   "execution_count": 17,
   "metadata": {
    "id": "eISXMJQORl-_"
   },
   "outputs": [],
   "source": [
    "principal_df = pd.DataFrame(data=principal_components, columns=['Principal Component 1', 'Principal Component 2', 'Principal Component 3'])\n",
    "principal_df['target'] = df['target']"
   ]
  },
  {
   "cell_type": "markdown",
   "metadata": {
    "id": "pcu9PkL3WfQO"
   },
   "source": [
    "## Obtener los pesos de las características originales en el cálculo de las Componentes Principales (component loadings)"
   ]
  },
  {
   "cell_type": "code",
   "execution_count": null,
   "metadata": {
    "colab": {
     "base_uri": "https://localhost:8080/"
    },
    "executionInfo": {
     "elapsed": 376,
     "status": "ok",
     "timestamp": 1718372751728,
     "user": {
      "displayName": "Aitor Donado",
      "userId": "08246046509718212083"
     },
     "user_tz": -120
    },
    "id": "Y47iO7AiWfQb",
    "outputId": "9ca181b8-e536-4743-a3b1-f1d2aaff303c"
   },
   "outputs": [
    {
     "name": "stdout",
     "output_type": "stream",
     "text": [
      "Pesos de las características en los componentes principales:\n",
      "                         cement      slag       ash     water  superplastic  \\\n",
      "Principal Component 1  0.905636 -0.262578 -0.238606  0.005559     -0.001325   \n",
      "Principal Component 2  0.032661  0.786028 -0.303039  0.076253     -0.005110   \n",
      "Principal Component 3  0.154815  0.072929 -0.051496 -0.041461      0.024054   \n",
      "\n",
      "                       coarseagg   fineagg       age  \n",
      "Principal Component 1  -0.009092 -0.210124  0.098367  \n",
      "Principal Component 2  -0.274566 -0.450725  0.069862  \n",
      "Principal Component 3  -0.760712  0.610756 -0.118573  \n"
     ]
    }
   ],
   "source": [
    "# Obtener los pesos de las características (component loadings)\n",
    "loadings = pca.components_\n",
    "\n",
    "# Mostrar los pesos de las características\n",
    "loadings_df = pd.DataFrame(loadings, columns=df.columns[:-1], index=['Principal Component 1', 'Principal Component 2', 'Principal Component 3'])\n",
    "print(\"Pesos de las características en los componentes principales:\")\n",
    "print(loadings_df)"
   ]
  },
  {
   "cell_type": "code",
   "execution_count": 106,
   "metadata": {
    "colab": {
     "base_uri": "https://localhost:8080/"
    },
    "executionInfo": {
     "elapsed": 395,
     "status": "ok",
     "timestamp": 1718375478704,
     "user": {
      "displayName": "Aitor Donado",
      "userId": "08246046509718212083"
     },
     "user_tz": -120
    },
    "id": "OjJKN4JxJ3Qt",
    "outputId": "07d533b5-c80d-4151-a961-fb698a735009"
   },
   "outputs": [
    {
     "name": "stdout",
     "output_type": "stream",
     "text": [
      "Varianza explicada: 0.7594\n",
      "Contribución de cada componente principal a la varianza explicada:\n",
      "0.3257681635054432\n",
      "0.24887432558564976\n",
      "0.18479759946801447\n"
     ]
    }
   ],
   "source": [
    "print('Varianza explicada: %.4f' % pca.explained_variance_ratio_.sum())\n",
    "\n",
    "print('Contribución de cada componente principal a la varianza explicada:')\n",
    "for j in range(3):\n",
    "    print(pca.explained_variance_ratio_[j])"
   ]
  },
  {
   "cell_type": "markdown",
   "metadata": {
    "id": "sVG4V_NuRl_A"
   },
   "source": [
    "## Visualizar los resultados en 3 dimensiones"
   ]
  },
  {
   "cell_type": "code",
   "execution_count": 19,
   "metadata": {
    "id": "eYO_2xIhcr7C"
   },
   "outputs": [],
   "source": [
    "import plotly.graph_objs as go\n",
    "\n",
    "# Función para pintar las reglas en 3D\n",
    "def rotable_3d(x, col1, col2, col3, cat_col):\n",
    "    datos = x.copy()\n",
    "    # reseteo el índice de los datos originales\n",
    "    datos.reset_index(inplace=True)\n",
    "\n",
    "    # Crear el scatter plot en 3D con Plotly\n",
    "    fig = go.Figure(data=[go.Scatter3d(\n",
    "        x=datos[col1],\n",
    "        y=datos[col2],\n",
    "        z=datos[col3],\n",
    "        mode='markers',\n",
    "        marker=dict(\n",
    "            size=6*datos[cat_col]+10,\n",
    "            color=datos[cat_col],  # Color según el valor de la columna categórica\n",
    "            colorscale='Viridis',  # Escala de color\n",
    "            opacity=0.8\n",
    "        ),\n",
    "        text= '<br>' + \\\n",
    "             col1 +\": \" + datos[col1].astype(str) + '<br>' + \\\n",
    "             col2 +\": \" + datos[col2].astype(str) + '<br>' + \\\n",
    "             col3 +\": \" + datos[col3].astype(str),\n",
    "        hoverinfo='text'  # Mostrar texto en el menú emergente\n",
    "    )])\n",
    "\n",
    "    # Configuración del diseño del gráfico\n",
    "    fig.update_layout(\n",
    "        scene=dict(\n",
    "            xaxis_title=col1,\n",
    "            yaxis_title=col2,\n",
    "            zaxis_title=col3,\n",
    "        ),\n",
    "        title='Scatter Plot 3D de Soporte vs Confianza vs Lift',\n",
    "        width=800,\n",
    "        height=1200,\n",
    "    )\n",
    "\n",
    "    # Mostrar el gráfico\n",
    "    fig.show()"
   ]
  },
  {
   "cell_type": "code",
   "execution_count": 20,
   "metadata": {
    "colab": {
     "base_uri": "https://localhost:8080/",
     "height": 1000
    },
    "executionInfo": {
     "elapsed": 549,
     "status": "ok",
     "timestamp": 1718373596804,
     "user": {
      "displayName": "Aitor Donado",
      "userId": "08246046509718212083"
     },
     "user_tz": -120
    },
    "id": "MKVo3yy1fyGv",
    "outputId": "26f5f4ca-d5e9-4130-9952-b5c3ae54615a"
   },
   "outputs": [
    {
     "data": {
      "application/vnd.plotly.v1+json": {
       "config": {
        "plotlyServerURL": "https://plot.ly"
       },
       "data": [
        {
         "hoverinfo": "text",
         "marker": {
          "color": {
           "bdata": "AQABAgAAAAEAAQEAAQAAAgECAAAAAAABAQICAgABAQEAAgEBAAIAAgACAQACAgABAgECAQEBAQACAQECAAABAgEBAQICAgACAQACAQAAAQEBAQECAAECAAEAAAIAAgACAgEBAQECAQIAAAAAAAECAAEBAAABAQEBAAEAAgIBAQACAgEBAAAAAgICAAEBAQECAAEBAgIBAQEBAQAAAgIAAgECAAIBAAIBAQICAgACAgAAAQIAAAICAAAAAQACAgICAgEAAAACAgEBAQACAAABAgIBAAECAAEBAgAAAAAAAQAAAQIBAQIAAAIBAgAAAAACAQIAAgICAAEAAQEBAAEBAAICAgECAAIBAgACAQABAgABAgECAQIBAgICAQIBAgIAAAEAAgICAAABAgEAAQICAgAAAQIBAAIAAAIAAAEAAgECAQECAAEAAQACAQEAAAEBAgIBAgECAgEBAgICAgEBAAEBAAIBAAACAAEAAgIAAgAAAQIBAQIAAAEBAAIBAAACAAICAQABAAACAgACAgEBAQEBAQIAAgEAAgABAgIAAgICAAICAQAAAgECAgACAAACAAIBAgIAAAABAQEBAQECAgECAQICAgABAgACAQECAQIBAgEBAAIAAAECAQACAgACAQICAAEBAQECAgECAAIBAAIBAQICAQAAAQACAQEAAAABAAIAAAIBAQABAgACAgACAQIBAAICAgAAAgICAgEAAgACAQAAAgACAQIBAQIBAAIAAAIAAQIAAAACAgECAAICAgIBAQICAgECAgEAAQECAAACAQABAAIAAAEAAAIBAAECAQECAAECAgIAAQEBAAECAgICAAABAQECAAICAAAAAQIAAgEBAAEBAQAAAAECAgABAAIAAQIAAQABAQAAAAAAAQAAAAIBAAABAQAAAQAAAgIBAQEAAAEAAQEAAgAAAQAAAAABAAIBAgICAQEBAAAAAgIBAgACAQAAAQIAAgICAAABAgABAgAAAgICAAAAAgACAQECAAECAAICAAEAAAIBAQEBAQABAgACAQEBAQEAAAIBAAEBAQEBAAAAAAAAAAEAAgABAQEBAQIAAQIAAAIBAgAAAQEAAAICAQEBAgACAAACAgACAQIBAAEBAAABAQACAAIAAAEBAQICAgABAQECAgABAgABAAABAAECAAIBAAICAQACAgICAgIAAgIBAgABAAECAQICAQABAQIBAgACAQIAAAEAAQEAAQEAAQACAAIBAAEAAgECAgIBAgACAQEAAgIBAQICAQICAAECAQACAAAAAgICAQIAAQEBAAACAQABAgICAgEBAgEAAQABAAICAAACAQEBAQEAAQIBAgAAAgIAAAECAAIBAgAAAAAAAAAAAQICAg==",
           "dtype": "i1"
          },
          "colorscale": [
           [
            0,
            "#440154"
           ],
           [
            0.1111111111111111,
            "#482878"
           ],
           [
            0.2222222222222222,
            "#3e4989"
           ],
           [
            0.3333333333333333,
            "#31688e"
           ],
           [
            0.4444444444444444,
            "#26828e"
           ],
           [
            0.5555555555555556,
            "#1f9e89"
           ],
           [
            0.6666666666666666,
            "#35b779"
           ],
           [
            0.7777777777777778,
            "#6ece58"
           ],
           [
            0.8888888888888888,
            "#b5de2b"
           ],
           [
            1,
            "#fde725"
           ]
          ],
          "opacity": 0.8,
          "size": {
           "bdata": "EAoQFgoKChAKEBAKEAoKFhAWCgoKCgoQEBYWFgoQEBAKFhAQChYKFgoWEAoWFgoQFhAWEBAQEAoWEBAWCgoQFhAQEBYWFgoWEAoWEAoKEBAQEBAWChAWChAKChYKFgoWFhAQEBAWEBYKCgoKChAWChAQCgoQEBAQChAKFhYQEAoWFhAQCgoKFhYWChAQEBAWChAQFhYQEBAQEAoKFhYKFhAWChYQChYQEBYWFgoWFgoKEBYKChYWCgoKEAoWFhYWFhAKCgoWFhAQEAoWCgoQFhYQChAWChAQFgoKCgoKEAoKEBYQEBYKChYQFgoKCgoWEBYKFhYWChAKEBAQChAQChYWFhAWChYQFgoWEAoQFgoQFhAWEBYQFhYWEBYQFhYKChAKFhYWCgoQFhAKEBYWFgoKEBYQChYKChYKChAKFhAWEBAWChAKEAoWEBAKChAQFhYQFhAWFhAQFhYWFhAQChAQChYQCgoWChAKFhYKFgoKEBYQEBYKChAQChYQCgoWChYWEAoQCgoWFgoWFhAQEBAQEBYKFhAKFgoQFhYKFhYWChYWEAoKFhAWFgoWCgoWChYQFhYKCgoQEBAQEBAWFhAWEBYWFgoQFgoWEBAWEBYQFhAQChYKChAWEAoWFgoWEBYWChAQEBAWFhAWChYQChYQEBYWEAoKEAoWEBAKCgoQChYKChYQEAoQFgoWFgoWEBYQChYWFgoKFhYWFhAKFgoWEAoKFgoWEBYQEBYQChYKChYKEBYKCgoWFhAWChYWFhYQEBYWFhAWFhAKEBAWCgoWEAoQChYKChAKChYQChAWEBAWChAWFhYKEBAQChAWFhYWCgoQEBAWChYWCgoKEBYKFhAQChAQEAoKChAWFgoQChYKEBYKEAoQEAoKCgoKEAoKChYQCgoQEAoKEAoKFhYQEBAKChAKEBAKFgoKEAoKCgoQChYQFhYWEBAQCgoKFhYQFgoWEAoKEBYKFhYWCgoQFgoQFgoKFhYWCgoKFgoWEBAWChAWChYWChAKChYQEBAQEAoQFgoWEBAQEBAKChYQChAQEBAQCgoKCgoKChAKFgoQEBAQEBYKEBYKChYQFgoKEBAKChYWEBAQFgoWCgoWFgoWEBYQChAQCgoQEAoWChYKChAQEBYWFgoQEBAWFgoQFgoQCgoQChAWChYQChYWEAoWFhYWFhYKFhYQFgoQChAWEBYWEAoQEBYQFgoWEBYKChAKEBAKEBAKEAoWChYQChAKFhAWFhYQFgoWEBAKFhYQEBYWEBYWChAWEAoWCgoKFhYWEBYKEBAQCgoWEAoQFhYWFhAQFhAKEAoQChYWCgoWEBAQEBAKEBYQFgoKFhYKChAWChYQFgoKCgoKCgoKEBYWFg==",
           "dtype": "i1"
          }
         },
         "mode": "markers",
         "text": [
          "<br>Principal Component 1: -146.3298724705564<br>Principal Component 2: 132.48847789788067<br>Principal Component 3: 22.22257169406697",
          "<br>Principal Component 1: -119.06396992807642<br>Principal Component 2: -93.65245559817242<br>Principal Component 3: 86.72465395572578",
          "<br>Principal Component 1: -38.69756289616011<br>Principal Component 2: -107.56144937096008<br>Principal Component 3: -55.18327314070547",
          "<br>Principal Component 1: 9.328389195413678<br>Principal Component 2: 107.70849223210126<br>Principal Component 3: 28.747997061856438",
          "<br>Principal Component 1: -116.46577111472834<br>Principal Component 2: 112.21515452670133<br>Principal Component 3: 110.72348727578412",
          "<br>Principal Component 1: -22.201496181871065<br>Principal Component 2: -93.03446894379385<br>Principal Component 3: -155.43605189708578",
          "<br>Principal Component 1: -123.62095598613107<br>Principal Component 2: 186.03271501785883<br>Principal Component 3: 50.03081220903499",
          "<br>Principal Component 1: -18.96525162459615<br>Principal Component 2: -85.31034645950581<br>Principal Component 3: 66.71188284791435",
          "<br>Principal Component 1: 44.87833721229647<br>Principal Component 2: -68.49138762488292<br>Principal Component 3: 89.29195034009484",
          "<br>Principal Component 1: -149.5200432612671<br>Principal Component 2: 114.33823411223995<br>Principal Component 3: -10.703754127534495",
          "<br>Principal Component 1: -149.65985998593757<br>Principal Component 2: 93.24199151266987<br>Principal Component 3: 40.05094211379145",
          "<br>Principal Component 1: -117.4659273740375<br>Principal Component 2: 13.492297666741706<br>Principal Component 3: -64.28762078345707",
          "<br>Principal Component 1: 125.57169481595517<br>Principal Component 2: -33.44534732561635<br>Principal Component 3: -15.698548331988036",
          "<br>Principal Component 1: -35.006904408445514<br>Principal Component 2: 236.6401124918566<br>Principal Component 3: 68.08087663025009",
          "<br>Principal Component 1: -138.8208875608405<br>Principal Component 2: 124.10770095229879<br>Principal Component 3: 41.74283651104878",
          "<br>Principal Component 1: -58.288221578817456<br>Principal Component 2: -1.3040129383290378<br>Principal Component 3: 77.10005855423185",
          "<br>Principal Component 1: -32.94120579448754<br>Principal Component 2: 238.1072082588106<br>Principal Component 3: 70.57090487564767",
          "<br>Principal Component 1: 71.01791057135739<br>Principal Component 2: -64.2185232985945<br>Principal Component 3: -24.457173685994775",
          "<br>Principal Component 1: -91.28232830281718<br>Principal Component 2: -132.94920065490942<br>Principal Component 3: 87.64401016491848",
          "<br>Principal Component 1: 48.671077860978315<br>Principal Component 2: -71.40779237417769<br>Principal Component 3: -13.886133243985569",
          "<br>Principal Component 1: -43.74573961586434<br>Principal Component 2: -89.05159642171611<br>Principal Component 3: 63.899732378745625",
          "<br>Principal Component 1: -88.40060976290091<br>Principal Component 2: 272.5949202339029<br>Principal Component 3: 29.230667977048313",
          "<br>Principal Component 1: -48.38732449957496<br>Principal Component 2: 89.51589642961699<br>Principal Component 3: 8.847973160627191",
          "<br>Principal Component 1: -188.41834478129832<br>Principal Component 2: 111.9801165915161<br>Principal Component 3: -40.906369393184036",
          "<br>Principal Component 1: 65.35419512829598<br>Principal Component 2: -76.11493085915868<br>Principal Component 3: 4.028409779261182",
          "<br>Principal Component 1: 13.221873812207107<br>Principal Component 2: 71.85909207331065<br>Principal Component 3: -78.4411046426076",
          "<br>Principal Component 1: 59.81925285185825<br>Principal Component 2: 83.41199684431433<br>Principal Component 3: 32.98784594285439",
          "<br>Principal Component 1: 116.21602127686208<br>Principal Component 2: 29.570662485985054<br>Principal Component 3: -184.69763466753014",
          "<br>Principal Component 1: -114.7530909286817<br>Principal Component 2: -122.98270144876074<br>Principal Component 3: 87.75561257589641",
          "<br>Principal Component 1: -31.773935886329458<br>Principal Component 2: 37.18231956357931<br>Principal Component 3: -24.390183652331018",
          "<br>Principal Component 1: 81.55030296513638<br>Principal Component 2: -41.79311775077565<br>Principal Component 3: -15.933140698618075",
          "<br>Principal Component 1: 244.5096343007333<br>Principal Component 2: 59.18270209968216<br>Principal Component 3: 51.12301061561959",
          "<br>Principal Component 1: -146.60283614961793<br>Principal Component 2: 65.36978892354972<br>Principal Component 3: -7.627205579703599",
          "<br>Principal Component 1: 10.62418545177809<br>Principal Component 2: 38.687287250905456<br>Principal Component 3: -26.2756216492985",
          "<br>Principal Component 1: 71.45292436950524<br>Principal Component 2: -71.78350526148506<br>Principal Component 3: 11.37992174186354",
          "<br>Principal Component 1: -119.90931024112734<br>Principal Component 2: 22.336445198871047<br>Principal Component 3: 55.621516128079406",
          "<br>Principal Component 1: -137.3916037220068<br>Principal Component 2: -158.86790552629134<br>Principal Component 3: -29.26389731826424",
          "<br>Principal Component 1: -8.704883734402863<br>Principal Component 2: -4.568690457822754<br>Principal Component 3: 54.69167944145039",
          "<br>Principal Component 1: 65.44941139146738<br>Principal Component 2: -71.69394105485492<br>Principal Component 3: 54.251336803363984",
          "<br>Principal Component 1: -132.12555971572436<br>Principal Component 2: -47.18612279235742<br>Principal Component 3: 48.790953417580454",
          "<br>Principal Component 1: -100.30466695792578<br>Principal Component 2: -142.70614625500366<br>Principal Component 3: -42.32751750353091",
          "<br>Principal Component 1: -34.620729485761615<br>Principal Component 2: -126.5024700994727<br>Principal Component 3: 83.80635852513615",
          "<br>Principal Component 1: 128.53285366267846<br>Principal Component 2: -44.06392033861084<br>Principal Component 3: 62.66023286529429",
          "<br>Principal Component 1: -143.19708579201404<br>Principal Component 2: 20.338805181365387<br>Principal Component 3: -1.9350589012718729",
          "<br>Principal Component 1: 238.92981786252471<br>Principal Component 2: -54.43891514625352<br>Principal Component 3: -198.19962071574315",
          "<br>Principal Component 1: 86.6816827506753<br>Principal Component 2: -74.75320113626549<br>Principal Component 3: -80.5093857858443",
          "<br>Principal Component 1: -112.7064851902827<br>Principal Component 2: 205.50991482472153<br>Principal Component 3: 52.28831294097006",
          "<br>Principal Component 1: 36.05301706177377<br>Principal Component 2: -43.04632320306689<br>Principal Component 3: -140.75293443923346",
          "<br>Principal Component 1: 36.29838490128729<br>Principal Component 2: 122.75212841636323<br>Principal Component 3: -33.0248031832875",
          "<br>Principal Component 1: 107.5597604183715<br>Principal Component 2: 23.422832605416033<br>Principal Component 3: -195.13203874348187",
          "<br>Principal Component 1: -73.07197434971368<br>Principal Component 2: 116.27840547671985<br>Principal Component 3: 199.25748162945916",
          "<br>Principal Component 1: 79.89276430052445<br>Principal Component 2: -54.3942719260973<br>Principal Component 3: -16.144998550357258",
          "<br>Principal Component 1: -58.22955288349786<br>Principal Component 2: -121.01973045298757<br>Principal Component 3: 86.22402361386844",
          "<br>Principal Component 1: -50.26154084167413<br>Principal Component 2: 82.65347435227534<br>Principal Component 3: 11.186999039714436",
          "<br>Principal Component 1: 18.741554212484175<br>Principal Component 2: 106.82192041805882<br>Principal Component 3: 20.26335695093445",
          "<br>Principal Component 1: 90.95124147911571<br>Principal Component 2: -61.29611586080364<br>Principal Component 3: 48.51445645075279",
          "<br>Principal Component 1: -95.45845737344229<br>Principal Component 2: -70.37876789823565<br>Principal Component 3: 88.3000231345269",
          "<br>Principal Component 1: 221.89715171851674<br>Principal Component 2: 0.7048823592335793<br>Principal Component 3: -22.630035329839956",
          "<br>Principal Component 1: 1.6804531995103602<br>Principal Component 2: -106.85070799430252<br>Principal Component 3: -64.81227867193718",
          "<br>Principal Component 1: -31.615167648304187<br>Principal Component 2: -102.53140674140366<br>Principal Component 3: -46.646033442199496",
          "<br>Principal Component 1: -122.36847525774398<br>Principal Component 2: 20.589902619163922<br>Principal Component 3: 52.65719678832039",
          "<br>Principal Component 1: -53.52487315284787<br>Principal Component 2: -101.92378156599057<br>Principal Component 3: -57.273484929311394",
          "<br>Principal Component 1: -92.80859444828097<br>Principal Component 2: -141.20312821864582<br>Principal Component 3: -28.435102200517804",
          "<br>Principal Component 1: 116.49012675255375<br>Principal Component 2: 110.63287830151967<br>Principal Component 3: 201.9198944854332",
          "<br>Principal Component 1: 111.18867466759306<br>Principal Component 2: 190.08079976961108<br>Principal Component 3: 102.75077187158792",
          "<br>Principal Component 1: 95.50610639790156<br>Principal Component 2: -37.96323780826583<br>Principal Component 3: -5.838495465338497",
          "<br>Principal Component 1: -32.53649401452131<br>Principal Component 2: 79.79362266600816<br>Principal Component 3: -36.22338167527431",
          "<br>Principal Component 1: -38.96893726293299<br>Principal Component 2: -94.17399664215804<br>Principal Component 3: -41.60348352759465",
          "<br>Principal Component 1: 10.139980856671599<br>Principal Component 2: -100.84260152011007<br>Principal Component 3: -54.61502014316616",
          "<br>Principal Component 1: 16.960321254347264<br>Principal Component 2: 238.99891302897748<br>Principal Component 3: 17.242595545166864",
          "<br>Principal Component 1: -87.01442729908823<br>Principal Component 2: 45.43641841778907<br>Principal Component 3: -24.65394926106424",
          "<br>Principal Component 1: 104.21138726709356<br>Principal Component 2: 54.78407585885378<br>Principal Component 3: 29.876182861249845",
          "<br>Principal Component 1: 68.92983136006436<br>Principal Component 2: -2.037505480760956<br>Principal Component 3: -212.1127241046035",
          "<br>Principal Component 1: -148.00289833598978<br>Principal Component 2: 57.42135466023797<br>Principal Component 3: -4.893148978973301",
          "<br>Principal Component 1: -0.42492913170877955<br>Principal Component 2: -108.82231798931912<br>Principal Component 3: -58.03584283069617",
          "<br>Principal Component 1: 259.87056784097945<br>Principal Component 2: -4.668846106547335<br>Principal Component 3: 179.6446846722023",
          "<br>Principal Component 1: -11.071675634271344<br>Principal Component 2: -51.81456807256848<br>Principal Component 3: -112.68473801874323",
          "<br>Principal Component 1: -136.99855339099048<br>Principal Component 2: 15.165426587809748<br>Principal Component 3: 54.133620640067306",
          "<br>Principal Component 1: -77.95174645092347<br>Principal Component 2: -81.27468463641571<br>Principal Component 3: 74.36388365196206",
          "<br>Principal Component 1: -114.93257270016046<br>Principal Component 2: -90.71826406426442<br>Principal Component 3: 91.70471044652089",
          "<br>Principal Component 1: -88.83014141599799<br>Principal Component 2: -130.02840650006442<br>Principal Component 3: 90.01085651298342",
          "<br>Principal Component 1: -182.53516911468927<br>Principal Component 2: 56.85060879410548<br>Principal Component 3: -98.88814898647419",
          "<br>Principal Component 1: 15.706948419877065<br>Principal Component 2: -73.74862953333229<br>Principal Component 3: -45.038540381839425",
          "<br>Principal Component 1: 125.82459216227483<br>Principal Component 2: -35.57613606480277<br>Principal Component 3: 25.97098423621179",
          "<br>Principal Component 1: -34.976907727594735<br>Principal Component 2: -93.23951815429473<br>Principal Component 3: -65.2901848484627",
          "<br>Principal Component 1: 4.629108053784954<br>Principal Component 2: -52.40327037586553<br>Principal Component 3: -17.80435994993718",
          "<br>Principal Component 1: 211.9247973153989<br>Principal Component 2: -72.8045855247417<br>Principal Component 3: -88.81370930735119",
          "<br>Principal Component 1: -84.68999594206154<br>Principal Component 2: -146.4338057348092<br>Principal Component 3: -39.21355547600774",
          "<br>Principal Component 1: 56.150057631936704<br>Principal Component 2: 121.03906322709719<br>Principal Component 3: -40.27818167245633",
          "<br>Principal Component 1: -8.010214607344373<br>Principal Component 2: -107.25099696410848<br>Principal Component 3: 62.70844674316601",
          "<br>Principal Component 1: -162.27136476869057<br>Principal Component 2: 81.07557778075392<br>Principal Component 3: 41.24592338622239",
          "<br>Principal Component 1: 56.543524034595364<br>Principal Component 2: 121.31851003985031<br>Principal Component 3: -39.803890578094865",
          "<br>Principal Component 1: -103.91798503060352<br>Principal Component 2: -76.38687437242811<br>Principal Component 3: 78.10276460575591",
          "<br>Principal Component 1: 203.9711895827183<br>Principal Component 2: 105.58658221612706<br>Principal Component 3: 73.03565105335997",
          "<br>Principal Component 1: -97.44128597765453<br>Principal Component 2: 42.10959304372801<br>Principal Component 3: -21.855884366364762",
          "<br>Principal Component 1: 218.56613905169132<br>Principal Component 2: -32.026031954673726<br>Principal Component 3: 148.12249686856978",
          "<br>Principal Component 1: 58.60922264855334<br>Principal Component 2: 122.78560580680431<br>Principal Component 3: -37.31386233269731",
          "<br>Principal Component 1: -14.688131653340399<br>Principal Component 2: 106.90864434024417<br>Principal Component 3: -181.72527136777774",
          "<br>Principal Component 1: -48.0671053177775<br>Principal Component 2: 26.79763537400845<br>Principal Component 3: -131.54636153394122",
          "<br>Principal Component 1: -17.989482493458375<br>Principal Component 2: 248.7261871434298<br>Principal Component 3: 88.59396646138248",
          "<br>Principal Component 1: -174.53953911223317<br>Principal Component 2: 118.77045684426969<br>Principal Component 3: -165.40869428546387",
          "<br>Principal Component 1: 284.6572449892872<br>Principal Component 2: -14.470824611277408<br>Principal Component 3: 81.74901010933218",
          "<br>Principal Component 1: 49.947341294726215<br>Principal Component 2: -46.243882690162536<br>Principal Component 3: 74.9846053703929",
          "<br>Principal Component 1: 157.4565157421488<br>Principal Component 2: 32.443708160338815<br>Principal Component 3: 37.43606940277783",
          "<br>Principal Component 1: -23.57721012166695<br>Principal Component 2: -91.31536817133599<br>Principal Component 3: 74.263775015401",
          "<br>Principal Component 1: 183.57270246932163<br>Principal Component 2: 26.189521433704158<br>Principal Component 3: -91.22841373364491",
          "<br>Principal Component 1: -136.6949131681087<br>Principal Component 2: -105.71603936221857<br>Principal Component 3: -102.82609245718342",
          "<br>Principal Component 1: 27.130874565667227<br>Principal Component 2: -80.17919719556653<br>Principal Component 3: 97.83209876773094",
          "<br>Principal Component 1: -122.49794150067895<br>Principal Component 2: -105.14497392451403<br>Principal Component 3: 15.070854104186225",
          "<br>Principal Component 1: 36.423989389314016<br>Principal Component 2: -43.25148586864532<br>Principal Component 3: -141.0599874097606",
          "<br>Principal Component 1: 122.77422225193166<br>Principal Component 2: -9.671165666704383<br>Principal Component 3: 69.85652133822697",
          "<br>Principal Component 1: -15.099718143892474<br>Principal Component 2: -92.4630044831498<br>Principal Component 3: 106.73848438792328",
          "<br>Principal Component 1: -135.7299514888628<br>Principal Component 2: 64.12077742637268<br>Principal Component 3: 32.097910361729134",
          "<br>Principal Component 1: 126.94882722526049<br>Principal Component 2: -32.46728348098031<br>Principal Component 3: -14.03852950172299",
          "<br>Principal Component 1: 39.0789742464367<br>Principal Component 2: -61.39564843802748<br>Principal Component 3: -29.039168441078914",
          "<br>Principal Component 1: -115.70325736022535<br>Principal Component 2: 217.3943322197734<br>Principal Component 3: -6.7716972579978005",
          "<br>Principal Component 1: -131.5757679078788<br>Principal Component 2: 165.00532929431915<br>Principal Component 3: 85.70627643329442",
          "<br>Principal Component 1: -162.6531733788991<br>Principal Component 2: 10.191139459549845<br>Principal Component 3: -161.44607815168405",
          "<br>Principal Component 1: -63.1704409698591<br>Principal Component 2: -113.56199620722305<br>Principal Component 3: -45.23463194623403",
          "<br>Principal Component 1: -48.24264064360846<br>Principal Component 2: -143.81716254496553<br>Principal Component 3: -45.008234425272406",
          "<br>Principal Component 1: 62.87534238553732<br>Principal Component 2: -66.4803465776705<br>Principal Component 3: -36.65808838148962",
          "<br>Principal Component 1: -35.005339074038346<br>Principal Component 2: -101.26936055854935<br>Principal Component 3: -55.318664670679425",
          "<br>Principal Component 1: -150.62604767752737<br>Principal Component 2: 81.46160790379963<br>Principal Component 3: -123.53604402017582",
          "<br>Principal Component 1: -73.53417671810107<br>Principal Component 2: -122.64130429791248<br>Principal Component 3: 77.91448387284407",
          "<br>Principal Component 1: 170.3535901839554<br>Principal Component 2: -12.77112905266722<br>Principal Component 3: 12.790819189098983",
          "<br>Principal Component 1: -162.93062082564703<br>Principal Component 2: 115.359465384516<br>Principal Component 3: -22.474091622379007",
          "<br>Principal Component 1: -160.50683383576705<br>Principal Component 2: 94.59841099431213<br>Principal Component 3: -7.342236408134937",
          "<br>Principal Component 1: 0.2598147558556363<br>Principal Component 2: 132.6593895801417<br>Principal Component 3: 44.3699492569923",
          "<br>Principal Component 1: 19.02601986830524<br>Principal Component 2: 240.4660087959315<br>Principal Component 3: 19.732623790564418",
          "<br>Principal Component 1: 51.88969131623385<br>Principal Component 2: -31.52575703446871<br>Principal Component 3: -241.76127700515363",
          "<br>Principal Component 1: -101.3116035884583<br>Principal Component 2: -122.28584645668423<br>Principal Component 3: 84.33942926184164",
          "<br>Principal Component 1: 27.661735827092656<br>Principal Component 2: -33.78088540749832<br>Principal Component 3: -48.61816292218688",
          "<br>Principal Component 1: -35.67103279025126<br>Principal Component 2: -93.80480292184188<br>Principal Component 3: -66.16165576071072",
          "<br>Principal Component 1: -0.45578975230100127<br>Principal Component 2: -68.79431318043612<br>Principal Component 3: -23.712602815361635",
          "<br>Principal Component 1: 79.09113794851973<br>Principal Component 2: -43.539660330482775<br>Principal Component 3: -18.89746003837709",
          "<br>Principal Component 1: 86.67810552233334<br>Principal Component 2: -74.76699858975155<br>Principal Component 3: -80.5743314500063",
          "<br>Principal Component 1: -115.45652813096382<br>Principal Component 2: 191.83123638248645<br>Principal Component 3: 59.87235241703496",
          "<br>Principal Component 1: 83.92437066347708<br>Principal Component 2: -76.72108221184033<br>Principal Component 3: -83.88474753066049",
          "<br>Principal Component 1: -171.87335114987653<br>Principal Component 2: 91.47151389488153<br>Principal Component 3: -68.22957484435477",
          "<br>Principal Component 1: -151.4876148556646<br>Principal Component 2: 157.42651115701028<br>Principal Component 3: -46.62462241210906",
          "<br>Principal Component 1: -27.117995739449345<br>Principal Component 2: 58.37974135416573<br>Principal Component 3: -34.09774130557278",
          "<br>Principal Component 1: -66.81574693728112<br>Principal Component 2: -7.216421924341262<br>Principal Component 3: 66.82240397288336",
          "<br>Principal Component 1: 84.13785948481004<br>Principal Component 2: 170.86883139283287<br>Principal Component 3: 70.1432591342388",
          "<br>Principal Component 1: 22.066467937858576<br>Principal Component 2: 214.91301418985387<br>Principal Component 3: 128.69527349202235",
          "<br>Principal Component 1: 55.40782995677118<br>Principal Component 2: -49.79860570877224<br>Principal Component 3: -9.35608802507906",
          "<br>Principal Component 1: -88.88339171982864<br>Principal Component 2: 48.18756122110875<br>Principal Component 3: -11.540053064003388",
          "<br>Principal Component 1: 259.1820016363268<br>Principal Component 2: -5.157878028865298<br>Principal Component 3: 178.81467525706972",
          "<br>Principal Component 1: -75.49258143430683<br>Principal Component 2: -79.52814205670859<br>Principal Component 3: 77.32820299172107",
          "<br>Principal Component 1: 83.92741793206466<br>Principal Component 2: -76.70932882553745<br>Principal Component 3: -83.82942344637439",
          "<br>Principal Component 1: 157.334015623494<br>Principal Component 2: 147.65903673489834<br>Principal Component 3: 87.59677952849813",
          "<br>Principal Component 1: -74.05018826647836<br>Principal Component 2: -119.2572727786735<br>Principal Component 3: 72.0257169506142",
          "<br>Principal Component 1: -148.55826636861065<br>Principal Component 2: 126.4574547039366<br>Principal Component 3: -56.804618454030674",
          "<br>Principal Component 1: 77.09265750755443<br>Principal Component 2: -41.48304383192669<br>Principal Component 3: -2.0695423138636784",
          "<br>Principal Component 1: -127.4243696251369<br>Principal Component 2: -79.98494075876238<br>Principal Component 3: 33.242847647116776",
          "<br>Principal Component 1: -1.2974554250882022<br>Principal Component 2: -87.55559247092265<br>Principal Component 3: 101.53915925093145",
          "<br>Principal Component 1: 29.568980396905076<br>Principal Component 2: -29.597703031243213<br>Principal Component 3: -39.029676145275374",
          "<br>Principal Component 1: 232.73272202065078<br>Principal Component 2: -58.840202447115416<br>Principal Component 3: -205.66970545193587",
          "<br>Principal Component 1: -57.18148854786231<br>Principal Component 2: 57.59134931548925<br>Principal Component 3: 16.0386967930626",
          "<br>Principal Component 1: -188.63389835589854<br>Principal Component 2: 52.51918319643187<br>Principal Component 3: -106.23966094907655",
          "<br>Principal Component 1: 86.87006803464129<br>Principal Component 2: 102.62396522109253<br>Principal Component 3: 65.5953586802035",
          "<br>Principal Component 1: 64.9410409994953<br>Principal Component 2: -65.0132508107165<br>Principal Component 3: -34.168060136092066",
          "<br>Principal Component 1: -24.336813807092575<br>Principal Component 2: 90.07277705858701<br>Principal Component 3: -10.885802145815092",
          "<br>Principal Component 1: 82.54177174177912<br>Principal Component 2: -76.27368123240001<br>Principal Component 3: 24.648702172691685",
          "<br>Principal Component 1: 230.7916989201969<br>Principal Component 2: -40.29457604393326<br>Principal Component 3: -176.35553335243642",
          "<br>Principal Component 1: -47.997462168150165<br>Principal Component 2: 26.666363258293927<br>Principal Component 3: -131.46918924321156",
          "<br>Principal Component 1: -29.534645630590738<br>Principal Component 2: 96.47802176553188<br>Principal Component 3: 60.82308421477035",
          "<br>Principal Component 1: 167.59932536534475<br>Principal Component 2: -14.727256741939186<br>Principal Component 3: 9.470781528568892",
          "<br>Principal Component 1: -123.37347480975299<br>Principal Component 2: -131.34528093586675<br>Principal Component 3: 7.60124934640001",
          "<br>Principal Component 1: -86.0688984675899<br>Principal Component 2: -129.24653038593033<br>Principal Component 3: 93.92836716520759",
          "<br>Principal Component 1: 42.24210830705981<br>Principal Component 2: 111.00996287232402<br>Principal Component 3: 6.226072612867711",
          "<br>Principal Component 1: 167.59932536534475<br>Principal Component 2: -14.727256741939186<br>Principal Component 3: 9.470781528568892",
          "<br>Principal Component 1: -117.15504542251671<br>Principal Component 2: 24.292572888143013<br>Principal Component 3: 58.9415537886095",
          "<br>Principal Component 1: -65.40640621428886<br>Principal Component 2: -109.67132081894897<br>Principal Component 3: 75.37900405066574",
          "<br>Principal Component 1: -23.92211944246006<br>Principal Component 2: 51.47949821682266<br>Principal Component 3: -77.53619060352085",
          "<br>Principal Component 1: 135.8081414549725<br>Principal Component 2: -30.629479948866333<br>Principal Component 3: -40.80192212038196",
          "<br>Principal Component 1: -13.006342314045924<br>Principal Component 2: -91.09582296015071<br>Principal Component 3: 108.86522365909536",
          "<br>Principal Component 1: -43.71619851054762<br>Principal Component 2: -89.84922152123431<br>Principal Component 3: 64.28512633111649",
          "<br>Principal Component 1: 80.75452253079274<br>Principal Component 2: 120.42877032120919<br>Principal Component 3: -45.54256111874102",
          "<br>Principal Component 1: -138.91855156093544<br>Principal Component 2: 150.57590985566452<br>Principal Component 3: -22.745232368201783",
          "<br>Principal Component 1: 42.812638598338495<br>Principal Component 2: -69.95848339183692<br>Principal Component 3: 86.80192209469726",
          "<br>Principal Component 1: -41.25703349393098<br>Principal Component 2: -88.10267894152719<br>Principal Component 3: 67.2494456708755",
          "<br>Principal Component 1: 56.81104491519898<br>Principal Component 2: -74.14422789705611<br>Principal Component 3: -47.192816760428",
          "<br>Principal Component 1: 71.64612206427302<br>Principal Component 2: 130.37672608998048<br>Principal Component 3: -50.22053765207613",
          "<br>Principal Component 1: -208.44684509236708<br>Principal Component 2: 18.553020063397526<br>Principal Component 3: -153.04677956944053",
          "<br>Principal Component 1: -85.4310940012821<br>Principal Component 2: -83.29467482468328<br>Principal Component 3: -22.890451313027597",
          "<br>Principal Component 1: 91.3747091699856<br>Principal Component 2: -40.89742934217384<br>Principal Component 3: -10.818551956133632",
          "<br>Principal Component 1: -46.32162588561698<br>Principal Component 2: 90.98299219657099<br>Principal Component 3: 11.338001406024745",
          "<br>Principal Component 1: -1.3030142830920681<br>Principal Component 2: -87.63184531615184<br>Principal Component 3: 101.49769775381594",
          "<br>Principal Component 1: -36.63428092767626<br>Principal Component 2: -127.58840149060518<br>Principal Component 3: -42.22882467704471",
          "<br>Principal Component 1: 71.51348599033061<br>Principal Component 2: -64.06680372429332<br>Principal Component 3: -24.578340122711637",
          "<br>Principal Component 1: 61.36348746716398<br>Principal Component 2: 124.74173349607628<br>Principal Component 3: -33.99382467216722",
          "<br>Principal Component 1: -72.73831661569619<br>Principal Component 2: -77.57201436743662<br>Principal Component 3: 80.64824065225116",
          "<br>Principal Component 1: 29.63646249562194<br>Principal Component 2: 32.860008748409314<br>Principal Component 3: 120.71570051448725",
          "<br>Principal Component 1: -150.12062119678532<br>Principal Component 2: 151.51672680078224<br>Principal Component 3: -17.90108088349899",
          "<br>Principal Component 1: -150.84945221587103<br>Principal Component 2: 81.87215609512299<br>Principal Component 3: -123.18885059735462",
          "<br>Principal Component 1: 29.196573179625204<br>Principal Component 2: -78.71210142861253<br>Principal Component 3: 100.32212701312852",
          "<br>Principal Component 1: -46.34068052001641<br>Principal Component 2: -108.05485602176759<br>Principal Component 3: 72.92393791695883",
          "<br>Principal Component 1: -6.42533719750849<br>Principal Component 2: 112.77702740806006<br>Principal Component 3: -171.76515838618744",
          "<br>Principal Component 1: 42.477933619405974<br>Principal Component 2: 131.25188620655308<br>Principal Component 3: 68.70702176180794",
          "<br>Principal Component 1: 24.55994247969697<br>Principal Component 2: -67.46107624638671<br>Principal Component 3: -34.366990758706976",
          "<br>Principal Component 1: -121.55525737217309<br>Principal Component 2: 187.49981078481284<br>Principal Component 3: 52.52084045443257",
          "<br>Principal Component 1: -127.79903610384042<br>Principal Component 2: 166.12286563955757<br>Principal Component 3: 110.62214775738767",
          "<br>Principal Component 1: 141.1013599354964<br>Principal Component 2: -41.11208824444134<br>Principal Component 3: 55.8789994530714",
          "<br>Principal Component 1: -37.881152862855174<br>Principal Component 2: -102.04674954757513<br>Principal Component 3: 83.12119644572982",
          "<br>Principal Component 1: -101.93540692533807<br>Principal Component 2: -86.00108515194972<br>Principal Component 3: 91.77937091806336",
          "<br>Principal Component 1: -166.6055630769763<br>Principal Component 2: 90.26698539663852<br>Principal Component 3: -14.693748370737296",
          "<br>Principal Component 1: -170.6349187476574<br>Principal Component 2: 58.4468204182657<br>Principal Component 3: -15.575828376384237",
          "<br>Principal Component 1: -64.50415633402784<br>Principal Component 2: 175.58331308764156<br>Principal Component 3: 52.99438481080023",
          "<br>Principal Component 1: 39.05264971989793<br>Principal Component 2: 124.7082561056352<br>Principal Component 3: -29.704765522757413",
          "<br>Principal Component 1: 90.70619959694636<br>Principal Component 2: -70.47515986777239<br>Principal Component 3: 34.490242380691654",
          "<br>Principal Component 1: -93.05038381193025<br>Principal Component 2: 47.92481722887982<br>Principal Component 3: 74.36193566397492",
          "<br>Principal Component 1: 126.91540640660583<br>Principal Component 2: -10.625695627636333<br>Principal Component 3: -119.51212576515668",
          "<br>Principal Component 1: 113.73586193394311<br>Principal Component 2: 108.6767506122477<br>Principal Component 3: 198.5998568249031",
          "<br>Principal Component 1: -70.87896792103315<br>Principal Component 2: -129.01680640833058<br>Principal Component 3: 83.43614898454962",
          "<br>Principal Component 1: -131.14732680136925<br>Principal Component 2: 164.46575342915395<br>Principal Component 3: 85.47793367101588",
          "<br>Principal Component 1: -176.45939323826934<br>Principal Component 2: 108.38306906954267<br>Principal Component 3: -87.0822248525638",
          "<br>Principal Component 1: -30.292599056516327<br>Principal Component 2: -123.42855515918825<br>Principal Component 3: 89.02356056311203",
          "<br>Principal Component 1: -75.34783669833405<br>Principal Component 2: 38.18922217968924<br>Principal Component 3: 87.75166334591177",
          "<br>Principal Component 1: 124.48966220864384<br>Principal Component 2: -34.21382606068744<br>Principal Component 3: -17.002848841482006",
          "<br>Principal Component 1: -103.77076860507493<br>Principal Component 2: -124.03238903639135<br>Principal Component 3: 81.37510992208263",
          "<br>Principal Component 1: -6.554635040040672<br>Principal Component 2: -77.12115083978847<br>Principal Component 3: -45.46285408304689",
          "<br>Principal Component 1: 54.35187989858234<br>Principal Component 2: -75.89077047676324<br>Principal Component 3: -50.15713610018702",
          "<br>Principal Component 1: -34.17463824607506<br>Principal Component 2: -83.07263631197077<br>Principal Component 3: 75.78668536938147",
          "<br>Principal Component 1: 126.47271390672438<br>Principal Component 2: -45.45476326033565<br>Principal Component 3: 60.211666117012214",
          "<br>Principal Component 1: -57.28966521179934<br>Principal Component 2: 61.84235249453991<br>Principal Component 3: 79.75895450344888",
          "<br>Principal Component 1: 50.285757955088116<br>Principal Component 2: -46.033283634727695<br>Principal Component 3: 75.06604714428022",
          "<br>Principal Component 1: -129.14601077419877<br>Principal Component 2: 21.002310780977496<br>Principal Component 3: 60.16824165037133",
          "<br>Principal Component 1: -175.1027258193089<br>Principal Component 2: 76.20198911174782<br>Principal Component 3: -123.50067658002877",
          "<br>Principal Component 1: 50.66165379812897<br>Principal Component 2: -72.95657214684206<br>Principal Component 3: -0.7550151538678165",
          "<br>Principal Component 1: 129.52022536715864<br>Principal Component 2: 41.509094917367804<br>Principal Component 3: -74.22453608064103",
          "<br>Principal Component 1: -186.4631097415372<br>Principal Component 2: 54.60462235514751<br>Principal Component 3: -58.95642047889754",
          "<br>Principal Component 1: -77.09084039926644<br>Principal Component 2: -57.98311534098832<br>Principal Component 3: 36.186676826335315",
          "<br>Principal Component 1: 159.4427755365978<br>Principal Component 2: 56.85671688704156<br>Principal Component 3: -169.0218494086941",
          "<br>Principal Component 1: 44.56292455691971<br>Principal Component 2: -77.28799774451568<br>Principal Component 3: -8.106527116470176",
          "<br>Principal Component 1: 221.42287749201614<br>Principal Component 2: -73.23677815068186<br>Principal Component 3: -173.87699115290604",
          "<br>Principal Component 1: -36.05894033490606<br>Principal Component 2: -94.00799688936581<br>Principal Component 3: -66.59448535795667",
          "<br>Principal Component 1: -67.89777954459244<br>Principal Component 2: -7.984900659412347<br>Principal Component 3: 65.51810346338937",
          "<br>Principal Component 1: -26.91874025078345<br>Principal Component 2: 121.69729591637565<br>Principal Component 3: 43.33252932701646",
          "<br>Principal Component 1: -143.52329313671436<br>Principal Component 2: 93.32705504572169<br>Principal Component 3: 83.3099326188559",
          "<br>Principal Component 1: 144.43163147278082<br>Principal Component 2: 157.42499576450058<br>Principal Component 3: -60.295038379466945",
          "<br>Principal Component 1: 38.8359946342533<br>Principal Component 2: 101.97354175733307<br>Principal Component 3: 58.5908392253811",
          "<br>Principal Component 1: 195.1181955228984<br>Principal Component 2: 99.29902892918147<br>Principal Component 3: 62.36410143022755",
          "<br>Principal Component 1: -136.0144713127015<br>Principal Component 2: -157.8898416816553<br>Principal Component 3: -27.603878487999197",
          "<br>Principal Component 1: 42.69312130812985<br>Principal Component 2: 110.46871407867513<br>Principal Component 3: 5.852139664639594",
          "<br>Principal Component 1: 141.61301932157573<br>Principal Component 2: -18.02471700117485<br>Principal Component 3: -24.401493212814813",
          "<br>Principal Component 1: 64.80631849042727<br>Principal Component 2: 127.18689310766621<br>Principal Component 3: -29.843777596504594",
          "<br>Principal Component 1: -169.06472809359292<br>Principal Component 2: 88.52044281693139<br>Principal Component 3: -17.65806771049631",
          "<br>Principal Component 1: -73.66927585090868<br>Principal Component 2: -123.49850728682054<br>Principal Component 3: 78.31681594949788",
          "<br>Principal Component 1: -59.30303813955049<br>Principal Component 2: -119.58258098354952<br>Principal Component 3: 85.22466780413964",
          "<br>Principal Component 1: -177.9052154837113<br>Principal Component 2: 60.68259053252825<br>Principal Component 3: -48.64058917653617",
          "<br>Principal Component 1: -65.37061682667337<br>Principal Component 2: -6.334055567885457<br>Principal Component 3: 68.56281885572588",
          "<br>Principal Component 1: -3.1791939503194158<br>Principal Component 2: -110.77844567859108<br>Principal Component 3: -61.35588049122626",
          "<br>Principal Component 1: -129.57253709801935<br>Principal Component 2: 174.57573422997984<br>Principal Component 3: 80.51994116235232",
          "<br>Principal Component 1: -38.532309780637064<br>Principal Component 2: -85.34892615273702<br>Principal Component 3: 70.18408937903473",
          "<br>Principal Component 1: -21.118045105050314<br>Principal Component 2: -89.56882559162887<br>Principal Component 3: 77.22809435516001",
          "<br>Principal Component 1: 60.76380179721997<br>Principal Component 2: -53.08008656118193<br>Principal Component 3: -21.752622729863532",
          "<br>Principal Component 1: 307.63216958201343<br>Principal Component 2: 13.193504235051705<br>Principal Component 3: 205.6728628544946",
          "<br>Principal Component 1: 85.96795236602003<br>Principal Component 2: 124.13144059018828<br>Principal Component 3: -39.258204118451914",
          "<br>Principal Component 1: -45.09380858483749<br>Principal Component 2: -133.59650796479764<br>Principal Component 3: -52.42608320581573",
          "<br>Principal Component 1: 171.9119214093116<br>Principal Component 2: 84.62127878438605<br>Principal Component 3: -137.96146002825904",
          "<br>Principal Component 1: -31.271171832583462<br>Principal Component 2: 25.899883937702498<br>Principal Component 3: -21.84771752179438",
          "<br>Principal Component 1: 42.497225942961734<br>Principal Component 2: -78.75509351146968<br>Principal Component 3: -10.596555361867729",
          "<br>Principal Component 1: 33.133106556262746<br>Principal Component 2: 124.61502440366604<br>Principal Component 3: 57.442608270723724",
          "<br>Principal Component 1: -32.75128342539627<br>Principal Component 2: 79.24256980791233<br>Principal Component 3: -36.484793038647524",
          "<br>Principal Component 1: 63.23050568421402<br>Principal Component 2: 155.92512224676773<br>Principal Component 3: -128.7410351122282",
          "<br>Principal Component 1: 61.020488911803994<br>Principal Component 2: -61.77757030993382<br>Principal Component 3: -83.7926139109168",
          "<br>Principal Component 1: 24.940123666567644<br>Principal Component 2: 106.01919604046674<br>Principal Component 3: -98.11488586103141",
          "<br>Principal Component 1: -171.6234178043218<br>Principal Component 2: 131.26924869435607<br>Principal Component 3: -165.41922914527635",
          "<br>Principal Component 1: -171.47988474721785<br>Principal Component 2: 91.75096070763465<br>Principal Component 3: -67.75528374999331",
          "<br>Principal Component 1: -18.964456684964617<br>Principal Component 2: -85.30728035873119<br>Principal Component 3: 66.72631521772814",
          "<br>Principal Component 1: 285.0524176111338<br>Principal Component 2: 13.215749909653482<br>Principal Component 3: 209.9993147113346",
          "<br>Principal Component 1: -102.38188417399735<br>Principal Component 2: -75.21629606139788<br>Principal Component 3: 131.45231131070648",
          "<br>Principal Component 1: 92.94499418950369<br>Principal Component 2: -72.20257542469938<br>Principal Component 3: 43.061563449657285",
          "<br>Principal Component 1: 83.21368754740939<br>Principal Component 2: 122.17531290091631<br>Principal Component 3: -42.578241778982004",
          "<br>Principal Component 1: -154.62497384537573<br>Principal Component 2: 109.0005487539546<br>Principal Component 3: -70.6054986612817",
          "<br>Principal Component 1: -10.81574320542758<br>Principal Component 2: -115.39528047555223<br>Principal Component 3: -47.87946865647888",
          "<br>Principal Component 1: -152.16470592628582<br>Principal Component 2: 164.98397804002184<br>Principal Component 3: -120.0172121540864",
          "<br>Principal Component 1: -2.5824475792645245<br>Principal Component 2: 77.80646741659473<br>Principal Component 3: 43.52556600959667",
          "<br>Principal Component 1: 107.5597604183715<br>Principal Component 2: 23.422832605416033<br>Principal Component 3: -195.13203874348187",
          "<br>Principal Component 1: 141.67736665417019<br>Principal Component 2: 155.4688680752286<br>Principal Component 3: -63.615076039997035",
          "<br>Principal Component 1: 294.8638851218392<br>Principal Component 2: -6.18969466613612<br>Principal Component 3: 171.0283231188784",
          "<br>Principal Component 1: 223.96285033247472<br>Principal Component 2: 2.1719781261875823<br>Principal Component 3: -20.140007084442402",
          "<br>Principal Component 1: 128.53841252068236<br>Principal Component 2: -43.98766749338165<br>Principal Component 3: 62.701694362409796",
          "<br>Principal Component 1: 250.60836354194254<br>Principal Component 2: 63.514127697355775<br>Principal Component 3: 58.47452257822198",
          "<br>Principal Component 1: -145.4884483572846<br>Principal Component 2: 103.28565473023531<br>Principal Component 3: 92.53186212775023",
          "<br>Principal Component 1: -83.42305087607049<br>Principal Component 2: 267.9051564850608<br>Principal Component 3: 79.12486697489231",
          "<br>Principal Component 1: 75.08895308753631<br>Principal Component 2: 132.8218857015704<br>Principal Component 3: -46.070490576413505",
          "<br>Principal Component 1: -120.87335561368255<br>Principal Component 2: 183.04807306417945<br>Principal Component 3: 60.04768312133865",
          "<br>Principal Component 1: -160.16750640628095<br>Principal Component 2: 38.722726560869944<br>Principal Component 3: -95.96780278712478",
          "<br>Principal Component 1: 202.88701659975726<br>Principal Component 2: 34.04006470920285<br>Principal Component 3: 184.73277556351127",
          "<br>Principal Component 1: -13.034019529934497<br>Principal Component 2: -90.9959087161958<br>Principal Component 3: 109.22851263332086",
          "<br>Principal Component 1: 148.60352168232893<br>Principal Component 2: 26.156154873393234<br>Principal Component 3: 26.76451977964541",
          "<br>Principal Component 1: 162.8856065598611<br>Principal Component 2: 59.301876498631486<br>Principal Component 3: -164.87180233303144",
          "<br>Principal Component 1: 265.8936527367443<br>Principal Component 2: 4.102999915649889<br>Principal Component 3: -45.11475327173409",
          "<br>Principal Component 1: -42.345334743686976<br>Principal Component 2: 79.98958258806886<br>Principal Component 3: 71.37250394475308",
          "<br>Principal Component 1: -87.01981980933027<br>Principal Component 2: 25.742853599085606<br>Principal Component 3: 96.18931504517548",
          "<br>Principal Component 1: -83.22965165712765<br>Principal Component 2: -144.44542054769522<br>Principal Component 3: -40.770761422318515",
          "<br>Principal Component 1: 268.31435166158235<br>Principal Component 2: 76.08923427124694<br>Principal Component 3: 79.81762182448688",
          "<br>Principal Component 1: 107.5597604183715<br>Principal Component 2: 23.422832605416033<br>Principal Component 3: -195.13203874348187",
          "<br>Principal Component 1: -92.29836498514791<br>Principal Component 2: 32.650721277271714<br>Principal Component 3: -26.291783378696124",
          "<br>Principal Component 1: 199.54043065532844<br>Principal Component 2: 22.19840356262125<br>Principal Component 3: -98.42711109066516",
          "<br>Principal Component 1: -15.143873634672865<br>Principal Component 2: -118.46919541583668<br>Principal Component 3: -53.09667069445476",
          "<br>Principal Component 1: 113.06438132691343<br>Principal Component 2: 61.07162914579936<br>Principal Component 3: 40.547732484382266",
          "<br>Principal Component 1: 81.8586720495191<br>Principal Component 2: -78.18817797879433<br>Principal Component 3: -86.37477577605804",
          "<br>Principal Component 1: -129.83358465600688<br>Principal Component 2: 174.42531394389744<br>Principal Component 3: 80.50546296296102",
          "<br>Principal Component 1: 29.19101432162134<br>Principal Component 2: -78.78835427384172<br>Principal Component 3: 100.28066551601302",
          "<br>Principal Component 1: -83.740470727322<br>Principal Component 2: 38.728689454652454<br>Principal Component 3: -15.97595207633475",
          "<br>Principal Component 1: 201.11061616992163<br>Principal Component 2: 7.877840443204832<br>Principal Component 3: -49.921230662387444",
          "<br>Principal Component 1: -4.556326359624734<br>Principal Component 2: -111.75650952322712<br>Principal Component 3: -63.015899321491304",
          "<br>Principal Component 1: -150.0559055318435<br>Principal Component 2: -125.79131777721136<br>Principal Component 3: -36.27779132261168",
          "<br>Principal Component 1: -38.75212671367756<br>Principal Component 2: -129.4366616333807<br>Principal Component 3: 78.82630203434104",
          "<br>Principal Component 1: 1.1509008910157874<br>Principal Component 2: -86.39499883786925<br>Principal Component 3: 104.2125418320042",
          "<br>Principal Component 1: -18.65361087526413<br>Principal Component 2: -81.71872827026868<br>Principal Component 3: -45.64856592957835",
          "<br>Principal Component 1: 321.12776749930487<br>Principal Component 2: 12.463380085135782<br>Principal Component 3: 202.6872536675047",
          "<br>Principal Component 1: 41.17307269609739<br>Principal Component 2: -67.93476750652349<br>Principal Component 3: 72.05209771464541",
          "<br>Principal Component 1: -112.70930806932495<br>Principal Component 2: -89.30306426370407<br>Principal Component 3: 165.05281962363978",
          "<br>Principal Component 1: -60.983817702108496<br>Principal Component 2: -122.97585814225954<br>Principal Component 3: 82.90398595333835",
          "<br>Principal Component 1: -52.44284054553655<br>Principal Component 2: -101.15530283091948<br>Principal Component 3: -55.969184419817424",
          "<br>Principal Component 1: -39.46486666843242<br>Principal Component 2: -126.78598024149301<br>Principal Component 3: -41.21049543177901",
          "<br>Principal Component 1: 86.23861429062208<br>Principal Component 2: -58.26968665042796<br>Principal Component 3: 76.89160000151799",
          "<br>Principal Component 1: 248.72339502283126<br>Principal Component 2: -3.669678499828251<br>Principal Component 3: 100.76262444602867",
          "<br>Principal Component 1: -38.50276867532035<br>Principal Component 2: -86.14655125225522<br>Principal Component 3: 70.56948333140559",
          "<br>Principal Component 1: 66.43269222904576<br>Principal Component 2: 126.67405582100139<br>Principal Component 3: -56.50489465236524",
          "<br>Principal Component 1: -127.54795473406364<br>Principal Component 2: 105.73675900621834<br>Principal Component 3: 83.10211246361968",
          "<br>Principal Component 1: -134.79116346493294<br>Principal Component 2: -123.88274814594399<br>Principal Component 3: 14.379220291142701",
          "<br>Principal Component 1: -81.74774616814206<br>Principal Component 2: -124.998363870508<br>Principal Component 3: 98.5480962114894",
          "<br>Principal Component 1: 117.3650645051136<br>Principal Component 2: -41.58424253899523<br>Principal Component 3: 15.773725707440775",
          "<br>Principal Component 1: -21.719516443206786<br>Principal Component 2: -87.26647414877777<br>Principal Component 3: 63.39184518738426",
          "<br>Principal Component 1: -147.0829794161027<br>Principal Component 2: 144.7773884910369<br>Principal Component 3: -32.586772576201696",
          "<br>Principal Component 1: 53.720523610648996<br>Principal Component 2: 79.08057124664072<br>Principal Component 3: 25.636333980252004",
          "<br>Principal Component 1: -133.27740800211473<br>Principal Component 2: 18.06811924706949<br>Principal Component 3: 55.18818515957622",
          "<br>Principal Component 1: 26.23972262222435<br>Principal Component 2: 115.00934811317654<br>Principal Component 3: -39.66154054087332",
          "<br>Principal Component 1: -105.00001763791485<br>Principal Component 2: -77.1553531074992<br>Principal Component 3: 76.79846409626191",
          "<br>Principal Component 1: 0.762684330865909<br>Principal Component 2: -86.16474954919784<br>Principal Component 3: 103.98772599921352",
          "<br>Principal Component 1: 16.566854851688603<br>Principal Component 2: 238.71946621622436<br>Principal Component 3: 16.768304450805402",
          "<br>Principal Component 1: 98.8505708205002<br>Principal Component 2: -35.58793989986418<br>Principal Component 3: -1.8070211632662279",
          "<br>Principal Component 1: -65.59066060931713<br>Principal Component 2: -113.24916630448104<br>Principal Component 3: 82.22297547938518",
          "<br>Principal Component 1: -18.139717965218644<br>Principal Component 2: 94.4740643594489<br>Principal Component 3: -3.415717409622374",
          "<br>Principal Component 1: -175.3983222681407<br>Principal Component 2: 76.27488137933466<br>Principal Component 3: -123.62518338016356",
          "<br>Principal Component 1: -40.22289664440772<br>Principal Component 2: 95.3144177942446<br>Principal Component 3: 18.689513368627104",
          "<br>Principal Component 1: -75.046408260214<br>Principal Component 2: -124.47657113145658<br>Principal Component 3: 76.65679711923286",
          "<br>Principal Component 1: -94.22920834060238<br>Principal Component 2: -117.2558038271278<br>Principal Component 3: 92.87666896034762",
          "<br>Principal Component 1: -43.792997097677706<br>Principal Component 2: -129.85989518177746<br>Principal Component 3: -46.42769746975489",
          "<br>Principal Component 1: -110.64078657632473<br>Principal Component 2: 206.97701059167554<br>Principal Component 3: 54.77834118636764",
          "<br>Principal Component 1: -98.92753454862046<br>Principal Component 2: -141.72808241036762<br>Principal Component 3: -40.66749867326587",
          "<br>Principal Component 1: 5.876642114811432<br>Principal Component 2: 83.26448567997272<br>Principal Component 3: -38.83758581137843",
          "<br>Principal Component 1: 10.223414340030388<br>Principal Component 2: 113.90506732257029<br>Principal Component 3: -5.554267460818011",
          "<br>Principal Component 1: -107.14536310239944<br>Principal Component 2: 223.47230039715413<br>Principal Component 3: 3.544134044363574",
          "<br>Principal Component 1: -69.9187910385624<br>Principal Component 2: -116.32308124476549<br>Principal Component 3: 77.0057734414093",
          "<br>Principal Component 1: -79.45587963505699<br>Principal Component 2: 164.96433420302236<br>Principal Component 3: 34.97132322506542",
          "<br>Principal Component 1: -108.90803311621161<br>Principal Component 2: 19.570265844122446<br>Principal Component 3: -53.9717894810957",
          "<br>Principal Component 1: -75.9933417347177<br>Principal Component 2: -124.38784687761961<br>Principal Component 3: 74.95016453308506",
          "<br>Principal Component 1: -124.01696119955393<br>Principal Component 2: -19.420742998381684<br>Principal Component 3: 60.63738548572775",
          "<br>Principal Component 1: -2.689324155333459<br>Principal Component 2: 42.078169631304206<br>Principal Component 3: -23.958973443198175",
          "<br>Principal Component 1: -154.55275020762238<br>Principal Component 2: 89.26746014848464<br>Principal Component 3: 93.30352537045871",
          "<br>Principal Component 1: -37.374994304372244<br>Principal Component 2: -128.45859778874467<br>Principal Component 3: 80.48632086460606",
          "<br>Principal Component 1: -171.06675941814285<br>Principal Component 2: 58.79056834283995<br>Principal Component 3: -14.957981745973342",
          "<br>Principal Component 1: -162.66483117134925<br>Principal Component 2: 80.7961309680008<br>Principal Component 3: 40.77163229186095",
          "<br>Principal Component 1: -40.074695305465426<br>Principal Component 2: -108.53951321559612<br>Principal Component 3: -56.84329197097051",
          "<br>Principal Component 1: 259.4613576017625<br>Principal Component 2: 69.80168098430136<br>Principal Component 3: 69.1460722013544",
          "<br>Principal Component 1: -152.15597863875303<br>Principal Component 2: 49.20986528050753<br>Principal Component 3: -48.55588156379554",
          "<br>Principal Component 1: 42.26593059933677<br>Principal Component 2: -54.88596967249555<br>Principal Component 3: -13.023891512442077",
          "<br>Principal Component 1: -36.09168190561155<br>Principal Component 2: -111.45339546942557<br>Principal Component 3: 77.10625370580561",
          "<br>Principal Component 1: 5.933600466689839<br>Principal Component 2: 82.95107804266246<br>Principal Component 3: -38.792830643073785",
          "<br>Principal Component 1: 230.06157957368396<br>Principal Component 2: 6.503403723861197<br>Principal Component 3: -12.788495121840043",
          "<br>Principal Component 1: -140.94372877758644<br>Principal Component 2: -14.840505616859218<br>Principal Component 3: -147.29253832848156",
          "<br>Principal Component 1: -42.209283292100466<br>Principal Component 2: -105.12066448785959<br>Principal Component 3: 77.90399440775394",
          "<br>Principal Component 1: -34.025983291653574<br>Principal Component 2: -109.98629970247157<br>Principal Component 3: 79.5962819512032",
          "<br>Principal Component 1: -89.32094772629314<br>Principal Component 2: -126.48185091706091<br>Principal Component 3: 83.88302664724199",
          "<br>Principal Component 1: -130.4558700576089<br>Principal Component 2: -136.37532356542317<br>Principal Component 3: -0.9359903521059607",
          "<br>Principal Component 1: 24.28011249644284<br>Principal Component 2: 118.32747111672046<br>Principal Component 3: 46.771058647591246",
          "<br>Principal Component 1: -83.31286353275623<br>Principal Component 2: -145.45574189017316<br>Principal Component 3: -37.553536645742696",
          "<br>Principal Component 1: -127.70160523899827<br>Principal Component 2: -134.4191958761512<br>Principal Component 3: 2.3840473084241296",
          "<br>Principal Component 1: 71.38899637668099<br>Principal Component 2: -0.29096290105383105<br>Principal Component 3: -209.14840476484449",
          "<br>Principal Component 1: 9.60821917866781<br>Principal Component 2: -78.0800551310059<br>Principal Component 3: -52.390052344441784",
          "<br>Principal Component 1: -148.78903748717306<br>Principal Component 2: 130.74193531817355<br>Principal Component 3: 19.258252354307956",
          "<br>Principal Component 1: 87.64903220634565<br>Principal Component 2: -37.461692153102035<br>Principal Component 3: -8.581628736015716",
          "<br>Principal Component 1: 18.820528183045653<br>Principal Component 2: -75.9477579542422<br>Principal Component 3: -112.54455420574455",
          "<br>Principal Component 1: -136.76556527514003<br>Principal Component 2: -105.55929449297616<br>Principal Component 3: -102.46002656243226",
          "<br>Principal Component 1: 222.11557759630608<br>Principal Component 2: -1.7394930959452495<br>Principal Component 3: -25.66679911901423",
          "<br>Principal Component 1: -89.83919996853126<br>Principal Component 2: 34.39726385697884<br>Principal Component 3: -23.32746403893711",
          "<br>Principal Component 1: -99.8909896961369<br>Principal Component 2: -146.23317084820223<br>Principal Component 3: -36.972341899023775",
          "<br>Principal Component 1: 81.82956831439648<br>Principal Component 2: -80.09694788497552<br>Principal Component 3: 29.66284003394651",
          "<br>Principal Component 1: 63.210023381026346<br>Principal Component 2: 155.93749944919762<br>Principal Component 3: -129.05238419961864",
          "<br>Principal Component 1: -27.501046077080158<br>Principal Component 2: -87.93002871198507<br>Principal Component 3: -56.2786540555953",
          "<br>Principal Component 1: 29.174102790904385<br>Principal Component 2: 185.88118065738712<br>Principal Component 3: 64.34804103035026",
          "<br>Principal Component 1: -62.61635200806274<br>Principal Component 2: -4.377927878613491<br>Principal Component 3: 71.88285651625597",
          "<br>Principal Component 1: -76.86971384361215<br>Principal Component 2: -80.50620590134463<br>Principal Component 3: 75.66818416145605",
          "<br>Principal Component 1: -44.41103335764495<br>Principal Component 2: 78.52248682111485<br>Principal Component 3: 68.8824756993555",
          "<br>Principal Component 1: -132.5786093761655<br>Principal Component 2: 88.0112499380067<br>Principal Component 3: 9.010138109271935",
          "<br>Principal Component 1: -200.28241723719984<br>Principal Component 2: 24.351541428025143<br>Principal Component 3: -143.2052393614406",
          "<br>Principal Component 1: -102.80867512560883<br>Principal Component 2: 82.0620574163575<br>Principal Component 3: 75.09267488463172",
          "<br>Principal Component 1: 107.95322682103017<br>Principal Component 2: 23.702279418169155<br>Principal Component 3: -194.65774764912044",
          "<br>Principal Component 1: 131.26220244987658<br>Principal Component 2: 73.99604423563198<br>Principal Component 3: 62.483695598598956",
          "<br>Principal Component 1: -128.50640223244824<br>Principal Component 2: -80.75341949383346<br>Principal Component 3: 31.938547137622777",
          "<br>Principal Component 1: 26.248610776189437<br>Principal Component 2: 124.5443882840787<br>Principal Component 3: -159.7087257886987",
          "<br>Principal Component 1: -12.622433039382422<br>Principal Component 2: 108.37574010719817<br>Principal Component 3: -179.23524312238015",
          "<br>Principal Component 1: 42.79944765534728<br>Principal Component 2: -36.692891390053774<br>Principal Component 3: 33.96649528381823",
          "<br>Principal Component 1: -26.755634708417407<br>Principal Component 2: 48.144337151311674<br>Principal Component 3: -31.48194288490663",
          "<br>Principal Component 1: -135.91652078367918<br>Principal Component 2: 15.933905322880833<br>Principal Component 3: 55.437921149561305",
          "<br>Principal Component 1: 56.150057631936704<br>Principal Component 2: 121.03906322709719<br>Principal Component 3: -40.27818167245633",
          "<br>Principal Component 1: -154.10693691352333<br>Principal Component 2: 86.87409914538154<br>Principal Component 3: 51.087463594222356",
          "<br>Principal Component 1: -130.63484202848002<br>Principal Component 2: 156.55309535625804<br>Principal Component 3: 136.37240293587263",
          "<br>Principal Component 1: 13.271105829740108<br>Principal Component 2: 71.6118915629927<br>Principal Component 3: -78.20245146978007",
          "<br>Principal Component 1: -155.43112756781642<br>Principal Component 2: -115.48699851903996<br>Principal Component 3: -139.0550406195723",
          "<br>Principal Component 1: -89.52178011727975<br>Principal Component 2: 263.57373088738717<br>Principal Component 3: 71.77335501228993",
          "<br>Principal Component 1: -69.79693531372183<br>Principal Component 2: -128.2483276732595<br>Principal Component 3: 84.74044949404362",
          "<br>Principal Component 1: -208.84031149502576<br>Principal Component 2: 18.273573250644404<br>Principal Component 3: -153.521070663802",
          "<br>Principal Component 1: 35.27283203211364<br>Principal Component 2: 190.21260625506073<br>Principal Component 3: 71.69955299295265",
          "<br>Principal Component 1: -94.9821209610379<br>Principal Component 2: 43.85613562343514<br>Principal Component 3: -18.891565026605747",
          "<br>Principal Component 1: 19.18109126709055<br>Principal Component 2: -31.586420194510197<br>Principal Component 3: -114.54931618601644",
          "<br>Principal Component 1: 1.5313456571281847<br>Principal Component 2: -100.47441175484494<br>Principal Component 3: 74.210005781431",
          "<br>Principal Component 1: 131.73536983917444<br>Principal Component 2: -7.202472171410363<br>Principal Component 3: -113.70205985922901",
          "<br>Principal Component 1: -117.21225594529834<br>Principal Component 2: -124.72924402846786<br>Principal Component 3: 84.79129323613739",
          "<br>Principal Component 1: 9.948625630375673<br>Principal Component 2: 113.86387645895877<br>Principal Component 3: -5.409543467047712",
          "<br>Principal Component 1: 24.72491843555008<br>Principal Component 2: 116.23788883304644<br>Principal Component 3: -95.82248011404073",
          "<br>Principal Component 1: 69.57838316962989<br>Principal Component 2: -55.69960213255308<br>Principal Component 3: -73.47678260855542",
          "<br>Principal Component 1: -206.3811464784091<br>Principal Component 2: 20.02011583035153<br>Principal Component 3: -150.55675132404298",
          "<br>Principal Component 1: 77.58609221855491<br>Principal Component 2: 4.110324399808064<br>Principal Component 3: -201.67832002865177",
          "<br>Principal Component 1: 228.21430683751532<br>Principal Component 2: 2.5919325017283654<br>Principal Component 3: -18.31528715641187",
          "<br>Principal Component 1: 56.150057631936704<br>Principal Component 2: 121.03906322709719<br>Principal Component 3: -40.27818167245633",
          "<br>Principal Component 1: -148.07309302715908<br>Principal Component 2: -108.86192611591423<br>Principal Component 3: 3.369308467054566",
          "<br>Principal Component 1: -41.156727912776745<br>Principal Component 2: -109.3079919506672<br>Principal Component 3: -58.14759248046448",
          "<br>Principal Component 1: -6.2517122017027305<br>Principal Component 2: -48.39134461634251<br>Principal Component 3: -106.87467211281556",
          "<br>Principal Component 1: 127.64371359980527<br>Principal Component 2: -36.42800131349395<br>Principal Component 3: -50.64346232838187",
          "<br>Principal Component 1: 180.56818226780217<br>Principal Component 2: 90.76910866495507<br>Principal Component 3: -127.52705595230731",
          "<br>Principal Component 1: -76.2304682849003<br>Principal Component 2: -140.42569926061674<br>Principal Component 3: -29.016296947236725",
          "<br>Principal Component 1: -24.17788652019189<br>Principal Component 2: -89.00995062771028<br>Principal Component 3: 60.44195821743904",
          "<br>Principal Component 1: -5.551049590727736<br>Principal Component 2: -105.50445438440136<br>Principal Component 3: 65.67276608292502",
          "<br>Principal Component 1: -124.01442238878973<br>Principal Component 2: 185.7532682051057<br>Principal Component 3: 49.55652111467356",
          "<br>Principal Component 1: -126.47612621617057<br>Principal Component 2: -21.16728557808881<br>Principal Component 3: 57.67306614596873",
          "<br>Principal Component 1: 68.8918572456624<br>Principal Component 2: 128.4205984007085<br>Principal Component 3: -53.54057531260622",
          "<br>Principal Component 1: -124.51279168599419<br>Principal Component 2: -94.1850146204132<br>Principal Component 3: 82.19615754076722",
          "<br>Principal Component 1: 110.01892543498815<br>Principal Component 2: 25.169375185123158<br>Principal Component 3: -192.16771940372286",
          "<br>Principal Component 1: 74.4039223894452<br>Principal Component 2: -69.68765416583653<br>Principal Component 3: 14.937104949574348",
          "<br>Principal Component 1: 282.45031981185906<br>Principal Component 2: -4.691091781149112<br>Principal Component 3: 175.3182328153623",
          "<br>Principal Component 1: 167.60104773454643<br>Principal Component 2: -14.720613523594125<br>Principal Component 3: 9.502051663165417",
          "<br>Principal Component 1: 29.622802210323215<br>Principal Component 2: -29.739540207179175<br>Principal Component 3: -39.428459197107685",
          "<br>Principal Component 1: -66.74774923597869<br>Principal Component 2: -7.312119412521497<br>Principal Component 3: 66.90280002546086",
          "<br>Principal Component 1: -30.759390439696965<br>Principal Component 2: -99.1124371211746<br>Principal Component 3: -165.75188319944715",
          "<br>Principal Component 1: -6.928182000033054<br>Principal Component 2: -106.4825182290374<br>Principal Component 3: 64.01274725266",
          "<br>Principal Component 1: 128.91925174675697<br>Principal Component 2: -44.34908274226041<br>Principal Component 3: 63.03719102711449",
          "<br>Principal Component 1: 54.745346301241<br>Principal Component 2: -75.61132366401011<br>Principal Component 3: -49.682845005825556",
          "<br>Principal Component 1: -85.18955049837719<br>Principal Component 2: -123.5476593831529<br>Principal Component 3: 88.8630831380371",
          "<br>Principal Component 1: 2.3255133698136135<br>Principal Component 2: 134.1264853470957<br>Principal Component 3: 46.85997750238988",
          "<br>Principal Component 1: 139.6280275038542<br>Principal Component 2: 135.08393016100717<br>Principal Component 3: 66.25368028223323",
          "<br>Principal Component 1: -127.45699312651793<br>Principal Component 2: 21.94201179707329<br>Principal Component 3: 65.63517967833229",
          "<br>Principal Component 1: 43.62689686040194<br>Principal Component 2: -37.39414010228461<br>Principal Component 3: -251.72138998674393",
          "<br>Principal Component 1: 97.59875242016426<br>Principal Component 2: -41.81916535220614<br>Principal Component 3: 5.198100695907641",
          "<br>Principal Component 1: -2.712243063881381<br>Principal Component 2: 77.95116669831822<br>Principal Component 3: 42.902906697531535",
          "<br>Principal Component 1: 35.71051018758108<br>Principal Component 2: -55.01185822101286<br>Principal Component 3: -81.3804928200193",
          "<br>Principal Component 1: 26.88643137042719<br>Principal Component 2: 218.33623764607984<br>Principal Component 3: 134.50533939795002",
          "<br>Principal Component 1: 223.48857610597412<br>Principal Component 2: -71.76968238372785<br>Principal Component 3: -171.38696290750846",
          "<br>Principal Component 1: 170.3535901839554<br>Principal Component 2: -12.77112905266722<br>Principal Component 3: 12.790819189098983",
          "<br>Principal Component 1: 84.29307839604962<br>Principal Component 2: -59.867003903572254<br>Principal Component 3: 74.36854743551515",
          "<br>Principal Component 1: -26.402512421050552<br>Principal Component 2: 88.605681291633<br>Principal Component 3: -13.375830391212645",
          "<br>Principal Component 1: 4.625972960098515<br>Principal Component 2: 149.77885398916993<br>Principal Component 3: -3.6816285130989854",
          "<br>Principal Component 1: -84.60678406643297<br>Principal Component 2: -145.42348439233126<br>Principal Component 3: -42.43078025258356",
          "<br>Principal Component 1: 143.78470731261118<br>Principal Component 2: -39.987419309178904<br>Principal Component 3: 39.55629549637172",
          "<br>Principal Component 1: -149.25305725234688<br>Principal Component 2: 114.5244722097301<br>Principal Component 3: -10.729134953327303",
          "<br>Principal Component 1: 84.60747035573709<br>Principal Component 2: -74.806585465446<br>Principal Component 3: 27.138730418089267",
          "<br>Principal Component 1: 65.74370632927457<br>Principal Component 2: -9.708755810995513<br>Principal Component 3: 80.62514531926576",
          "<br>Principal Component 1: -117.43039643813827<br>Principal Component 2: -89.15497199085678<br>Principal Component 3: 90.73339723927319",
          "<br>Principal Component 1: 61.36348746716398<br>Principal Component 2: 124.74173349607628<br>Principal Component 3: -33.99382467216722",
          "<br>Principal Component 1: -27.46894701663276<br>Principal Component 2: 97.94511753248588<br>Principal Component 3: 63.31311246016793",
          "<br>Principal Component 1: 222.1690107056814<br>Principal Component 2: 118.51099730595968<br>Principal Component 3: 94.97161416757666",
          "<br>Principal Component 1: 139.21820163755353<br>Principal Component 2: 153.7223254955215<br>Principal Component 3: -66.57939537975605",
          "<br>Principal Component 1: -27.016676224013253<br>Principal Component 2: 58.10903565632191<br>Principal Component 3: -33.62761645128299",
          "<br>Principal Component 1: 0.762684330865909<br>Principal Component 2: -86.16474954919784<br>Principal Component 3: 103.98772599921352",
          "<br>Principal Component 1: 208.11525591440522<br>Principal Component 2: -91.2111965671968<br>Principal Component 3: 63.37314342285771",
          "<br>Principal Component 1: -102.35015471275352<br>Principal Component 2: -147.97971342790936<br>Principal Component 3: -39.93666123878279",
          "<br>Principal Component 1: -147.69129812302637<br>Principal Component 2: 57.56041837952989<br>Principal Component 3: -4.614922752891118",
          "<br>Principal Component 1: -1.4727562811107475<br>Principal Component 2: 145.44742839149632<br>Principal Component 3: -11.033140475701344",
          "<br>Principal Component 1: 59.56530973380961<br>Principal Component 2: -72.18810020778415<br>Principal Component 3: -43.87277909989791",
          "<br>Principal Component 1: 65.17605529529962<br>Principal Component 2: -37.42599631848577<br>Principal Component 3: -136.88959109001553",
          "<br>Principal Component 1: 116.43522150130713<br>Principal Component 2: -83.30960723173962<br>Principal Component 3: 81.41320723037302",
          "<br>Principal Component 1: 147.87446249604412<br>Principal Component 2: 159.8701553760905<br>Principal Component 3: -56.14499130380432",
          "<br>Principal Component 1: -36.4653749156641<br>Principal Component 2: 49.604651309852215<br>Principal Component 3: -116.98572955833387",
          "<br>Principal Component 1: -90.20029569550586<br>Principal Component 2: -132.18072191983833<br>Principal Component 3: 88.94831067441248",
          "<br>Principal Component 1: -116.934565951698<br>Principal Component 2: -14.390700368825264<br>Principal Component 3: 69.17462518423372",
          "<br>Principal Component 1: 42.62770924131728<br>Principal Component 2: -30.3494031996147<br>Principal Component 3: -60.42180625403134",
          "<br>Principal Component 1: -5.809615910557675<br>Principal Component 2: 44.77445161713621<br>Principal Component 3: -93.24536926400063",
          "<br>Principal Component 1: 116.21602127686208<br>Principal Component 2: 29.570662485985054<br>Principal Component 3: -184.69763466753014",
          "<br>Principal Component 1: 54.35187989858234<br>Principal Component 2: -75.89077047676324<br>Principal Component 3: -50.15713610018702",
          "<br>Principal Component 1: 0.2083386295047518<br>Principal Component 2: 261.6506022332624<br>Principal Component 3: 110.52992957559917",
          "<br>Principal Component 1: -169.41418613325988<br>Principal Component 2: 93.21805647458865<br>Principal Component 3: -65.26525550459576",
          "<br>Principal Component 1: 189.01946628168912<br>Principal Component 2: 94.96760333150786<br>Principal Component 3: 55.01258946762516",
          "<br>Principal Component 1: -142.67356879275263<br>Principal Component 2: 168.94888479081703<br>Principal Component 3: -17.948529473990334",
          "<br>Principal Component 1: -44.111243415692506<br>Principal Component 2: -140.88297101105752<br>Principal Component 3: -40.02817793447727",
          "<br>Principal Component 1: 112.77319025359878<br>Principal Component 2: 27.125502874395124<br>Principal Component 3: -188.84768174319277",
          "<br>Principal Component 1: 199.04491755596368<br>Principal Component 2: 6.410744676250829<br>Principal Component 3: -52.411258907785",
          "<br>Principal Component 1: -47.898779549239485<br>Principal Component 2: 103.61654019552174<br>Principal Component 3: -109.88014429583536",
          "<br>Principal Component 1: -153.57021199876644<br>Principal Component 2: -102.00268679335534<br>Principal Component 3: -139.8468307923767",
          "<br>Principal Component 1: 64.80631849042727<br>Principal Component 2: 127.18689310766621<br>Principal Component 3: -29.843777596504594",
          "<br>Principal Component 1: -9.786916341714182<br>Principal Component 2: -5.337169192893839<br>Principal Component 3: 53.38737893195639",
          "<br>Principal Component 1: -85.77202854937286<br>Principal Component 2: -147.20228446988028<br>Principal Component 3: -40.51785598550171",
          "<br>Principal Component 1: -53.901422454252575<br>Principal Component 2: -117.94581551270312<br>Principal Component 3: 91.44122565184432",
          "<br>Principal Component 1: 19.42553824344924<br>Principal Component 2: -84.13610480486318<br>Principal Component 3: 52.262700656775905",
          "<br>Principal Component 1: 63.47965392842063<br>Principal Component 2: -60.0310277302267<br>Principal Component 3: -80.82829457115778",
          "<br>Principal Component 1: -33.50905229167866<br>Principal Component 2: 53.866700526722354<br>Principal Component 3: -135.75024524513674",
          "<br>Principal Component 1: -112.82691499327143<br>Principal Component 2: 27.366487828427466<br>Principal Component 3: 64.15875582658538",
          "<br>Principal Component 1: 86.32044571383204<br>Principal Component 2: -55.79859647641297<br>Principal Component 3: 70.04519519519192",
          "<br>Principal Component 1: 258.5918020323388<br>Principal Component 2: -5.577048247994981<br>Principal Component 3: 178.10323861552757",
          "<br>Principal Component 1: 56.543524034595364<br>Principal Component 2: 121.31851003985031<br>Principal Component 3: -39.803890578094865",
          "<br>Principal Component 1: 43.23343045774328<br>Principal Component 2: -37.67358691503773<br>Principal Component 3: -252.19568108110536",
          "<br>Principal Component 1: 126.46715504872049<br>Principal Component 2: -45.531016105564845<br>Principal Component 3: 60.17020461989671",
          "<br>Principal Component 1: 189.7894139658833<br>Principal Component 2: -41.4298220058414<br>Principal Component 3: 34.28032536139301",
          "<br>Principal Component 1: -46.86550823430314<br>Principal Component 2: -142.8390987003295<br>Principal Component 3: -43.34821559500736",
          "<br>Principal Component 1: -57.968142746395245<br>Principal Component 2: 82.44150997665804<br>Principal Component 3: 24.08575776717373",
          "<br>Principal Component 1: -149.1081566327537<br>Principal Component 2: -20.639026981486836<br>Principal Component 3: -157.13407853648147",
          "<br>Principal Component 1: -15.08159805599906<br>Principal Component 2: 106.62919752749104<br>Principal Component 3: -182.19956246213917",
          "<br>Principal Component 1: 43.95902615692637<br>Principal Component 2: -72.12463454212525<br>Principal Component 3: 90.40371698970989",
          "<br>Principal Component 1: 31.686225272881998<br>Principal Component 2: -67.9888615649869<br>Principal Component 3: -41.24273499867613",
          "<br>Principal Component 1: -137.33942157688304<br>Principal Component 2: -106.02698301666203<br>Principal Component 3: -109.74121513445839",
          "<br>Principal Component 1: 23.556935471365193<br>Principal Component 2: -81.20191327095517<br>Principal Component 3: 57.24275714757101",
          "<br>Principal Component 1: -47.42271312732774<br>Principal Component 2: -108.82333475683868<br>Principal Component 3: 71.61963740746484",
          "<br>Principal Component 1: -91.58747873123772<br>Principal Component 2: 262.10663512043317<br>Principal Component 3: 69.28332676689234",
          "<br>Principal Component 1: 112.77319025359878<br>Principal Component 2: 27.125502874395124<br>Principal Component 3: -188.84768174319277",
          "<br>Principal Component 1: 18.86968321289295<br>Principal Component 2: 107.12145002537653<br>Principal Component 3: 20.431910422903968",
          "<br>Principal Component 1: 89.99399616956373<br>Principal Component 2: -74.2984265203479<br>Principal Component 3: 39.50438024194648",
          "<br>Principal Component 1: 219.65641257968946<br>Principal Component 2: -3.4860356756523743<br>Principal Component 3: -28.631118458773244",
          "<br>Principal Component 1: 18.161219105835556<br>Principal Component 2: -75.60651538953812<br>Principal Component 3: -18.84889790874996",
          "<br>Principal Component 1: 167.59932536534475<br>Principal Component 2: -14.727256741939186<br>Principal Component 3: 9.470781528568892",
          "<br>Principal Component 1: 115.88532629195717<br>Principal Component 2: -81.7300779088149<br>Principal Component 3: 76.44187656711392",
          "<br>Principal Component 1: 228.82338443378427<br>Principal Component 2: -7.299210182828006<br>Principal Component 3: 91.82635945216242",
          "<br>Principal Component 1: 58.60922264855334<br>Principal Component 2: 122.78560580680431<br>Principal Component 3: -37.31386233269731",
          "<br>Principal Component 1: 258.78853523366814<br>Principal Component 2: -5.43732484161842<br>Principal Component 3: 178.3403841627083",
          "<br>Principal Component 1: 116.21602127686208<br>Principal Component 2: 29.570662485985054<br>Principal Component 3: -184.69763466753014",
          "<br>Principal Component 1: -28.799979596733696<br>Principal Component 2: 48.45338130046133<br>Principal Component 3: -74.08333910733415",
          "<br>Principal Component 1: 59.56530973380961<br>Principal Component 2: -72.18810020778415<br>Principal Component 3: -43.87277909989791",
          "<br>Principal Component 1: -26.842476553278274<br>Principal Component 2: 242.43863385648422<br>Principal Component 3: 77.92241683825006",
          "<br>Principal Component 1: 127.25024719714659<br>Principal Component 2: -36.70744812624707<br>Principal Component 3: -51.117753422743334",
          "<br>Principal Component 1: -21.58254898848194<br>Principal Component 2: 92.02890474785897<br>Principal Component 3: -7.565764485285001",
          "<br>Principal Component 1: -62.684349709365165<br>Principal Component 2: -4.282230390433256<br>Principal Component 3: 71.80246046367847",
          "<br>Principal Component 1: -121.2626963809433<br>Principal Component 2: -17.464615309109718<br>Principal Component 3: 63.95742314625784",
          "<br>Principal Component 1: -48.51049752740555<br>Principal Component 2: -100.95058185142159<br>Principal Component 3: -53.105042565859634",
          "<br>Principal Component 1: -23.096648852512104<br>Principal Component 2: -88.24453799341381<br>Principal Component 3: 61.731826357119246",
          "<br>Principal Component 1: 86.67863548208771<br>Principal Component 2: -74.76495452256836<br>Principal Component 3: -80.5647098701304",
          "<br>Principal Component 1: 230.6670234066928<br>Principal Component 2: -60.30729821406942<br>Principal Component 3: -208.15973369733342",
          "<br>Principal Component 1: 68.67224691167816<br>Principal Component 2: 89.69955013125991<br>Principal Component 3: 43.65939556598681",
          "<br>Principal Component 1: 289.9261814623736<br>Principal Component 2: 0.6183976611605431<br>Principal Component 3: 184.3297636082297",
          "<br>Principal Component 1: -172.65086831037934<br>Principal Component 2: -1.5877312040925062<br>Principal Component 3: -152.06778105276538",
          "<br>Principal Component 1: -66.52603700422115<br>Principal Component 2: 76.3635417992773<br>Principal Component 3: 13.769926464812357",
          "<br>Principal Component 1: 66.82615863170442<br>Principal Component 2: 126.95350263375451<br>Principal Component 3: -56.030603558003776",
          "<br>Principal Component 1: -101.4941687545786<br>Principal Component 2: -85.80053980194725<br>Principal Component 3: 91.41692589528628",
          "<br>Principal Component 1: 128.92498648077077<br>Principal Component 2: -9.92317238015778<br>Principal Component 3: -117.4463340707903",
          "<br>Principal Component 1: -130.54400860653064<br>Principal Component 2: 156.38892567678369<br>Principal Component 3: 136.731466483629",
          "<br>Principal Component 1: -66.13257060156249<br>Principal Component 2: 76.64298861203042<br>Principal Component 3: 14.24421755917382",
          "<br>Principal Component 1: -14.682697236185376<br>Principal Component 2: 114.56707260159095<br>Principal Component 3: 52.604257486658526",
          "<br>Principal Component 1: -9.005977020313367<br>Principal Component 2: -50.347472305614474<br>Principal Component 3: -110.19470977334566",
          "<br>Principal Component 1: -191.0930633725152<br>Principal Component 2: 50.77264061672474<br>Principal Component 3: -109.20398028883558",
          "<br>Principal Component 1: -31.211183688255698<br>Principal Component 2: 26.243879739521844<br>Principal Component 3: -21.719624946027324",
          "<br>Principal Component 1: 118.74219691441891<br>Principal Component 2: -40.60617869435919<br>Principal Component 3: 17.43374453770582",
          "<br>Principal Component 1: 111.67016331998514<br>Principal Component 2: 107.2096548452937<br>Principal Component 3: 196.10982857950552",
          "<br>Principal Component 1: -48.31144331762059<br>Principal Component 2: -98.22111129701148<br>Principal Component 3: -50.98912792902229",
          "<br>Principal Component 1: -118.80765699972457<br>Principal Component 2: 184.51516883113345<br>Principal Component 3: 62.53771136673623",
          "<br>Principal Component 1: 267.346429491494<br>Principal Component 2: 0.64064333576232<br>Principal Component 3: 188.6562154650697",
          "<br>Principal Component 1: -133.50269212502968<br>Principal Component 2: -48.16418663699346<br>Principal Component 3: 47.13093458731544",
          "<br>Principal Component 1: -85.6888166737443<br>Principal Component 2: -146.19196312740235<br>Principal Component 3: -43.73508076207753",
          "<br>Principal Component 1: 20.802670652754557<br>Principal Component 2: -83.15804096022714<br>Principal Component 3: 53.92271948704092",
          "<br>Principal Component 1: -132.87094810156617<br>Principal Component 2: 62.708382256320704<br>Principal Component 3: 89.2926866129684",
          "<br>Principal Component 1: -115.00676235742088<br>Principal Component 2: 15.23884024644883<br>Principal Component 3: -61.32330144369806",
          "<br>Principal Component 1: 281.7617536072064<br>Principal Component 2: -5.180123703467075<br>Principal Component 3: 174.48822340022974",
          "<br>Principal Component 1: 12.721798941836397<br>Principal Component 2: -80.27918355191582<br>Principal Component 3: -119.8960661683469",
          "<br>Principal Component 1: -86.33491114894294<br>Principal Component 2: 274.0620160008569<br>Principal Component 3: 31.720696222445895",
          "<br>Principal Component 1: -99.78658780268756<br>Principal Component 2: -73.4526828385201<br>Principal Component 3: 83.08282109655102",
          "<br>Principal Component 1: -154.4500967110336<br>Principal Component 2: 35.699328565715064<br>Principal Component 3: -7.424078746115754",
          "<br>Principal Component 1: -116.24054810031338<br>Principal Component 2: 111.85951945035606<br>Principal Component 3: 110.22415152393347",
          "<br>Principal Component 1: -24.178681459823423<br>Principal Component 2: -89.0130167284849<br>Principal Component 3: 60.42752584762525",
          "<br>Principal Component 1: 177.12535124453888<br>Principal Component 2: 88.32394905336514<br>Principal Component 3: -131.6771030279699",
          "<br>Principal Component 1: -55.651162274207934<br>Principal Component 2: 181.87086637458714<br>Principal Component 3: 63.665934433932705",
          "<br>Principal Component 1: -145.0172808021447<br>Principal Component 2: 146.2444842579909<br>Principal Component 3: -30.096744330804142",
          "<br>Principal Component 1: 48.6982301177413<br>Principal Component 2: -100.05360283884181<br>Principal Component 3: -73.00055405106826",
          "<br>Principal Component 1: -80.21766416605482<br>Principal Component 2: -79.5920045557042<br>Principal Component 3: -16.60609431273849",
          "<br>Principal Component 1: 170.3535901839554<br>Principal Component 2: -12.77112905266722<br>Principal Component 3: 12.790819189098983",
          "<br>Principal Component 1: 132.96305639042194<br>Principal Component 2: 43.95425452895773<br>Principal Component 3: -70.0744890049784",
          "<br>Principal Component 1: 56.543524034595364<br>Principal Component 2: 121.31851003985031<br>Principal Component 3: -39.803890578094865",
          "<br>Principal Component 1: 110.01892543498815<br>Principal Component 2: 25.169375185123158<br>Principal Component 3: -192.16771940372286",
          "<br>Principal Component 1: -81.74076803834463<br>Principal Component 2: -126.17261544564587<br>Principal Component 3: 99.14556920318347",
          "<br>Principal Component 1: 67.51511000542536<br>Principal Component 2: -70.22684528790091<br>Principal Component 3: 56.741365048761566",
          "<br>Principal Component 1: -14.637121195350865<br>Principal Component 2: -82.23643151922136<br>Principal Component 3: 71.92908488589023",
          "<br>Principal Component 1: 298.77917552219355<br>Principal Component 2: 6.905950948106124<br>Principal Component 3: 195.00131323136213",
          "<br>Principal Component 1: -80.55859871414559<br>Principal Component 2: -143.4996142009012<br>Principal Component 3: -34.233498985212606",
          "<br>Principal Component 1: -175.05663096505378<br>Principal Component 2: 118.57720187083982<br>Principal Component 3: -165.36370042362284",
          "<br>Principal Component 1: 48.446860292970555<br>Principal Component 2: -33.97091664605864<br>Principal Component 3: -245.91132408081626",
          "<br>Principal Component 1: -118.96484196797567<br>Principal Component 2: -73.97683428456992<br>Principal Component 3: 43.44010617588776",
          "<br>Principal Component 1: -133.26020649409085<br>Principal Component 2: -155.93371399238333<br>Principal Component 3: -24.283840827469106",
          "<br>Principal Component 1: -126.97195670261083<br>Principal Component 2: -95.93155720012032<br>Principal Component 3: 79.2318382010082",
          "<br>Principal Component 1: -158.19619942120497<br>Principal Component 2: 150.20942933082137<br>Principal Component 3: -61.94621474823822",
          "<br>Principal Component 1: 4.3164058440733015<br>Principal Component 2: -52.4884659341061<br>Principal Component 3: -17.65978682122565",
          "<br>Principal Component 1: -39.78311298644722<br>Principal Component 2: -137.80905607077307<br>Principal Component 3: -34.81097589650139",
          "<br>Principal Component 1: 62.14093420652529<br>Principal Component 2: -52.10202271654589<br>Principal Component 3: -20.092603899598487",
          "<br>Principal Component 1: -15.0720409280039<br>Principal Component 2: -92.56291872710472<br>Principal Component 3: 106.37519541369778",
          "<br>Principal Component 1: 131.6792512993814<br>Principal Component 2: -7.967044690885814<br>Principal Component 3: -114.1262964102602",
          "<br>Principal Component 1: 96.50202626616553<br>Principal Component 2: -31.174138866156454<br>Principal Component 3: 2.089920887116733",
          "<br>Principal Component 1: 62.48187598287866<br>Principal Component 2: -66.75979339042362<br>Principal Component 3: -37.13237947585108",
          "<br>Principal Component 1: -162.96104714535142<br>Principal Component 2: 115.25150633215873<br>Principal Component 3: -22.397944833479897",
          "<br>Principal Component 1: -62.947241197672234<br>Principal Component 2: -107.92477823924185<br>Principal Component 3: 78.34332339042476",
          "<br>Principal Component 1: -131.78512355576322<br>Principal Component 2: 18.86809685678884<br>Principal Component 3: 60.41797764035641",
          "<br>Principal Component 1: -132.83365390556554<br>Principal Component 2: -107.00561882322575<br>Principal Component 3: 9.507852573815711",
          "<br>Principal Component 1: 7.149054162051172<br>Principal Component 2: -79.82659771071303<br>Principal Component 3: -55.3543716842008",
          "<br>Principal Component 1: 114.69984738912868<br>Principal Component 2: -18.24972377632389<br>Principal Component 3: 24.025884001333452",
          "<br>Principal Component 1: -150.49427757761885<br>Principal Component 2: -125.88605937396278<br>Principal Component 3: -36.735616233331996",
          "<br>Principal Component 1: -100.58570037104957<br>Principal Component 2: 239.01148306973442<br>Principal Component 3: 40.77087766703505",
          "<br>Principal Component 1: 61.36348746716398<br>Principal Component 2: 124.74173349607628<br>Principal Component 3: -33.99382467216722",
          "<br>Principal Component 1: -29.20471580693863<br>Principal Component 2: 48.36111475964651<br>Principal Component 3: -74.0208584197527",
          "<br>Principal Component 1: 26.714937774287748<br>Principal Component 2: 184.13463807768<br>Principal Component 3: 61.383721690591244",
          "<br>Principal Component 1: -107.67069568082579<br>Principal Component 2: -117.95265881920432<br>Principal Component 3: 96.29285227440238",
          "<br>Principal Component 1: 252.9746830480164<br>Principal Component 2: -1.1436009996801886<br>Principal Component 3: 83.41939601204638",
          "<br>Principal Component 1: 242.44393568677532<br>Principal Component 2: 57.71560633272816<br>Principal Component 3: 48.63298237022201",
          "<br>Principal Component 1: -34.20417935139179<br>Principal Component 2: -82.27501121245257<br>Principal Component 3: 75.40129141701061",
          "<br>Principal Component 1: 139.6116680402122<br>Principal Component 2: 154.0017723082746<br>Principal Component 3: -66.10510428539459",
          "<br>Principal Component 1: 133.0551250637498<br>Principal Component 2: -24.10268517855559<br>Principal Component 3: -34.71732451517619",
          "<br>Principal Component 1: -46.05133251078891<br>Principal Component 2: -99.20403927171446<br>Principal Component 3: -50.14072322610062",
          "<br>Principal Component 1: 204.36039408789702<br>Principal Component 2: 25.62162701884722<br>Principal Component 3: -92.61704518473752",
          "<br>Principal Component 1: 203.86488098853226<br>Principal Component 2: 9.833968132476798<br>Principal Component 3: -46.601193001857354",
          "<br>Principal Component 1: 74.14326119529161<br>Principal Component 2: 1.665164788218135<br>Principal Component 3: -205.8283671043144",
          "<br>Principal Component 1: 41.63476615737922<br>Principal Component 2: -74.14074790033419<br>Principal Component 3: 88.81398290698542",
          "<br>Principal Component 1: -35.94329807754947<br>Principal Component 2: -105.60532168168811<br>Principal Component 3: -51.863235480175376",
          "<br>Principal Component 1: 80.17317055583106<br>Principal Component 2: -42.77118159541169<br>Principal Component 3: -17.59315952888312",
          "<br>Principal Component 1: 92.99085354462991<br>Principal Component 2: 177.15638467977845<br>Principal Component 3: 80.81480875737122",
          "<br>Principal Component 1: -134.584724732341<br>Principal Component 2: -48.93266537206455<br>Principal Component 3: 45.82663407782144",
          "<br>Principal Component 1: 148.4810215636741<br>Principal Component 2: 141.37148344795276<br>Principal Component 3: 76.92522990536565",
          "<br>Principal Component 1: 166.30950980196872<br>Principal Component 2: 38.731261447284396<br>Principal Component 3: 48.10761902591031",
          "<br>Principal Component 1: -6.069941081642199<br>Principal Component 2: 44.92879209801549<br>Principal Component 3: -92.81857886793651",
          "<br>Principal Component 1: -76.14725640927173<br>Principal Component 2: -139.4153779181388<br>Principal Component 3: -32.233521723812544",
          "<br>Principal Component 1: -78.45653304126233<br>Principal Component 2: 51.51438659516981<br>Principal Component 3: -14.338117958702867",
          "<br>Principal Component 1: 81.46520564686043<br>Principal Component 2: -78.46762479154745<br>Principal Component 3: -86.8490668704195",
          "<br>Principal Component 1: 41.89332754296839<br>Principal Component 2: -73.59173030907925<br>Principal Component 3: 87.91368874431231",
          "<br>Principal Component 1: 33.29017785977463<br>Principal Component 2: -50.893740942998875<br>Principal Component 3: -141.64224241224576",
          "<br>Principal Component 1: -23.09585391288057<br>Principal Component 2: -88.2414718926392<br>Principal Component 3: 61.746258726933036",
          "<br>Principal Component 1: 165.1401603487281<br>Principal Component 2: -16.47379932164631<br>Principal Component 3: 6.506462188809877",
          "<br>Principal Component 1: 77.52524097149805<br>Principal Component 2: 95.98710341820549<br>Principal Component 3: 54.33094518911929",
          "<br>Principal Component 1: 42.10375954030307<br>Principal Component 2: -79.0345403242228<br>Principal Component 3: -11.07084645622919",
          "<br>Principal Component 1: 157.88860483401223<br>Principal Component 2: -44.286601299273<br>Principal Component 3: 141.09007116012293",
          "<br>Principal Component 1: 24.5024338713271<br>Principal Component 2: 116.03071436244574<br>Principal Component 3: -95.79180210881674",
          "<br>Principal Component 1: 14.681644171929833<br>Principal Component 2: -91.53554183952565<br>Principal Component 3: 65.69952600314264",
          "<br>Principal Component 1: -143.08783529078488<br>Principal Component 2: 19.86212557244096<br>Principal Component 3: -1.8068296035004323",
          "<br>Principal Component 1: -89.08551842328825<br>Principal Component 2: 24.275757832131603<br>Principal Component 3: 93.6992867997779",
          "<br>Principal Component 1: 165.53362675138678<br>Principal Component 2: -16.19435250889319<br>Principal Component 3: 6.980753283171339",
          "<br>Principal Component 1: 96.45451756304362<br>Principal Component 2: 3.16156407550568<br>Principal Component 3: -96.9344607078643",
          "<br>Principal Component 1: 62.89503011167935<br>Principal Component 2: -77.8614734388658<br>Principal Component 3: 1.0640904395021664",
          "<br>Principal Component 1: -74.88747666750211<br>Principal Component 2: 45.016242741598035<br>Principal Component 3: -5.3044024532023",
          "<br>Principal Component 1: -58.84231054061382<br>Principal Component 2: -110.4880812669386<br>Principal Component 3: -40.01742990825815",
          "<br>Principal Component 1: -125.39409360885925<br>Principal Component 2: -20.398806843017724<br>Principal Component 3: 58.97736665546273",
          "<br>Principal Component 1: -28.300225423080324<br>Principal Component 2: -97.36589454146747<br>Principal Component 3: -162.78756385968813",
          "<br>Principal Component 1: -31.515652669293754<br>Principal Component 2: 36.86663856779978<br>Principal Component 3: -24.633880596197116",
          "<br>Principal Component 1: 33.097278593915306<br>Principal Component 2: -50.866611090296374<br>Principal Component 3: -141.2606860332843",
          "<br>Principal Component 1: -26.66588006113767<br>Principal Component 2: 48.5332213720377<br>Principal Component 3: -31.44564006531118",
          "<br>Principal Component 1: 221.5036853158581<br>Principal Component 2: 0.42543554648045756<br>Principal Component 3: -23.104326424201417",
          "<br>Principal Component 1: -40.21876890926562<br>Principal Component 2: -104.97203082752844<br>Principal Component 3: -61.60302167096853",
          "<br>Principal Component 1: -88.82316328620054<br>Principal Component 2: -131.2026580752023<br>Principal Component 3: 90.6083295046775",
          "<br>Principal Component 1: -76.00880779195512<br>Principal Component 2: -57.214636605917235<br>Principal Component 3: 37.490977335829314",
          "<br>Principal Component 1: -0.2453560772416239<br>Principal Component 2: 1.4394160163697052<br>Principal Component 3: 64.88893797022138",
          "<br>Principal Component 1: 93.83846759551636<br>Principal Component 2: -60.87385626359912<br>Principal Component 3: -59.65569578019873",
          "<br>Principal Component 1: 43.57470722996561<br>Principal Component 2: -58.86232758719609<br>Principal Component 3: -33.04265062854071",
          "<br>Principal Component 1: 3.0575856088156783<br>Principal Component 2: -105.87264414966648<br>Principal Component 3: -63.152259841672134",
          "<br>Principal Component 1: -39.83415932098889<br>Principal Component 2: -130.2051403684518<br>Principal Component 3: 77.52200152484704",
          "<br>Principal Component 1: 283.8274522211644<br>Principal Component 2: -3.713027936513072<br>Principal Component 3: 176.97825164562732",
          "<br>Principal Component 1: -10.595410675967074<br>Principal Component 2: -101.1318231206036<br>Principal Component 3: 71.32791185607891",
          "<br>Principal Component 1: -18.363780286439678<br>Principal Component 2: -87.6126979023569<br>Principal Component 3: 80.5481320156901",
          "<br>Principal Component 1: 295.9459177291505<br>Principal Component 2: -5.421215931065035<br>Principal Component 3: 172.3326236283724",
          "<br>Principal Component 1: -87.94381531698782<br>Principal Component 2: -125.50378707242487<br>Principal Component 3: 85.54304547750701",
          "<br>Principal Component 1: 81.85814208976473<br>Principal Component 2: -78.19022204597752<br>Principal Component 3: -86.38439735593394",
          "<br>Principal Component 1: -117.07246097137886<br>Principal Component 2: 13.771744479494828<br>Principal Component 3: -63.81332968909561",
          "<br>Principal Component 1: -111.99882611007106<br>Principal Component 2: -121.02657375948877<br>Principal Component 3: 91.0756502364265",
          "<br>Principal Component 1: 40.74232450408118<br>Principal Component 2: -74.77075345618255<br>Principal Component 3: -52.27152917980004",
          "<br>Principal Component 1: -15.112529297866573<br>Principal Component 2: -83.19911901716921<br>Principal Component 3: -55.77868538540827",
          "<br>Principal Component 1: -90.2072738253033<br>Principal Component 2: -131.00647034470046<br>Principal Component 3: 88.3508376827184",
          "<br>Principal Component 1: -154.01796151041822<br>Principal Component 2: -102.15941908348827<br>Principal Component 3: -139.9553542284401",
          "<br>Principal Component 1: -20.35730346990014<br>Principal Component 2: -122.17186568481577<br>Principal Component 3: -59.381027694743864",
          "<br>Principal Component 1: 10.26263392521976<br>Principal Component 2: -82.02572613162295<br>Principal Component 3: -122.86038550810592",
          "<br>Principal Component 1: 86.3587770100076<br>Principal Component 2: -58.39990813661825<br>Principal Component 3: 76.85857568091274",
          "<br>Principal Component 1: -61.36873675350846<br>Principal Component 2: -121.04967675050352<br>Principal Component 3: 82.73463955874206",
          "<br>Principal Component 1: 43.700464771337195<br>Principal Component 2: -72.67365213338019<br>Principal Component 3: 91.304011152383",
          "<br>Principal Component 1: -42.6341659032363<br>Principal Component 2: -89.08074278616323<br>Principal Component 3: 65.58942684061049",
          "<br>Principal Component 1: 124.70026193459003<br>Principal Component 2: 38.085871461141835<br>Principal Component 3: -80.03460198656867",
          "<br>Principal Component 1: -43.297067692178274<br>Principal Component 2: -97.2479115824425<br>Principal Component 3: -46.82068556557053",
          "<br>Principal Component 1: -11.465142036930004<br>Principal Component 2: -52.0940148853216<br>Principal Component 3: -113.15902911310468",
          "<br>Principal Component 1: 81.95919373786865<br>Principal Component 2: -76.95878098872129<br>Principal Component 3: 23.624730994808885",
          "<br>Principal Component 1: -149.60492947833197<br>Principal Component 2: 92.93837861998759<br>Principal Component 3: 39.826365478391665",
          "<br>Principal Component 1: -148.40610234989305<br>Principal Component 2: 126.57407625875203<br>Principal Component 3: -56.858893769540686",
          "<br>Principal Component 1: -85.03762759862343<br>Principal Component 2: -83.01522801193016<br>Principal Component 3: -22.416160218666136",
          "<br>Principal Component 1: -101.3866995652371<br>Principal Component 2: -143.47462499007474<br>Principal Component 3: -43.63181801302488",
          "<br>Principal Component 1: -139.28792100425582<br>Principal Component 2: 143.84043532766663<br>Principal Component 3: 25.148122317930074",
          "<br>Principal Component 1: -67.30183819777506<br>Principal Component 2: -116.49618774113105<br>Principal Component 3: -50.21468843702917",
          "<br>Principal Component 1: -154.82540848338522<br>Principal Component 2: 35.6005665913915<br>Principal Component 3: -7.215446997506518",
          "<br>Principal Component 1: -110.60444227091517<br>Principal Component 2: -87.64434912397996<br>Principal Component 3: 96.92191248449677",
          "<br>Principal Component 1: 15.427118436622948<br>Principal Component 2: 112.03991782977488<br>Principal Component 3: 36.099509024458825",
          "<br>Principal Component 1: -97.13672487752626<br>Principal Component 2: -144.27704315893027<br>Principal Component 3: -33.652304238493684",
          "<br>Principal Component 1: 83.89526692835446<br>Principal Component 2: -78.62985211802152<br>Principal Component 3: 32.15286827934409",
          "<br>Principal Component 1: 131.46359964868697<br>Principal Component 2: 129.28540879637956<br>Principal Component 3: 56.412140074233264",
          "<br>Principal Component 1: -131.11343457538737<br>Principal Component 2: -108.30001360314475<br>Principal Component 3: 44.1080097622372",
          "<br>Principal Component 1: 116.28303189780226<br>Principal Component 2: -42.35272127406631<br>Principal Component 3: 14.469425197946805",
          "<br>Principal Component 1: -68.41980290441651<br>Principal Component 2: -127.27026382862346<br>Principal Component 3: 86.40046832430863",
          "<br>Principal Component 1: 38.14799270627333<br>Principal Component 2: -77.0622969064924<br>Principal Component 3: -54.84159026342596",
          "<br>Principal Component 1: 60.98559554761141<br>Principal Component 2: -46.49680612286977<br>Principal Component 3: -12.05526970304689",
          "<br>Principal Component 1: -152.04057998235916<br>Principal Component 2: 164.91001154301205<br>Principal Component 3: -120.00981612562221",
          "<br>Principal Component 1: -0.9147977229421898<br>Principal Component 2: -87.86209460482326<br>Principal Component 3: 101.72251358660662",
          "<br>Principal Component 1: 174.37108642592824<br>Principal Component 2: 86.36782136409317<br>Principal Component 3: -134.99714068850002",
          "<br>Principal Component 1: -41.2865745992477<br>Principal Component 2: -87.30505384200899<br>Principal Component 3: 66.86405171850464",
          "<br>Principal Component 1: -137.16723000421558<br>Principal Component 2: 138.33977435389295<br>Principal Component 3: 75.38421382249749",
          "<br>Principal Component 1: -151.9469060544836<br>Principal Component 2: 51.55860631521756<br>Principal Component 3: -12.201672068011362",
          "<br>Principal Component 1: 82.14830533912044<br>Principal Component 2: -76.55312804515313<br>Principal Component 3: 24.17441107833025",
          "<br>Principal Component 1: -147.47644581876136<br>Principal Component 2: 144.49794167828378<br>Principal Component 3: -33.06106367056316",
          "<br>Principal Component 1: -168.67126169093427<br>Principal Component 2: 88.79988962968451<br>Principal Component 3: -17.18377661613485",
          "<br>Principal Component 1: -62.360950111413814<br>Principal Component 2: -123.95392198689558<br>Principal Component 3: 81.24396712307333",
          "<br>Principal Component 1: 71.03977024070456<br>Principal Component 2: -60.681825213042885<br>Principal Component 3: -26.816548173489707",
          "<br>Principal Component 1: 43.23877131005537<br>Principal Component 2: -66.46767173956948<br>Principal Component 3: 74.542125960043",
          "<br>Principal Component 1: -123.29297239722095<br>Principal Component 2: -77.05074922485437<br>Principal Component 3: 38.22290413791188",
          "<br>Principal Component 1: 123.6938747484819<br>Principal Component 2: -30.79658097075412<br>Principal Component 3: 43.44719177694475",
          "<br>Principal Component 1: -0.9214526754826267<br>Principal Component 2: 77.83459731770478<br>Principal Component 3: -8.898687875618691",
          "<br>Principal Component 1: 12.534926664355694<br>Principal Component 2: -67.37206265170767<br>Principal Component 3: -93.26854257541808",
          "<br>Principal Component 1: -46.306335211064706<br>Principal Component 2: 188.50772817747418<br>Principal Component 3: 74.93034792501692",
          "<br>Principal Component 1: 93.01694009307369<br>Principal Component 2: -59.829020093849635<br>Principal Component 3: 51.00448469615037",
          "<br>Principal Component 1: 25.7910734406489<br>Principal Component 2: 114.51588677646765<br>Principal Component 3: -39.542885160259345",
          "<br>Principal Component 1: 92.75184157929093<br>Principal Component 2: -39.9193654975378<br>Principal Component 3: -9.158533125868587",
          "<br>Principal Component 1: -120.14600253538774<br>Principal Component 2: -94.42093433324351<br>Principal Component 3: 85.42035344623179",
          "<br>Principal Component 1: 84.1729156766641<br>Principal Component 2: -59.73678241738196<br>Principal Component 3: 74.4015717561204",
          "<br>Principal Component 1: -46.175841192148816<br>Principal Component 2: -134.36498669986872<br>Principal Component 3: -53.7303837153097",
          "<br>Principal Component 1: 166.67884268663724<br>Principal Component 2: 154.29589853778538<br>Principal Component 3: 98.86119301958234",
          "<br>Principal Component 1: 276.19942355131394<br>Principal Component 2: 6.928196622707901<br>Principal Component 3: 199.3277650882021",
          "<br>Principal Component 1: -46.54726191628834<br>Principal Component 2: -131.81602287104943<br>Principal Component 3: -49.74773513028498",
          "<br>Principal Component 1: -129.37129489711373<br>Principal Component 2: -45.22999510308546<br>Principal Component 3: 52.110991078110544",
          "<br>Principal Component 1: 117.95102490591515<br>Principal Component 2: -80.2629821418609<br>Principal Component 3: 78.9319048125115",
          "<br>Principal Component 1: 261.24770025028477<br>Principal Component 2: -3.690782261911295<br>Principal Component 3: 181.3047035024673",
          "<br>Principal Component 1: -64.06687198760451<br>Principal Component 2: 78.11008437898442<br>Principal Component 3: 16.734245804571373",
          "<br>Principal Component 1: -30.3659240370383<br>Principal Component 2: -98.83299030842147<br>Principal Component 3: -165.27759210508572",
          "<br>Principal Component 1: -59.355363825757316<br>Principal Component 2: 60.375256727585906<br>Principal Component 3: 77.2689262580513",
          "<br>Principal Component 1: -113.24409234360871<br>Principal Component 2: 219.1408747994805<br>Principal Component 3: -3.8073779182387852",
          "<br>Principal Component 1: -66.58688060305276<br>Principal Component 2: -118.46846465726412<br>Principal Component 3: 86.85405564800385",
          "<br>Principal Component 1: -91.28930643261461<br>Principal Component 2: -131.77494907977155<br>Principal Component 3: 87.04653717322441",
          "<br>Principal Component 1: 284.7936306946371<br>Principal Component 2: -10.352340987919092<br>Principal Component 3: 70.33833543212211",
          "<br>Principal Component 1: 64.80631849042727<br>Principal Component 2: 127.18689310766621<br>Principal Component 3: -29.843777596504594",
          "<br>Principal Component 1: -74.6316753826498<br>Principal Component 2: -56.236572761281195<br>Principal Component 3: 39.15099616609433",
          "<br>Principal Component 1: 10.65610032787842<br>Principal Component 2: -81.74627931886982<br>Principal Component 3: -122.38609441374447",
          "<br>Principal Component 1: -184.00394472492056<br>Principal Component 2: 56.35116493485464<br>Principal Component 3: -55.992101139138526",
          "<br>Principal Component 1: -98.52000175709159<br>Principal Component 2: 240.47857883668843<br>Principal Component 3: 43.260905912432634",
          "<br>Principal Component 1: 58.60922264855334<br>Principal Component 2: 122.78560580680431<br>Principal Component 3: -37.31386233269731",
          "<br>Principal Component 1: -100.74297651165085<br>Principal Component 2: 83.52915318331151<br>Principal Component 3: 77.5827031300293",
          "<br>Principal Component 1: -144.89557759416132<br>Principal Component 2: 128.3689616140391<br>Principal Component 3: 12.054286058382218",
          "<br>Principal Component 1: 303.42177937966505<br>Principal Component 2: -0.11172648875538016<br>Principal Component 3: 181.3441544212398",
          "<br>Principal Component 1: -152.4870515936644<br>Principal Component 2: 90.73455591543865<br>Principal Component 3: 95.7935536158563",
          "<br>Principal Component 1: -131.22567443460395<br>Principal Component 2: -108.44649113780645<br>Principal Component 3: 44.14136985114925",
          "<br>Principal Component 1: 154.62281210402918<br>Principal Component 2: 53.43349343081559<br>Principal Component 3: -174.83191531462174",
          "<br>Principal Component 1: 3.903201297536505<br>Principal Component 2: -105.74840304903466<br>Principal Component 3: -52.81864079272029",
          "<br>Principal Component 1: -125.04316446786844<br>Principal Component 2: -42.156080162801004<br>Principal Component 3: 57.328193116086425",
          "<br>Principal Component 1: -26.525273848124787<br>Principal Component 2: 121.97674272912877<br>Principal Component 3: 43.80682042137789",
          "<br>Principal Component 1: -33.59977531828942<br>Principal Component 2: -92.26145430965869<br>Principal Component 3: -63.630166018197656",
          "<br>Principal Component 1: -115.30979095756669<br>Principal Component 2: 217.6737790325265<br>Principal Component 3: -6.297406163636339",
          "<br>Principal Component 1: 59.289523579591005<br>Principal Component 2: -29.552249694723287<br>Principal Component 3: 90.52632008555253",
          "<br>Principal Component 1: -135.1015313902576<br>Principal Component 2: 139.80687012084695<br>Principal Component 3: 77.87424206789507",
          "<br>Principal Component 1: -43.71667617553218<br>Principal Component 2: -132.6184441201616<br>Principal Component 3: -50.766064375550684",
          "<br>Principal Component 1: 165.53362675138678<br>Principal Component 2: -16.19435250889319<br>Principal Component 3: 6.980753283171339",
          "<br>Principal Component 1: 20.496180142742347<br>Principal Component 2: -57.909182463010325<br>Principal Component 3: -12.855341345697724",
          "<br>Principal Component 1: 117.26518177640605<br>Principal Component 2: -51.61250000693565<br>Principal Component 3: 66.50489125008897",
          "<br>Principal Component 1: -75.13222087378969<br>Principal Component 2: -120.02575151374458<br>Principal Component 3: 70.7214164411202",
          "<br>Principal Component 1: -21.718721503575253<br>Principal Component 2: -87.26340804800316<br>Principal Component 3: 63.40627755719805",
          "<br>Principal Component 1: -96.17326973000982<br>Principal Component 2: -139.77195472109565<br>Principal Component 3: -37.34746101273578",
          "<br>Principal Component 1: -147.81020884559092<br>Principal Component 2: 38.507255834113096<br>Principal Component 3: 99.74663614003822",
          "<br>Principal Component 1: -17.8981384532835<br>Principal Component 2: -120.42532310510865<br>Principal Component 3: -56.41670835498485",
          "<br>Principal Component 1: -14.636326255719332<br>Principal Component 2: -82.23336541844674<br>Principal Component 3: 71.94351725570402",
          "<br>Principal Component 1: 81.46467568710605<br>Principal Component 2: -78.46966885873064<br>Principal Component 3: -86.8586884502954",
          "<br>Principal Component 1: 281.36828720454776<br>Principal Component 2: -5.459570516220197<br>Principal Component 3: 174.0139323058683",
          "<br>Principal Component 1: -112.36035159394547<br>Principal Component 2: -89.04423958553582<br>Principal Component 3: 164.61338738657247",
          "<br>Principal Component 1: -153.37704318289656<br>Principal Component 2: 23.058529345340958<br>Principal Component 3: -101.67736368764488",
          "<br>Principal Component 1: 64.80631849042727<br>Principal Component 2: 127.18689310766621<br>Principal Component 3: -29.843777596504594",
          "<br>Principal Component 1: 39.174411294615226<br>Principal Component 2: 102.18414081276791<br>Principal Component 3: 58.67228099926842",
          "<br>Principal Component 1: -24.45957523416681<br>Principal Component 2: 123.44383849608278<br>Principal Component 3: 46.296848666775475",
          "<br>Principal Component 1: 123.50654279078597<br>Principal Component 2: -30.587959705542858<br>Principal Component 3: 43.570287727590824",
          "<br>Principal Component 1: -171.4458394326109<br>Principal Component 2: 130.7532734995258<br>Principal Component 3: -165.5315063726968",
          "<br>Principal Component 1: -117.6868375187711<br>Principal Component 2: -92.67439175353638<br>Principal Component 3: 88.3846727859908",
          "<br>Principal Component 1: -64.32437360697755<br>Principal Component 2: -108.90284208387789<br>Principal Component 3: 76.68330456015974",
          "<br>Principal Component 1: 141.7190086986532<br>Principal Component 2: -41.45451507613291<br>Principal Component 3: 37.066267250974136",
          "<br>Principal Component 1: -80.47538683851703<br>Principal Component 2: -142.48929285842325<br>Principal Component 3: -37.450723761788424",
          "<br>Principal Component 1: 16.74734278588781<br>Principal Component 2: -90.06844607257165<br>Principal Component 3: 68.18955424854022",
          "<br>Principal Component 1: 312.274773439485<br>Principal Component 2: 6.175826798190201<br>Principal Component 3: 192.01570404437223",
          "<br>Principal Component 1: 121.49646173302955<br>Principal Component 2: -38.65005100508722<br>Principal Component 3: 20.75378219823591",
          "<br>Principal Component 1: 31.754313764997278<br>Principal Component 2: -68.05811142465268<br>Principal Component 3: -41.53583714336452",
          "<br>Principal Component 1: 18.193735538674332<br>Principal Component 2: -75.37386985111448<br>Principal Component 3: -18.99953289246622",
          "<br>Principal Component 1: -14.035649857194393<br>Principal Component 2: -84.53878296207245<br>Principal Component 3: 85.76533405366598",
          "<br>Principal Component 1: 19.16969097800461<br>Principal Component 2: -31.697655607696902<br>Principal Component 3: -114.62831332172836",
          "<br>Principal Component 1: -22.495177514355632<br>Principal Component 2: -90.5468894362649<br>Principal Component 3: 75.568075524895",
          "<br>Principal Component 1: -149.50162303541236<br>Principal Component 2: -20.918473794239958<br>Principal Component 3: -157.6083696308429",
          "<br>Principal Component 1: 13.61389152414435<br>Principal Component 2: 103.95552731512714<br>Principal Component 3: -37.5506842945498",
          "<br>Principal Component 1: -80.86142006913191<br>Principal Component 2: -120.47374444286845<br>Principal Component 3: 94.08028517601298",
          "<br>Principal Component 1: 165.1401603487281<br>Principal Component 2: -16.47379932164631<br>Principal Component 3: 6.506462188809877",
          "<br>Principal Component 1: 52.132601487791504<br>Principal Component 2: -52.78435940981535<br>Principal Component 3: -22.72681932617934",
          "<br>Principal Component 1: 238.7481375756201<br>Principal Component 2: -2.3360938607768276<br>Principal Component 3: -184.85091198625824",
          "<br>Principal Component 1: -121.75852686738355<br>Principal Component 2: -92.22888693114123<br>Principal Component 3: 85.51619520129731",
          "<br>Principal Component 1: 186.95376766773114<br>Principal Component 2: 93.50050756455386<br>Principal Component 3: 52.52256122222758",
          "<br>Principal Component 1: -126.04723721583159<br>Principal Component 2: -79.00687691412634<br>Principal Component 3: 34.90286647738179",
          "<br>Principal Component 1: 61.413955314462655<br>Principal Component 2: -61.4981234971807<br>Principal Component 3: -83.31832281655534",
          "<br>Principal Component 1: 79.4846043511784<br>Principal Component 2: -43.26021351772965<br>Principal Component 3: -18.42316894401563",
          "<br>Principal Component 1: -122.18291614163118<br>Principal Component 2: -105.23829795100755<br>Principal Component 3: 14.934012132348158",
          "<br>Principal Component 1: -67.82978184329002<br>Principal Component 2: -8.080598147592582<br>Principal Component 3: 65.59849951596686",
          "<br>Principal Component 1: -134.22572757424405<br>Principal Component 2: 37.104597471862235<br>Principal Component 3: 0.3314219650861787",
          "<br>Principal Component 1: -91.90489858248924<br>Principal Component 2: 32.930168090024836<br>Principal Component 3: -25.817492284334662",
          "<br>Principal Component 1: -68.38387080508637<br>Principal Component 2: -117.26466647620214<br>Principal Component 3: -51.51898894652314",
          "<br>Principal Component 1: 42.93052923029927<br>Principal Component 2: -36.608625379284604<br>Principal Component 3: 33.769186334503786",
          "<br>Principal Component 1: 116.22273746900876<br>Principal Component 2: -51.77608742495488<br>Principal Component 3: 42.844609100700836",
          "<br>Principal Component 1: 27.88506590061047<br>Principal Component 2: -78.12799833067072<br>Principal Component 3: 62.45995918554689",
          "<br>Principal Component 1: -152.62382256843162<br>Principal Component 2: 49.49594814353384<br>Principal Component 3: -48.238803272178075",
          "<br>Principal Component 1: -3.591577889202732<br>Principal Component 2: 78.02073914428178<br>Principal Component 3: 4.3572046472574755",
          "<br>Principal Component 1: 126.46582146415412<br>Principal Component 2: -11.669714959864905<br>Principal Component 3: -120.41065341054932",
          "<br>Principal Component 1: 54.745346301241<br>Principal Component 2: -75.61132366401011<br>Principal Component 3: -49.682845005825556",
          "<br>Principal Component 1: 78.03913024360077<br>Principal Component 2: 166.53740579515926<br>Principal Component 3: 62.791747171636416",
          "<br>Principal Component 1: 133.52929826264494<br>Principal Component 2: 130.75250456333356<br>Principal Component 3: 58.902168319630846",
          "<br>Principal Component 1: 165.53362675138678<br>Principal Component 2: -16.19435250889319<br>Principal Component 3: 6.980753283171339",
          "<br>Principal Component 1: -186.06964333887854<br>Principal Component 2: 54.884069167900634<br>Principal Component 3: -58.48212938453608",
          "<br>Principal Component 1: -47.92439432559365<br>Principal Component 2: -132.79408671568547<br>Principal Component 3: -51.407753960550025",
          "<br>Principal Component 1: 81.14798893345142<br>Principal Component 2: 120.70821713396231<br>Principal Component 3: -45.06827002437956",
          "<br>Principal Component 1: -39.1367363019543<br>Principal Component 2: -104.20355209245736<br>Principal Component 3: -60.29872116147456",
          "<br>Principal Component 1: -76.12844086752531<br>Principal Component 2: -125.24504986652767<br>Principal Component 3: 75.35249660973886",
          "<br>Principal Component 1: -134.53938837437386<br>Principal Component 2: 16.911969167516872<br>Principal Component 3: 57.09793997982632",
          "<br>Principal Component 1: -102.5408526212982<br>Principal Component 2: -75.40881052779207<br>Principal Component 3: 79.76278343602092",
          "<br>Principal Component 1: 156.68851071798716<br>Principal Component 2: 54.90058919776959<br>Principal Component 3: -172.34188706922419",
          "<br>Principal Component 1: -139.03067721182785<br>Principal Component 2: 145.14339033335028<br>Principal Component 3: 20.311814038512125",
          "<br>Principal Component 1: -8.529712062009096<br>Principal Component 2: -99.6647273536496<br>Principal Component 3: 73.8179401014765",
          "<br>Principal Component 1: -84.55526228247159<br>Principal Component 2: 47.182960997496195<br>Principal Component 3: -21.689629921305226",
          "<br>Principal Component 1: -131.83300246691422<br>Principal Component 2: -137.3533874100592<br>Principal Component 3: -2.596009182371006",
          "<br>Principal Component 1: -137.18324096257928<br>Principal Component 2: -106.11582966020421<br>Principal Component 3: -109.52090117169398",
          "<br>Principal Component 1: 126.853553132799<br>Principal Component 2: -45.81617850921441<br>Principal Component 3: 60.54716278171691",
          "<br>Principal Component 1: 20.696267673202613<br>Principal Component 2: 106.32705505359985<br>Principal Component 3: -50.03752021610549",
          "<br>Principal Component 1: -72.21712502816783<br>Principal Component 2: 86.13945876333963<br>Principal Component 3: -105.95500143943701",
          "<br>Principal Component 1: 143.23165997748293<br>Principal Component 2: -39.39841247635741<br>Principal Component 3: 58.06680435790702",
          "<br>Principal Component 1: -144.98314490852587<br>Principal Component 2: 128.63973469388282<br>Principal Component 3: 12.02496464054002",
          "<br>Principal Component 1: -86.07587659738735<br>Principal Component 2: -128.07227881079245<br>Principal Component 3: 93.33089417351351",
          "<br>Principal Component 1: 26.660123105643294<br>Principal Component 2: 125.01848405236763<br>Principal Component 3: -159.6255267152722",
          "<br>Principal Component 1: -42.66370700855302<br>Principal Component 2: -88.28311768664503<br>Principal Component 3: 65.20403288823962",
          "<br>Principal Component 1: 107.95322682103017<br>Principal Component 2: 23.702279418169155<br>Principal Component 3: -194.65774764912044",
          "<br>Principal Component 1: 124.29292900731451<br>Principal Component 2: -34.353549467064<br>Principal Component 3: -17.239994388662723",
          "<br>Principal Component 1: -47.42846492009423<br>Principal Component 2: -100.1821031163505<br>Principal Component 3: -51.800742056365664",
          "<br>Principal Component 1: 24.476607483225422<br>Principal Component 2: 106.43087982390779<br>Principal Component 3: -98.38401077589398",
          "<br>Principal Component 1: 42.495480743161224<br>Principal Component 2: 127.15341571722513<br>Principal Component 3: -25.554718447094785",
          "<br>Principal Component 1: -65.92470578846974<br>Principal Component 2: -115.51812389649501<br>Principal Component 3: -48.55466960676412",
          "<br>Principal Component 1: -61.33740765656059<br>Principal Component 2: -122.24022119906704<br>Principal Component 3: 94.9377080228146",
          "<br>Principal Component 1: -98.55733876984766<br>Principal Component 2: -120.32971876741226<br>Principal Component 3: 87.65946692237173",
          "<br>Principal Component 1: 235.48698683926142<br>Principal Component 2: -56.88407475784345<br>Principal Component 3: -202.34966779140575",
          "<br>Principal Component 1: 34.232686287329315<br>Principal Component 2: 121.28503264940923<br>Principal Component 3: -35.514831428685056",
          "<br>Principal Component 1: 40.45610665574202<br>Principal Component 2: -60.41758459339144<br>Principal Component 3: -27.37914961081387",
          "<br>Principal Component 1: 21.673001535199916<br>Principal Component 2: 214.63356737710075<br>Principal Component 3: 128.22098239766092",
          "<br>Principal Component 1: 75.97343162964279<br>Principal Component 2: 165.07031002820526<br>Principal Component 3: 60.301718926238834",
          "<br>Principal Component 1: 40.17791540157437<br>Principal Component 2: -81.21396949070368<br>Principal Component 3: 59.921184153415936",
          "<br>Principal Component 1: 33.839219884670655<br>Principal Component 2: 121.00558583665611<br>Principal Component 3: -35.98912252304652",
          "<br>Principal Component 1: 69.32329776272302<br>Principal Component 2: -1.758058668007834<br>Principal Component 3: -211.63843301024207",
          "<br>Principal Component 1: 199.14696425266976<br>Principal Component 2: 21.91895674986813<br>Principal Component 3: -98.90140218502663",
          "<br>Principal Component 1: -138.47363632931814<br>Principal Component 2: -159.63638426136242<br>Principal Component 3: -30.568197827758212",
          "<br>Principal Component 1: -40.96241135692154<br>Principal Component 2: -130.66231643088963<br>Principal Component 3: -47.446026715020594",
          "<br>Principal Component 1: 81.43610191173781<br>Principal Component 2: -80.37639469772864<br>Principal Component 3: 29.188548939585075",
          "<br>Principal Component 1: 212.82418364253817<br>Principal Component 2: 111.87413550307264<br>Principal Component 3: 83.70720067649245",
          "<br>Principal Component 1: -49.00642693290498<br>Principal Component 2: -133.56256545075655<br>Principal Component 3: -52.712054470043995",
          "<br>Principal Component 1: -73.28213808437607<br>Principal Component 2: 39.65631794664324<br>Principal Component 3: 90.24169159130935",
          "<br>Principal Component 1: -188.1794546363829<br>Principal Component 2: 111.81497298661247<br>Principal Component 3: -40.722996443455116",
          "<br>Principal Component 1: 81.468252915448<br>Principal Component 2: -78.45587140524458<br>Principal Component 3: -86.79374278613341",
          "<br>Principal Component 1: 124.30679553193136<br>Principal Component 2: 37.80642464838871<br>Principal Component 3: -80.50889308093014",
          "<br>Principal Component 1: 10.393638656261501<br>Principal Component 2: 38.45678092090378<br>Principal Component 3: -26.545224575224438",
          "<br>Principal Component 1: 45.69259547435992<br>Principal Component 2: -35.927044335330606<br>Principal Component 3: -249.23136174134635",
          "<br>Principal Component 1: -68.4101861864509<br>Principal Component 2: -74.49809942715217<br>Principal Component 3: 85.86544269022704",
          "<br>Principal Component 1: 42.243614015532344<br>Principal Component 2: -79.74687372374967<br>Principal Component 3: 62.41121239881352",
          "<br>Principal Component 1: -154.4890498081242<br>Principal Component 2: 109.1742251596628<br>Principal Component 3: -70.4316427355009",
          "<br>Principal Component 1: 55.694047805110344<br>Principal Component 2: -64.15177457156335<br>Principal Component 3: -34.24846759406523",
          "<br>Principal Component 1: 53.61265181806894<br>Principal Component 2: -70.86072105119354<br>Principal Component 3: 2.8021680538429905",
          "<br>Principal Component 1: 101.27448099561224<br>Principal Component 2: 6.584787531731649<br>Principal Component 3: -91.12439480193666",
          "<br>Principal Component 1: -58.35621928011988<br>Principal Component 2: -1.2083154501488025<br>Principal Component 3: 77.01966250165435",
          "<br>Principal Component 1: -133.0282375666567<br>Principal Component 2: 62.50431548586931<br>Principal Component 3: 89.1802818359725",
          "<br>Principal Component 1: -3.493283624658801<br>Principal Component 2: 77.77571907373908<br>Principal Component 3: 4.1730454993337105",
          "<br>Principal Component 1: -71.87741056403917<br>Principal Component 2: -54.28044507200923<br>Principal Component 3: 42.47103382662442",
          "<br>Principal Component 1: -132.91503507422556<br>Principal Component 2: -138.1218661451303<br>Principal Component 3: -3.900309691864976",
          "<br>Principal Component 1: 238.7482700655587<br>Principal Component 2: -2.335582843981001<br>Principal Component 3: -184.8485065912893",
          "<br>Principal Component 1: -190.69959696985651<br>Principal Component 2: 51.052087429477865<br>Principal Component 3: -108.72968919447413",
          "<br>Principal Component 1: 63.28849651433801<br>Principal Component 2: -77.58202662611268<br>Principal Component 3: 1.5383815338636282",
          "<br>Principal Component 1: -55.86484594981631<br>Principal Component 2: -102.89473560968543<br>Principal Component 3: 86.88056308893073",
          "<br>Principal Component 1: -102.30941359089469<br>Principal Component 2: -75.31812781566214<br>Principal Component 3: 130.93410308692586",
          "<br>Principal Component 1: 96.06105116038495<br>Principal Component 2: 2.8821172627525584<br>Principal Component 3: -97.40875180222577",
          "<br>Principal Component 1: -33.73769981548083<br>Principal Component 2: 53.70591194183453<br>Principal Component 3: -135.5496866020594",
          "<br>Principal Component 1: -113.45160927019529<br>Principal Component 2: -55.08296344161806<br>Principal Component 3: 10.854021460812135",
          "<br>Principal Component 1: -35.81575320693374<br>Principal Component 2: 49.8043280115225<br>Principal Component 3: -116.56343425737961",
          "<br>Principal Component 1: -9.136488433638476<br>Principal Component 2: 255.01374043037538<br>Principal Component 3: 99.26551608451496",
          "<br>Principal Component 1: -5.638358966936053<br>Principal Component 2: -112.52498825829821<br>Principal Component 3: -64.32019983098527",
          "<br>Principal Component 1: 112.77319025359878<br>Principal Component 2: 27.125502874395124<br>Principal Component 3: -188.84768174319277",
          "<br>Principal Component 1: -19.27527086258882<br>Principal Component 2: -121.40338694974469<br>Principal Component 3: -58.076727185249894",
          "<br>Principal Component 1: -74.91130912740638<br>Principal Component 2: -123.61936814254852<br>Principal Component 3: 76.25446504257906",
          "<br>Principal Component 1: -146.4789340223864<br>Principal Component 2: 65.55860959583777<br>Principal Component 3: -7.6590628134107135",
          "<br>Principal Component 1: 107.95322682103017<br>Principal Component 2: 23.702279418169155<br>Principal Component 3: -194.65774764912044",
          "<br>Principal Component 1: 261.2977197776985<br>Principal Component 2: -3.6282523769293675<br>Principal Component 3: 180.63848203508428",
          "<br>Principal Component 1: 5.8118504274263145<br>Principal Component 2: -103.91651646039452<br>Principal Component 3: -59.83222218114204",
          "<br>Principal Component 1: -70.77991189949043<br>Principal Component 2: -120.68517660864052<br>Principal Component 3: 81.23452153337416",
          "<br>Principal Component 1: -171.91537167840812<br>Principal Component 2: 63.07953080623662<br>Principal Component 3: -59.71763154545755",
          "<br>Principal Component 1: 201.60612926928638<br>Principal Component 2: 23.665499329575255<br>Principal Component 3: -95.93708284526761",
          "<br>Principal Component 1: -155.4243289875766<br>Principal Component 2: -115.59129622111084<br>Principal Component 3: -139.30808578827236",
          "<br>Principal Component 1: 30.329262393690485<br>Principal Component 2: 220.78139725766977<br>Principal Component 3: 138.65538647361268",
          "<br>Principal Component 1: 61.36348746716398<br>Principal Component 2: 124.74173349607628<br>Principal Component 3: -33.99382467216722",
          "<br>Principal Component 1: -30.677208644793062<br>Principal Component 2: -98.1954456182649<br>Principal Component 3: -50.101462632703544",
          "<br>Principal Component 1: -65.66553808580588<br>Principal Component 2: -125.31413613935149<br>Principal Component 3: 89.72050598483872",
          "<br>Principal Component 1: -134.9583989272257<br>Principal Component 2: -124.0241846910053<br>Principal Component 3: 14.626777303939065",
          "<br>Principal Component 1: 129.70941221376324<br>Principal Component 2: -34.96090554653995<br>Principal Component 3: -48.15343408298432",
          "<br>Principal Component 1: -26.795978823709216<br>Principal Component 2: 88.32623447887988<br>Principal Component 3: -13.850121485574107",
          "<br>Principal Component 1: -43.98331288837531<br>Principal Component 2: -95.14719635672702<br>Principal Component 3: -45.77192589104641",
          "<br>Principal Component 1: -70.91501103229804<br>Principal Component 2: -121.54237959754857<br>Principal Component 3: 81.63685361002797",
          "<br>Principal Component 1: 2.2983590197792267<br>Principal Component 2: -70.83359755284289<br>Principal Component 3: -34.79130445991444",
          "<br>Principal Component 1: 277.65917872472556<br>Principal Component 2: 82.72609607413398<br>Principal Component 3: 91.08203531557109",
          "<br>Principal Component 1: 119.93295777581704<br>Principal Component 2: 113.0780379131096<br>Principal Component 3: 206.06994156109585",
          "<br>Principal Component 1: 65.09491519522908<br>Principal Component 2: -37.57528746535672<br>Principal Component 3: -136.82228711273",
          "<br>Principal Component 1: -133.9940690071267<br>Principal Component 2: 37.35035437090971<br>Principal Component 3: 0.6093171904351493",
          "<br>Principal Component 1: 42.75025022688254<br>Principal Component 2: -30.490847777091176<br>Principal Component 3: -60.32175989327638",
          "<br>Principal Component 1: -132.3872440131048<br>Principal Component 2: 87.90157234126912<br>Principal Component 3: 8.749525474233565",
          "<br>Principal Component 1: 2.156137437090152<br>Principal Component 2: 129.1290230467701<br>Principal Component 3: 83.53520756258246",
          "<br>Principal Component 1: 111.27669691732646<br>Principal Component 2: 106.93020803254058<br>Principal Component 3: 195.63553748514408",
          "<br>Principal Component 1: 13.783876070850653<br>Principal Component 2: 103.90555371029285<br>Principal Component 3: -37.48887862224902",
          "<br>Principal Component 1: 63.38202163818791<br>Principal Component 2: -39.57780147625829<br>Principal Component 3: -112.44283234543767",
          "<br>Principal Component 1: 128.9811050205638<br>Principal Component 2: -9.15859986068233<br>Principal Component 3: -117.02209751975911",
          "<br>Principal Component 1: -135.45482027915085<br>Principal Component 2: 64.15197151309155<br>Principal Component 3: 31.613105103251826",
          "<br>Principal Component 1: -9.868168220771786<br>Principal Component 2: 110.33186779647014<br>Principal Component 3: -175.91520546185006",
          "<br>Principal Component 1: -125.8899240952995<br>Principal Component 2: -95.16307846504924<br>Principal Component 3: 80.5361387105022",
          "<br>Principal Component 1: 124.88312861130251<br>Principal Component 2: -33.93437924793432<br>Principal Component 3: -16.528557747120544",
          "<br>Principal Component 1: -60.1929763790616<br>Principal Component 2: -105.96865054996988<br>Principal Component 3: 81.66336105095485",
          "<br>Principal Component 1: -101.26812210544222<br>Principal Component 2: -147.21123469283827<br>Principal Component 3: -38.63236072928882",
          "<br>Principal Component 1: -78.14178291682288<br>Principal Component 2: 296.445254984735<br>Principal Component 3: 23.968618956574687",
          "<br>Principal Component 1: 73.40003592475014<br>Principal Component 2: -51.57666799767219<br>Principal Component 3: -12.905368347800334",
          "<br>Principal Component 1: -102.68873599776362<br>Principal Component 2: -123.26391030132027<br>Principal Component 3: 82.67941043157663",
          "<br>Principal Component 1: 46.84105374529044<br>Principal Component 2: -70.43932785850893<br>Principal Component 3: -44.92001721719768",
          "<br>Principal Component 1: 118.28843608296674<br>Principal Component 2: -50.30899165800088<br>Principal Component 3: 45.33463734609842",
          "<br>Principal Component 1: 38.676625890123205<br>Principal Component 2: -76.23784922313655<br>Principal Component 3: -54.761557425197594",
          "<br>Principal Component 1: 50.607922585840186<br>Principal Component 2: -44.055397889761366<br>Principal Component 3: 71.09973916390067",
          "<br>Principal Component 1: 0.5984205921990409<br>Principal Component 2: -107.61918672937361<br>Principal Component 3: -66.11657918143115",
          "<br>Principal Component 1: 172.30538781197026<br>Principal Component 2: 84.90072559713917<br>Principal Component 3: -137.48716893389758",
          "<br>Principal Component 1: -130.9932037263702<br>Principal Component 2: -79.1959798117216<br>Principal Component 3: 106.48066530280289",
          "<br>Principal Component 1: 170.35531255315706<br>Principal Component 2: -12.764485834322159<br>Principal Component 3: 12.822089323695508",
          "<br>Principal Component 1: 36.16087011803009<br>Principal Component 2: -54.82515732975605<br>Principal Component 3: -81.17956678653135",
          "<br>Principal Component 1: 90.68614296533295<br>Principal Component 2: -41.3864612644918<br>Principal Component 3: -11.64856137126614",
          "<br>Principal Component 1: 11.969377540466752<br>Principal Component 2: 78.18496456744526<br>Principal Component 3: -126.43081682479179",
          "<br>Principal Component 1: 22.544061928050596<br>Principal Component 2: 159.6066706521675<br>Principal Component 3: 32.140106909110955",
          "<br>Principal Component 1: 56.543524034595364<br>Principal Component 2: 121.31851003985031<br>Principal Component 3: -39.803890578094865",
          "<br>Principal Component 1: 143.16705854945437<br>Principal Component 2: -39.644992477487335<br>Principal Component 3: 58.36902769846898",
          "<br>Principal Component 1: 297.3230501384558<br>Principal Component 2: -4.443152086428995<br>Principal Component 3: 173.99264245863742",
          "<br>Principal Component 1: 24.132166551816553<br>Principal Component 2: 216.38010995680787<br>Principal Component 3: 131.18530173741993",
          "<br>Principal Component 1: 48.69929003725005<br>Principal Component 2: -100.04951470447554<br>Principal Component 3: -72.98131089131658",
          "<br>Principal Component 1: 46.03387224658225<br>Principal Component 2: -57.11578500748897<br>Principal Component 3: -30.078331288781698",
          "<br>Principal Component 1: 20.63387448716793<br>Principal Component 2: 105.78678144040936<br>Principal Component 3: -50.602199643271916",
          "<br>Principal Component 1: -124.62518767495625<br>Principal Component 2: 100.96006093407954<br>Principal Component 3: 49.85512775192831",
          "<br>Principal Component 1: -67.54928013479389<br>Principal Component 2: -51.206530131724776<br>Principal Component 3: 47.6882358646003",
          "<br>Principal Component 1: -145.63279436751174<br>Principal Component 2: 103.33086861661843<br>Principal Component 3: 92.4640884955408",
          "<br>Principal Component 1: 56.150057631936704<br>Principal Component 2: 121.03906322709719<br>Principal Component 3: -40.27818167245633",
          "<br>Principal Component 1: -147.0424580187957<br>Principal Component 2: -19.171931214532833<br>Principal Component 3: -154.6440502910839",
          "<br>Principal Component 1: -91.84513930076454<br>Principal Component 2: -136.6980397808112<br>Principal Component 3: -32.1302589747599",
          "<br>Principal Component 1: -171.93937392296255<br>Principal Component 2: 63.36930320224053<br>Principal Component 3: -59.24099921975713",
          "<br>Principal Component 1: -12.616998622227399<br>Principal Component 2: 116.03416836854495<br>Principal Component 3: 55.09428573205611",
          "<br>Principal Component 1: -163.31545689205063<br>Principal Component 2: 97.54948207226226<br>Principal Component 3: -57.9137435419934",
          "<br>Principal Component 1: 81.86171931810668<br>Principal Component 2: -78.17642459249146<br>Principal Component 3: -86.31945169177195",
          "<br>Principal Component 1: 89.41078338928332<br>Principal Component 2: 126.5766002017782<br>Principal Component 3: -35.10815704278929",
          "<br>Principal Component 1: 101.84384760444982<br>Principal Component 2: 183.44393796672404<br>Principal Component 3: 91.4863583805037",
          "<br>Principal Component 1: -73.35715039384773<br>Principal Component 2: 169.29575980069598<br>Principal Component 3: 42.322835187667806",
          "<br>Principal Component 1: -2.7967847721170997<br>Principal Component 2: -103.54832669512939<br>Principal Component 3: 68.99280374345511",
          "<br>Principal Component 1: -116.13022333798702<br>Principal Component 2: -123.96076529339678<br>Principal Component 3: 86.09559374563139",
          "<br>Principal Component 1: 154.2293457013705<br>Principal Component 2: 53.154046618062466<br>Principal Component 3: -175.3062064089832",
          "<br>Principal Component 1: 90.69150514486063<br>Principal Component 2: 79.78744656681533<br>Principal Component 3: 117.4857582397226",
          "<br>Principal Component 1: 79.18341667057453<br>Principal Component 2: -33.572391033037206<br>Principal Component 3: 9.88069341116983",
          "<br>Principal Component 1: -86.62096089642957<br>Principal Component 2: 45.71586523054219<br>Principal Component 3: -24.17965816670278",
          "<br>Principal Component 1: 11.69672579462906<br>Principal Component 2: 78.1919528323337<br>Principal Component 3: -126.55724539771619",
          "<br>Principal Component 1: -49.32467325091978<br>Principal Component 2: -144.5856412800366<br>Principal Component 3: -46.312534934766376",
          "<br>Principal Component 1: -63.44298271872513<br>Principal Component 2: -124.72240072196666<br>Principal Component 3: 79.93966661357933",
          "<br>Principal Component 1: 8.231086769362491<br>Principal Component 2: -79.05811897564195<br>Principal Component 3: -54.05007117470683",
          "<br>Principal Component 1: 241.18930757441194<br>Principal Component 2: -21.495520798469556<br>Principal Component 3: -134.1997687717943",
          "<br>Principal Component 1: -7.327751325097545<br>Principal Component 2: -3.590626613186714<br>Principal Component 3: 56.35169827171541",
          "<br>Principal Component 1: 98.5202161770016<br>Principal Component 2: 4.628659842459683<br>Principal Component 3: -94.44443246246675",
          "<br>Principal Component 1: 143.23721883548683<br>Principal Component 2: -39.322159631128216<br>Principal Component 3: 58.10826585502252",
          "<br>Principal Component 1: 58.60922264855334<br>Principal Component 2: 122.78560580680431<br>Principal Component 3: -37.31386233269731",
          "<br>Principal Component 1: -48.78079090223362<br>Principal Component 2: 89.23644961686387<br>Principal Component 3: 8.37368206626573",
          "<br>Principal Component 1: -140.23114322934714<br>Principal Component 2: 136.81990349555429<br>Principal Component 3: 29.57408365666936",
          "<br>Principal Component 1: -44.9635481107111<br>Principal Component 2: -107.07679217713155<br>Principal Component 3: 74.58395674722385",
          "<br>Principal Component 1: 99.55919365676624<br>Principal Component 2: -64.18760658082681<br>Principal Component 3: 45.161792003824075",
          "<br>Principal Component 1: -134.35944060942606<br>Principal Component 2: 17.299640511998405<br>Principal Component 3: 53.88388465008222",
          "<br>Principal Component 1: 198.651451153305<br>Principal Component 2: 6.131297863497707<br>Principal Component 3: -52.88555000214646",
          "<br>Principal Component 1: -72.67305585717304<br>Principal Component 2: -118.27920893403746<br>Principal Component 3: 73.68573578087921",
          "<br>Principal Component 1: 135.51429008036646<br>Principal Component 2: -22.356142598848464<br>Principal Component 3: -31.753005175417172",
          "<br>Principal Component 1: 27.108404176946408<br>Principal Component 2: 184.41408489043312<br>Principal Component 3: 61.85801278495268",
          "<br>Principal Component 1: 27.52079662729659<br>Principal Component 2: -33.78371195350269<br>Principal Component 3: -48.145920287244394",
          "<br>Principal Component 1: -1.3631800351241452<br>Principal Component 2: 78.28378573361618<br>Principal Component 3: -9.22752318452359",
          "<br>Principal Component 1: 126.76596054854801<br>Principal Component 2: 39.55296722809584<br>Principal Component 3: -77.54457374117112",
          "<br>Principal Component 1: -18.36084599295755<br>Principal Component 2: 127.77526409375639<br>Principal Component 3: 53.64836062937786",
          "<br>Principal Component 1: -4.573486506486908<br>Principal Component 2: -1.634498923914748<br>Principal Component 3: 59.6717359322455",
          "<br>Principal Component 1: -2.654809804069771<br>Principal Component 2: 41.66424379276265<br>Principal Component 3: -23.7473335121216",
          "<br>Principal Component 1: 125.97639718254757<br>Principal Component 2: -27.379076933822944<br>Principal Component 3: -74.34371815067774",
          "<br>Principal Component 1: -124.81788034495351<br>Principal Component 2: 24.07622572126195<br>Principal Component 3: 65.38544368834721",
          "<br>Principal Component 1: 107.70356488032007<br>Principal Component 2: -29.3003866129186<br>Principal Component 3: 8.864528459866222",
          "<br>Principal Component 1: -82.97192898466545<br>Principal Component 2: -81.54813224497616<br>Principal Component 3: -19.926131973268582",
          "<br>Principal Component 1: -160.2056661547326<br>Principal Component 2: 82.54267354770792<br>Principal Component 3: 43.73595163161997",
          "<br>Principal Component 1: -13.030486007581729<br>Principal Component 2: -90.79759598653447<br>Principal Component 3: 108.426339491058",
          "<br>Principal Component 1: 126.85928786681279<br>Principal Component 2: -11.390268147111783<br>Principal Component 3: -119.93636231618787",
          "<br>Principal Component 1: -80.20748153078085<br>Principal Component 2: 294.97815921778107<br>Principal Component 3: 21.478590711177105",
          "<br>Principal Component 1: 104.71731201887553<br>Principal Component 2: 9.029947143321579<br>Principal Component 3: -86.97434772627403",
          "<br>Principal Component 1: 110.01892543498815<br>Principal Component 2: 25.169375185123158<br>Principal Component 3: -192.16771940372286",
          "<br>Principal Component 1: 165.1401603487281<br>Principal Component 2: -16.47379932164631<br>Principal Component 3: 6.506462188809877",
          "<br>Principal Component 1: -124.15845319225542<br>Principal Component 2: 100.90955792554627<br>Principal Component 3: 49.577380147008625",
          "<br>Principal Component 1: 175.65433686511196<br>Principal Component 2: 45.368123250171436<br>Principal Component 3: 59.37203251699452",
          "<br>Principal Component 1: -121.28644265043266<br>Principal Component 2: 21.358381354235007<br>Principal Component 3: 53.96149729781439",
          "<br>Principal Component 1: -120.80737916526948<br>Principal Component 2: 106.80732340318912<br>Principal Component 3: 85.85189312524085",
          "<br>Principal Component 1: -127.57511495750825<br>Principal Component 2: 166.2724335910787<br>Principal Component 3: 110.4733485814981",
          "<br>Principal Component 1: -131.9002755928094<br>Principal Component 2: 19.04618309170553<br>Principal Component 3: 56.84820398984124",
          "<br>Principal Component 1: -128.93207606484557<br>Principal Component 2: -152.85979905209888<br>Principal Component 3: -19.066638789493226",
          "<br>Principal Component 1: -51.06570813623123<br>Principal Component 2: -100.17723898628344<br>Principal Component 3: -54.30916558955238",
          "<br>Principal Component 1: 24.609760542008573<br>Principal Component 2: 161.0737664191215<br>Principal Component 3: 34.63013515450854",
          "<br>Principal Component 1: 21.780284686915877<br>Principal Component 2: 242.42213648520345<br>Principal Component 3: 23.052661451094536",
          "<br>Principal Component 1: -37.75960389264898<br>Principal Component 2: -103.22548824782132<br>Principal Component 3: -58.638702331209515",
          "<br>Principal Component 1: 83.9238407037227<br>Principal Component 2: -76.72312627902352<br>Principal Component 3: -83.89436911053639",
          "<br>Principal Component 1: -113.85979671579871<br>Principal Component 2: -55.23089827205604<br>Principal Component 3: 11.100673437902117",
          "<br>Principal Component 1: -3.931921297727385<br>Principal Component 2: 143.7008858117892<br>Principal Component 3: -13.99745981546036",
          "<br>Principal Component 1: -66.45178147024515<br>Principal Component 2: -117.61126166835606<br>Principal Component 3: 86.45172357135004",
          "<br>Principal Component 1: -65.4386145279758<br>Principal Component 2: -6.238358079705222<br>Principal Component 3: 68.48242280314838",
          "<br>Principal Component 1: -90.40298033360446<br>Principal Component 2: -127.250329652132<br>Principal Component 3: 82.57872613774799",
          "<br>Principal Component 1: 48.98150985425619<br>Principal Component 2: -71.39784380512208<br>Principal Component 3: -13.586359275144332",
          "<br>Principal Component 1: 50.97706645350573<br>Principal Component 2: -64.1599620272093<br>Principal Component 3: 96.64346230269723",
          "<br>Principal Component 1: 56.81104491519898<br>Principal Component 2: -74.14422789705611<br>Principal Component 3: -47.192816760428",
          "<br>Principal Component 1: -160.07598185571464<br>Principal Component 2: 38.709206010998116<br>Principal Component 3: -95.8104112110918",
          "<br>Principal Component 1: 12.484296813735199<br>Principal Component 2: -67.31517381692447<br>Principal Component 3: -93.1450891480697",
          "<br>Principal Component 1: -151.80687999417185<br>Principal Component 2: 52.12665365198302<br>Principal Component 3: -12.020288616560947",
          "<br>Principal Component 1: -145.25394285370345<br>Principal Component 2: 93.16165243232712<br>Principal Component 3: 61.75901321735478",
          "<br>Principal Component 1: -152.85232172833298<br>Principal Component 2: 23.71214883867549<br>Principal Component 3: -101.4946784485434",
          "<br>Principal Component 1: -3.5384548950687247<br>Principal Component 2: 143.9803326245423<br>Principal Component 3: -13.523168721098898",
          "<br>Principal Component 1: -97.04781957499587<br>Principal Component 2: 42.38903985648113<br>Principal Component 3: -21.3815932720033",
          "<br>Principal Component 1: -91.9809451338964<br>Principal Component 2: 261.82718830768005<br>Principal Component 3: 68.80903567253091",
          "<br>Principal Component 1: -132.82006715899612<br>Principal Component 2: -106.81861716591959<br>Principal Component 3: 10.19325315716489",
          "<br>Principal Component 1: -148.3955710845144<br>Principal Component 2: 131.02138213092667<br>Principal Component 3: 19.732543448669418",
          "<br>Principal Component 1: 18.34350563613792<br>Principal Component 2: -84.90458353993426<br>Principal Component 3: 50.95840014728191",
          "<br>Principal Component 1: -147.89510820063913<br>Principal Component 2: -109.00336248363271<br>Principal Component 3: 3.2689448772224523",
          "<br>Principal Component 1: 230.27355700403416<br>Principal Component 2: -60.58674502682254<br>Principal Component 3: -208.63402479169488",
          "<br>Principal Component 1: -23.697484338280454<br>Principal Component 2: 51.20898678328615<br>Principal Component 3: -77.70400256451799",
          "<br>Principal Component 1: 121.91737538673334<br>Principal Component 2: 67.35918243274494<br>Principal Component 3: 51.21928210751474",
          "<br>Principal Component 1: 295.25735152449784<br>Principal Component 2: -5.910247853382998<br>Principal Component 3: 171.50261421323984"
         ],
         "type": "scatter3d",
         "x": {
          "bdata": "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",
          "dtype": "f8"
         },
         "y": {
          "bdata": "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",
          "dtype": "f8"
         },
         "z": {
          "bdata": "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",
          "dtype": "f8"
         }
        }
       ],
       "layout": {
        "height": 1200,
        "scene": {
         "xaxis": {
          "title": {
           "text": "Principal Component 1"
          }
         },
         "yaxis": {
          "title": {
           "text": "Principal Component 2"
          }
         },
         "zaxis": {
          "title": {
           "text": "Principal Component 3"
          }
         }
        },
        "template": {
         "data": {
          "bar": [
           {
            "error_x": {
             "color": "#2a3f5f"
            },
            "error_y": {
             "color": "#2a3f5f"
            },
            "marker": {
             "line": {
              "color": "#E5ECF6",
              "width": 0.5
             },
             "pattern": {
              "fillmode": "overlay",
              "size": 10,
              "solidity": 0.2
             }
            },
            "type": "bar"
           }
          ],
          "barpolar": [
           {
            "marker": {
             "line": {
              "color": "#E5ECF6",
              "width": 0.5
             },
             "pattern": {
              "fillmode": "overlay",
              "size": 10,
              "solidity": 0.2
             }
            },
            "type": "barpolar"
           }
          ],
          "carpet": [
           {
            "aaxis": {
             "endlinecolor": "#2a3f5f",
             "gridcolor": "white",
             "linecolor": "white",
             "minorgridcolor": "white",
             "startlinecolor": "#2a3f5f"
            },
            "baxis": {
             "endlinecolor": "#2a3f5f",
             "gridcolor": "white",
             "linecolor": "white",
             "minorgridcolor": "white",
             "startlinecolor": "#2a3f5f"
            },
            "type": "carpet"
           }
          ],
          "choropleth": [
           {
            "colorbar": {
             "outlinewidth": 0,
             "ticks": ""
            },
            "type": "choropleth"
           }
          ],
          "contour": [
           {
            "colorbar": {
             "outlinewidth": 0,
             "ticks": ""
            },
            "colorscale": [
             [
              0,
              "#0d0887"
             ],
             [
              0.1111111111111111,
              "#46039f"
             ],
             [
              0.2222222222222222,
              "#7201a8"
             ],
             [
              0.3333333333333333,
              "#9c179e"
             ],
             [
              0.4444444444444444,
              "#bd3786"
             ],
             [
              0.5555555555555556,
              "#d8576b"
             ],
             [
              0.6666666666666666,
              "#ed7953"
             ],
             [
              0.7777777777777778,
              "#fb9f3a"
             ],
             [
              0.8888888888888888,
              "#fdca26"
             ],
             [
              1,
              "#f0f921"
             ]
            ],
            "type": "contour"
           }
          ],
          "contourcarpet": [
           {
            "colorbar": {
             "outlinewidth": 0,
             "ticks": ""
            },
            "type": "contourcarpet"
           }
          ],
          "heatmap": [
           {
            "colorbar": {
             "outlinewidth": 0,
             "ticks": ""
            },
            "colorscale": [
             [
              0,
              "#0d0887"
             ],
             [
              0.1111111111111111,
              "#46039f"
             ],
             [
              0.2222222222222222,
              "#7201a8"
             ],
             [
              0.3333333333333333,
              "#9c179e"
             ],
             [
              0.4444444444444444,
              "#bd3786"
             ],
             [
              0.5555555555555556,
              "#d8576b"
             ],
             [
              0.6666666666666666,
              "#ed7953"
             ],
             [
              0.7777777777777778,
              "#fb9f3a"
             ],
             [
              0.8888888888888888,
              "#fdca26"
             ],
             [
              1,
              "#f0f921"
             ]
            ],
            "type": "heatmap"
           }
          ],
          "histogram": [
           {
            "marker": {
             "pattern": {
              "fillmode": "overlay",
              "size": 10,
              "solidity": 0.2
             }
            },
            "type": "histogram"
           }
          ],
          "histogram2d": [
           {
            "colorbar": {
             "outlinewidth": 0,
             "ticks": ""
            },
            "colorscale": [
             [
              0,
              "#0d0887"
             ],
             [
              0.1111111111111111,
              "#46039f"
             ],
             [
              0.2222222222222222,
              "#7201a8"
             ],
             [
              0.3333333333333333,
              "#9c179e"
             ],
             [
              0.4444444444444444,
              "#bd3786"
             ],
             [
              0.5555555555555556,
              "#d8576b"
             ],
             [
              0.6666666666666666,
              "#ed7953"
             ],
             [
              0.7777777777777778,
              "#fb9f3a"
             ],
             [
              0.8888888888888888,
              "#fdca26"
             ],
             [
              1,
              "#f0f921"
             ]
            ],
            "type": "histogram2d"
           }
          ],
          "histogram2dcontour": [
           {
            "colorbar": {
             "outlinewidth": 0,
             "ticks": ""
            },
            "colorscale": [
             [
              0,
              "#0d0887"
             ],
             [
              0.1111111111111111,
              "#46039f"
             ],
             [
              0.2222222222222222,
              "#7201a8"
             ],
             [
              0.3333333333333333,
              "#9c179e"
             ],
             [
              0.4444444444444444,
              "#bd3786"
             ],
             [
              0.5555555555555556,
              "#d8576b"
             ],
             [
              0.6666666666666666,
              "#ed7953"
             ],
             [
              0.7777777777777778,
              "#fb9f3a"
             ],
             [
              0.8888888888888888,
              "#fdca26"
             ],
             [
              1,
              "#f0f921"
             ]
            ],
            "type": "histogram2dcontour"
           }
          ],
          "mesh3d": [
           {
            "colorbar": {
             "outlinewidth": 0,
             "ticks": ""
            },
            "type": "mesh3d"
           }
          ],
          "parcoords": [
           {
            "line": {
             "colorbar": {
              "outlinewidth": 0,
              "ticks": ""
             }
            },
            "type": "parcoords"
           }
          ],
          "pie": [
           {
            "automargin": true,
            "type": "pie"
           }
          ],
          "scatter": [
           {
            "fillpattern": {
             "fillmode": "overlay",
             "size": 10,
             "solidity": 0.2
            },
            "type": "scatter"
           }
          ],
          "scatter3d": [
           {
            "line": {
             "colorbar": {
              "outlinewidth": 0,
              "ticks": ""
             }
            },
            "marker": {
             "colorbar": {
              "outlinewidth": 0,
              "ticks": ""
             }
            },
            "type": "scatter3d"
           }
          ],
          "scattercarpet": [
           {
            "marker": {
             "colorbar": {
              "outlinewidth": 0,
              "ticks": ""
             }
            },
            "type": "scattercarpet"
           }
          ],
          "scattergeo": [
           {
            "marker": {
             "colorbar": {
              "outlinewidth": 0,
              "ticks": ""
             }
            },
            "type": "scattergeo"
           }
          ],
          "scattergl": [
           {
            "marker": {
             "colorbar": {
              "outlinewidth": 0,
              "ticks": ""
             }
            },
            "type": "scattergl"
           }
          ],
          "scattermap": [
           {
            "marker": {
             "colorbar": {
              "outlinewidth": 0,
              "ticks": ""
             }
            },
            "type": "scattermap"
           }
          ],
          "scattermapbox": [
           {
            "marker": {
             "colorbar": {
              "outlinewidth": 0,
              "ticks": ""
             }
            },
            "type": "scattermapbox"
           }
          ],
          "scatterpolar": [
           {
            "marker": {
             "colorbar": {
              "outlinewidth": 0,
              "ticks": ""
             }
            },
            "type": "scatterpolar"
           }
          ],
          "scatterpolargl": [
           {
            "marker": {
             "colorbar": {
              "outlinewidth": 0,
              "ticks": ""
             }
            },
            "type": "scatterpolargl"
           }
          ],
          "scatterternary": [
           {
            "marker": {
             "colorbar": {
              "outlinewidth": 0,
              "ticks": ""
             }
            },
            "type": "scatterternary"
           }
          ],
          "surface": [
           {
            "colorbar": {
             "outlinewidth": 0,
             "ticks": ""
            },
            "colorscale": [
             [
              0,
              "#0d0887"
             ],
             [
              0.1111111111111111,
              "#46039f"
             ],
             [
              0.2222222222222222,
              "#7201a8"
             ],
             [
              0.3333333333333333,
              "#9c179e"
             ],
             [
              0.4444444444444444,
              "#bd3786"
             ],
             [
              0.5555555555555556,
              "#d8576b"
             ],
             [
              0.6666666666666666,
              "#ed7953"
             ],
             [
              0.7777777777777778,
              "#fb9f3a"
             ],
             [
              0.8888888888888888,
              "#fdca26"
             ],
             [
              1,
              "#f0f921"
             ]
            ],
            "type": "surface"
           }
          ],
          "table": [
           {
            "cells": {
             "fill": {
              "color": "#EBF0F8"
             },
             "line": {
              "color": "white"
             }
            },
            "header": {
             "fill": {
              "color": "#C8D4E3"
             },
             "line": {
              "color": "white"
             }
            },
            "type": "table"
           }
          ]
         },
         "layout": {
          "annotationdefaults": {
           "arrowcolor": "#2a3f5f",
           "arrowhead": 0,
           "arrowwidth": 1
          },
          "autotypenumbers": "strict",
          "coloraxis": {
           "colorbar": {
            "outlinewidth": 0,
            "ticks": ""
           }
          },
          "colorscale": {
           "diverging": [
            [
             0,
             "#8e0152"
            ],
            [
             0.1,
             "#c51b7d"
            ],
            [
             0.2,
             "#de77ae"
            ],
            [
             0.3,
             "#f1b6da"
            ],
            [
             0.4,
             "#fde0ef"
            ],
            [
             0.5,
             "#f7f7f7"
            ],
            [
             0.6,
             "#e6f5d0"
            ],
            [
             0.7,
             "#b8e186"
            ],
            [
             0.8,
             "#7fbc41"
            ],
            [
             0.9,
             "#4d9221"
            ],
            [
             1,
             "#276419"
            ]
           ],
           "sequential": [
            [
             0,
             "#0d0887"
            ],
            [
             0.1111111111111111,
             "#46039f"
            ],
            [
             0.2222222222222222,
             "#7201a8"
            ],
            [
             0.3333333333333333,
             "#9c179e"
            ],
            [
             0.4444444444444444,
             "#bd3786"
            ],
            [
             0.5555555555555556,
             "#d8576b"
            ],
            [
             0.6666666666666666,
             "#ed7953"
            ],
            [
             0.7777777777777778,
             "#fb9f3a"
            ],
            [
             0.8888888888888888,
             "#fdca26"
            ],
            [
             1,
             "#f0f921"
            ]
           ],
           "sequentialminus": [
            [
             0,
             "#0d0887"
            ],
            [
             0.1111111111111111,
             "#46039f"
            ],
            [
             0.2222222222222222,
             "#7201a8"
            ],
            [
             0.3333333333333333,
             "#9c179e"
            ],
            [
             0.4444444444444444,
             "#bd3786"
            ],
            [
             0.5555555555555556,
             "#d8576b"
            ],
            [
             0.6666666666666666,
             "#ed7953"
            ],
            [
             0.7777777777777778,
             "#fb9f3a"
            ],
            [
             0.8888888888888888,
             "#fdca26"
            ],
            [
             1,
             "#f0f921"
            ]
           ]
          },
          "colorway": [
           "#636efa",
           "#EF553B",
           "#00cc96",
           "#ab63fa",
           "#FFA15A",
           "#19d3f3",
           "#FF6692",
           "#B6E880",
           "#FF97FF",
           "#FECB52"
          ],
          "font": {
           "color": "#2a3f5f"
          },
          "geo": {
           "bgcolor": "white",
           "lakecolor": "white",
           "landcolor": "#E5ECF6",
           "showlakes": true,
           "showland": true,
           "subunitcolor": "white"
          },
          "hoverlabel": {
           "align": "left"
          },
          "hovermode": "closest",
          "mapbox": {
           "style": "light"
          },
          "paper_bgcolor": "white",
          "plot_bgcolor": "#E5ECF6",
          "polar": {
           "angularaxis": {
            "gridcolor": "white",
            "linecolor": "white",
            "ticks": ""
           },
           "bgcolor": "#E5ECF6",
           "radialaxis": {
            "gridcolor": "white",
            "linecolor": "white",
            "ticks": ""
           }
          },
          "scene": {
           "xaxis": {
            "backgroundcolor": "#E5ECF6",
            "gridcolor": "white",
            "gridwidth": 2,
            "linecolor": "white",
            "showbackground": true,
            "ticks": "",
            "zerolinecolor": "white"
           },
           "yaxis": {
            "backgroundcolor": "#E5ECF6",
            "gridcolor": "white",
            "gridwidth": 2,
            "linecolor": "white",
            "showbackground": true,
            "ticks": "",
            "zerolinecolor": "white"
           },
           "zaxis": {
            "backgroundcolor": "#E5ECF6",
            "gridcolor": "white",
            "gridwidth": 2,
            "linecolor": "white",
            "showbackground": true,
            "ticks": "",
            "zerolinecolor": "white"
           }
          },
          "shapedefaults": {
           "line": {
            "color": "#2a3f5f"
           }
          },
          "ternary": {
           "aaxis": {
            "gridcolor": "white",
            "linecolor": "white",
            "ticks": ""
           },
           "baxis": {
            "gridcolor": "white",
            "linecolor": "white",
            "ticks": ""
           },
           "bgcolor": "#E5ECF6",
           "caxis": {
            "gridcolor": "white",
            "linecolor": "white",
            "ticks": ""
           }
          },
          "title": {
           "x": 0.05
          },
          "xaxis": {
           "automargin": true,
           "gridcolor": "white",
           "linecolor": "white",
           "ticks": "",
           "title": {
            "standoff": 15
           },
           "zerolinecolor": "white",
           "zerolinewidth": 2
          },
          "yaxis": {
           "automargin": true,
           "gridcolor": "white",
           "linecolor": "white",
           "ticks": "",
           "title": {
            "standoff": 15
           },
           "zerolinecolor": "white",
           "zerolinewidth": 2
          }
         }
        },
        "title": {
         "text": "Scatter Plot 3D de Soporte vs Confianza vs Lift"
        },
        "width": 800
       }
      }
     },
     "metadata": {},
     "output_type": "display_data"
    }
   ],
   "source": [
    "rotable_3d(principal_df, 'Principal Component 1', 'Principal Component 2', 'Principal Component 3', 'target')"
   ]
  },
  {
   "cell_type": "markdown",
   "metadata": {
    "id": "gACUhcJ9V0Ip"
   },
   "source": [
    "# Comparación con escoger simplemente tres características"
   ]
  },
  {
   "cell_type": "markdown",
   "metadata": {
    "id": "D9L_K59jWy_d"
   },
   "source": [
    "Podemos elegir tres entre los nombres de las características originales"
   ]
  },
  {
   "cell_type": "code",
   "execution_count": 21,
   "metadata": {
    "colab": {
     "base_uri": "https://localhost:8080/"
    },
    "executionInfo": {
     "elapsed": 4,
     "status": "ok",
     "timestamp": 1718372857717,
     "user": {
      "displayName": "Aitor Donado",
      "userId": "08246046509718212083"
     },
     "user_tz": -120
    },
    "id": "Ld5zyxPuc7ub",
    "outputId": "e8d911e6-9d5b-449c-88ab-dd396a2b0de7"
   },
   "outputs": [
    {
     "data": {
      "text/plain": [
       "Index(['cement', 'slag', 'ash', 'water', 'superplastic', 'coarseagg',\n",
       "       'fineagg', 'age', 'target'],\n",
       "      dtype='object')"
      ]
     },
     "execution_count": 21,
     "metadata": {},
     "output_type": "execute_result"
    }
   ],
   "source": [
    "df.columns"
   ]
  },
  {
   "cell_type": "markdown",
   "metadata": {
    "id": "enBLuiWwdV8u"
   },
   "source": [
    "Quitando, por ejemplo, 'sepal width (cm)'"
   ]
  },
  {
   "cell_type": "code",
   "execution_count": 22,
   "metadata": {
    "colab": {
     "base_uri": "https://localhost:8080/",
     "height": 1000
    },
    "executionInfo": {
     "elapsed": 306,
     "status": "ok",
     "timestamp": 1718373196054,
     "user": {
      "displayName": "Aitor Donado",
      "userId": "08246046509718212083"
     },
     "user_tz": -120
    },
    "id": "_eBjgR3NdJ0s",
    "outputId": "f6960a32-37f2-4ced-ea61-55bb05eae85b"
   },
   "outputs": [
    {
     "data": {
      "application/vnd.plotly.v1+json": {
       "config": {
        "plotlyServerURL": "https://plot.ly"
       },
       "data": [
        {
         "hoverinfo": "text",
         "marker": {
          "color": {
           "bdata": "AQABAgAAAAEAAQEAAQAAAgECAAAAAAABAQICAgABAQEAAgEBAAIAAgACAQACAgABAgECAQEBAQACAQECAAABAgEBAQICAgACAQACAQAAAQEBAQECAAECAAEAAAIAAgACAgEBAQECAQIAAAAAAAECAAEBAAABAQEBAAEAAgIBAQACAgEBAAAAAgICAAEBAQECAAEBAgIBAQEBAQAAAgIAAgECAAIBAAIBAQICAgACAgAAAQIAAAICAAAAAQACAgICAgEAAAACAgEBAQACAAABAgIBAAECAAEBAgAAAAAAAQAAAQIBAQIAAAIBAgAAAAACAQIAAgICAAEAAQEBAAEBAAICAgECAAIBAgACAQABAgABAgECAQIBAgICAQIBAgIAAAEAAgICAAABAgEAAQICAgAAAQIBAAIAAAIAAAEAAgECAQECAAEAAQACAQEAAAEBAgIBAgECAgEBAgICAgEBAAEBAAIBAAACAAEAAgIAAgAAAQIBAQIAAAEBAAIBAAACAAICAQABAAACAgACAgEBAQEBAQIAAgEAAgABAgIAAgICAAICAQAAAgECAgACAAACAAIBAgIAAAABAQEBAQECAgECAQICAgABAgACAQECAQIBAgEBAAIAAAECAQACAgACAQICAAEBAQECAgECAAIBAAIBAQICAQAAAQACAQEAAAABAAIAAAIBAQABAgACAgACAQIBAAICAgAAAgICAgEAAgACAQAAAgACAQIBAQIBAAIAAAIAAQIAAAACAgECAAICAgIBAQICAgECAgEAAQECAAACAQABAAIAAAEAAAIBAAECAQECAAECAgIAAQEBAAECAgICAAABAQECAAICAAAAAQIAAgEBAAEBAQAAAAECAgABAAIAAQIAAQABAQAAAAAAAQAAAAIBAAABAQAAAQAAAgIBAQEAAAEAAQEAAgAAAQAAAAABAAIBAgICAQEBAAAAAgIBAgACAQAAAQIAAgICAAABAgABAgAAAgICAAAAAgACAQECAAECAAICAAEAAAIBAQEBAQABAgACAQEBAQEAAAIBAAEBAQEBAAAAAAAAAAEAAgABAQEBAQIAAQIAAAIBAgAAAQEAAAICAQEBAgACAAACAgACAQIBAAEBAAABAQACAAIAAAEBAQICAgABAQECAgABAgABAAABAAECAAIBAAICAQACAgICAgIAAgIBAgABAAECAQICAQABAQIBAgACAQIAAAEAAQEAAQEAAQACAAIBAAEAAgECAgIBAgACAQEAAgIBAQICAQICAAECAQACAAAAAgICAQIAAQEBAAACAQABAgICAgEBAgEAAQABAAICAAACAQEBAQEAAQIBAgAAAgIAAAECAAIBAgAAAAAAAAAAAQICAg==",
           "dtype": "i1"
          },
          "colorscale": [
           [
            0,
            "#440154"
           ],
           [
            0.1111111111111111,
            "#482878"
           ],
           [
            0.2222222222222222,
            "#3e4989"
           ],
           [
            0.3333333333333333,
            "#31688e"
           ],
           [
            0.4444444444444444,
            "#26828e"
           ],
           [
            0.5555555555555556,
            "#1f9e89"
           ],
           [
            0.6666666666666666,
            "#35b779"
           ],
           [
            0.7777777777777778,
            "#6ece58"
           ],
           [
            0.8888888888888888,
            "#b5de2b"
           ],
           [
            1,
            "#fde725"
           ]
          ],
          "opacity": 0.8,
          "size": {
           "bdata": "EAoQFgoKChAKEBAKEAoKFhAWCgoKCgoQEBYWFgoQEBAKFhAQChYKFgoWEAoWFgoQFhAWEBAQEAoWEBAWCgoQFhAQEBYWFgoWEAoWEAoKEBAQEBAWChAWChAKChYKFgoWFhAQEBAWEBYKCgoKChAWChAQCgoQEBAQChAKFhYQEAoWFhAQCgoKFhYWChAQEBAWChAQFhYQEBAQEAoKFhYKFhAWChYQChYQEBYWFgoWFgoKEBYKChYWCgoKEAoWFhYWFhAKCgoWFhAQEAoWCgoQFhYQChAWChAQFgoKCgoKEAoKEBYQEBYKChYQFgoKCgoWEBYKFhYWChAKEBAQChAQChYWFhAWChYQFgoWEAoQFgoQFhAWEBYQFhYWEBYQFhYKChAKFhYWCgoQFhAKEBYWFgoKEBYQChYKChYKChAKFhAWEBAWChAKEAoWEBAKChAQFhYQFhAWFhAQFhYWFhAQChAQChYQCgoWChAKFhYKFgoKEBYQEBYKChAQChYQCgoWChYWEAoQCgoWFgoWFhAQEBAQEBYKFhAKFgoQFhYKFhYWChYWEAoKFhAWFgoWCgoWChYQFhYKCgoQEBAQEBAWFhAWEBYWFgoQFgoWEBAWEBYQFhAQChYKChAWEAoWFgoWEBYWChAQEBAWFhAWChYQChYQEBYWEAoKEAoWEBAKCgoQChYKChYQEAoQFgoWFgoWEBYQChYWFgoKFhYWFhAKFgoWEAoKFgoWEBYQEBYQChYKChYKEBYKCgoWFhAWChYWFhYQEBYWFhAWFhAKEBAWCgoWEAoQChYKChAKChYQChAWEBAWChAWFhYKEBAQChAWFhYWCgoQEBAWChYWCgoKEBYKFhAQChAQEAoKChAWFgoQChYKEBYKEAoQEAoKCgoKEAoKChYQCgoQEAoKEAoKFhYQEBAKChAKEBAKFgoKEAoKCgoQChYQFhYWEBAQCgoKFhYQFgoWEAoKEBYKFhYWCgoQFgoQFgoKFhYWCgoKFgoWEBAWChAWChYWChAKChYQEBAQEAoQFgoWEBAQEBAKChYQChAQEBAQCgoKCgoKChAKFgoQEBAQEBYKEBYKChYQFgoKEBAKChYWEBAQFgoWCgoWFgoWEBYQChAQCgoQEAoWChYKChAQEBYWFgoQEBAWFgoQFgoQCgoQChAWChYQChYWEAoWFhYWFhYKFhYQFgoQChAWEBYWEAoQEBYQFgoWEBYKChAKEBAKEBAKEAoWChYQChAKFhAWFhYQFgoWEBAKFhYQEBYWEBYWChAWEAoWCgoKFhYWEBYKEBAQCgoWEAoQFhYWFhAQFhAKEAoQChYWCgoWEBAQEBAKEBYQFgoKFhYKChAWChYQFgoKCgoKCgoKEBYWFg==",
           "dtype": "i1"
          }
         },
         "mode": "markers",
         "text": [
          "<br>cement: 141.3<br>superplastic: 0.0<br>age: 28",
          "<br>cement: 168.9<br>superplastic: 10.8<br>age: 14",
          "<br>cement: 250.0<br>superplastic: 5.5<br>age: 28",
          "<br>cement: 266.0<br>superplastic: 0.0<br>age: 28",
          "<br>cement: 154.8<br>superplastic: 9.1<br>age: 28",
          "<br>cement: 255.0<br>superplastic: 0.0<br>age: 90",
          "<br>cement: 166.8<br>superplastic: 0.0<br>age: 7",
          "<br>cement: 251.4<br>superplastic: 6.4<br>age: 56",
          "<br>cement: 296.0<br>superplastic: 0.0<br>age: 28",
          "<br>cement: 155.0<br>superplastic: 9.0<br>age: 28",
          "<br>cement: 151.8<br>superplastic: 18.3<br>age: 28",
          "<br>cement: 173.0<br>superplastic: 0.0<br>age: 3",
          "<br>cement: 385.0<br>superplastic: 0.0<br>age: 14",
          "<br>cement: 237.5<br>superplastic: 0.0<br>age: 7",
          "<br>cement: 167.0<br>superplastic: 7.0<br>age: 28",
          "<br>cement: 213.8<br>superplastic: 6.7<br>age: 100",
          "<br>cement: 237.5<br>superplastic: 0.0<br>age: 28",
          "<br>cement: 336.0<br>superplastic: 3.0<br>age: 28",
          "<br>cement: 190.7<br>superplastic: 7.8<br>age: 3",
          "<br>cement: 312.7<br>superplastic: 8.0<br>age: 28",
          "<br>cement: 229.7<br>superplastic: 6.1<br>age: 3",
          "<br>cement: 228.0<br>superplastic: 0.0<br>age: 7",
          "<br>cement: 236.0<br>superplastic: 0.0<br>age: 7",
          "<br>cement: 132.0<br>superplastic: 5.0<br>age: 28",
          "<br>cement: 331.0<br>superplastic: 0.0<br>age: 28",
          "<br>cement: 310.0<br>superplastic: 10.0<br>age: 28",
          "<br>cement: 304.0<br>superplastic: 0.0<br>age: 90",
          "<br>cement: 425.0<br>superplastic: 16.5<br>age: 91",
          "<br>cement: 166.1<br>superplastic: 4.5<br>age: 28",
          "<br>cement: 255.0<br>superplastic: 6.0<br>age: 28",
          "<br>cement: 339.0<br>superplastic: 0.0<br>age: 28",
          "<br>cement: 475.0<br>superplastic: 0.0<br>age: 28",
          "<br>cement: 145.7<br>superplastic: 3.4<br>age: 28",
          "<br>cement: 313.0<br>superplastic: 8.0<br>age: 28",
          "<br>cement: 331.0<br>superplastic: 0.0<br>age: 90",
          "<br>cement: 178.0<br>superplastic: 3.6<br>age: 28",
          "<br>cement: 165.0<br>superplastic: 0.0<br>age: 14",
          "<br>cement: 277.2<br>superplastic: 11.2<br>age: 14",
          "<br>cement: 325.0<br>superplastic: 0.0<br>age: 7",
          "<br>cement: 167.0<br>superplastic: 7.9<br>age: 28",
          "<br>cement: 194.7<br>superplastic: 7.5<br>age: 14",
          "<br>cement: 246.8<br>superplastic: 12.0<br>age: 56",
          "<br>cement: 382.0<br>superplastic: 0.0<br>age: 28",
          "<br>cement: 149.0<br>superplastic: 7.0<br>age: 28",
          "<br>cement: 531.3<br>superplastic: 28.2<br>age: 91",
          "<br>cement: 387.0<br>superplastic: 11.6<br>age: 56",
          "<br>cement: 193.5<br>superplastic: 0.0<br>age: 7",
          "<br>cement: 326.0<br>superplastic: 11.0<br>age: 28",
          "<br>cement: 337.9<br>superplastic: 9.5<br>age: 28",
          "<br>cement: 425.0<br>superplastic: 16.5<br>age: 3",
          "<br>cement: 200.0<br>superplastic: 0.0<br>age: 28",
          "<br>cement: 331.0<br>superplastic: 0.0<br>age: 180",
          "<br>cement: 218.9<br>superplastic: 11.3<br>age: 56",
          "<br>cement: 234.0<br>superplastic: 5.9<br>age: 28",
          "<br>cement: 309.9<br>superplastic: 22.1<br>age: 28",
          "<br>cement: 350.0<br>superplastic: 0.0<br>age: 7",
          "<br>cement: 182.0<br>superplastic: 8.2<br>age: 100",
          "<br>cement: 480.0<br>superplastic: 0.0<br>age: 7",
          "<br>cement: 295.7<br>superplastic: 8.9<br>age: 14",
          "<br>cement: 250.0<br>superplastic: 5.5<br>age: 100",
          "<br>cement: 178.0<br>superplastic: 3.6<br>age: 3",
          "<br>cement: 233.8<br>superplastic: 4.6<br>age: 3",
          "<br>cement: 194.7<br>superplastic: 7.5<br>age: 100",
          "<br>cement: 379.5<br>superplastic: 15.9<br>age: 56",
          "<br>cement: 332.5<br>superplastic: 0.0<br>age: 365",
          "<br>cement: 350.0<br>superplastic: 0.0<br>age: 56",
          "<br>cement: 237.0<br>superplastic: 6.0<br>age: 28",
          "<br>cement: 238.1<br>superplastic: 7.0<br>age: 100",
          "<br>cement: 295.7<br>superplastic: 8.9<br>age: 100",
          "<br>cement: 323.7<br>superplastic: 10.3<br>age: 7",
          "<br>cement: 200.0<br>superplastic: 0.0<br>age: 3",
          "<br>cement: 342.0<br>superplastic: 0.0<br>age: 90",
          "<br>cement: 388.6<br>superplastic: 12.1<br>age: 3",
          "<br>cement: 147.8<br>superplastic: 2.2<br>age: 28",
          "<br>cement: 290.4<br>superplastic: 9.4<br>age: 56",
          "<br>cement: 500.0<br>superplastic: 0.0<br>age: 14",
          "<br>cement: 284.0<br>superplastic: 5.5<br>age: 7",
          "<br>cement: 165.0<br>superplastic: 8.1<br>age: 3",
          "<br>cement: 218.2<br>superplastic: 11.9<br>age: 3",
          "<br>cement: 168.9<br>superplastic: 10.8<br>age: 56",
          "<br>cement: 190.3<br>superplastic: 9.9<br>age: 28",
          "<br>cement: 116.0<br>superplastic: 0.0<br>age: 90",
          "<br>cement: 277.0<br>superplastic: 0.0<br>age: 90",
          "<br>cement: 376.0<br>superplastic: 0.0<br>age: 100",
          "<br>cement: 236.0<br>superplastic: 0.0<br>age: 14",
          "<br>cement: 273.0<br>superplastic: 11.0<br>age: 28",
          "<br>cement: 500.0<br>superplastic: 4.0<br>age: 28",
          "<br>cement: 212.5<br>superplastic: 8.7<br>age: 14",
          "<br>cement: 362.6<br>superplastic: 11.6<br>age: 3",
          "<br>cement: 275.1<br>superplastic: 9.9<br>age: 3",
          "<br>cement: 139.6<br>superplastic: 0.0<br>age: 7",
          "<br>cement: 362.6<br>superplastic: 11.6<br>age: 7",
          "<br>cement: 182.0<br>superplastic: 8.2<br>age: 14",
          "<br>cement: 427.5<br>superplastic: 0.0<br>age: 180",
          "<br>cement: 183.9<br>superplastic: 0.0<br>age: 3",
          "<br>cement: 475.0<br>superplastic: 1.9<br>age: 28",
          "<br>cement: 362.6<br>superplastic: 11.6<br>age: 28",
          "<br>cement: 318.8<br>superplastic: 14.3<br>age: 7",
          "<br>cement: 252.0<br>superplastic: 8.0<br>age: 28",
          "<br>cement: 237.5<br>superplastic: 0.0<br>age: 180",
          "<br>cement: 149.5<br>superplastic: 12.6<br>age: 28",
          "<br>cement: 540.0<br>superplastic: 2.5<br>age: 28",
          "<br>cement: 313.0<br>superplastic: 8.0<br>age: 28",
          "<br>cement: 380.0<br>superplastic: 0.0<br>age: 180",
          "<br>cement: 251.4<br>superplastic: 5.8<br>age: 3",
          "<br>cement: 436.0<br>superplastic: 0.0<br>age: 28",
          "<br>cement: 155.0<br>superplastic: 9.0<br>age: 28",
          "<br>cement: 281.0<br>superplastic: 0.0<br>age: 7",
          "<br>cement: 151.6<br>superplastic: 7.9<br>age: 28",
          "<br>cement: 326.5<br>superplastic: 10.8<br>age: 28",
          "<br>cement: 397.0<br>superplastic: 20.8<br>age: 28",
          "<br>cement: 238.0<br>superplastic: 0.0<br>age: 7",
          "<br>cement: 158.6<br>superplastic: 15.0<br>age: 28",
          "<br>cement: 385.0<br>superplastic: 0.0<br>age: 28",
          "<br>cement: 302.0<br>superplastic: 0.0<br>age: 14",
          "<br>cement: 192.0<br>superplastic: 0.0<br>age: 3",
          "<br>cement: 155.6<br>superplastic: 10.7<br>age: 28",
          "<br>cement: 160.0<br>superplastic: 6.4<br>age: 28",
          "<br>cement: 222.4<br>superplastic: 4.5<br>age: 56",
          "<br>cement: 251.8<br>superplastic: 12.4<br>age: 14",
          "<br>cement: 331.0<br>superplastic: 0.0<br>age: 7",
          "<br>cement: 250.0<br>superplastic: 5.3<br>age: 56",
          "<br>cement: 155.0<br>superplastic: 9.0<br>age: 28",
          "<br>cement: 213.5<br>superplastic: 11.7<br>age: 28",
          "<br>cement: 446.0<br>superplastic: 11.6<br>age: 56",
          "<br>cement: 133.0<br>superplastic: 3.0<br>age: 28",
          "<br>cement: 122.6<br>superplastic: 0.0<br>age: 90",
          "<br>cement: 290.2<br>superplastic: 0.0<br>age: 7",
          "<br>cement: 323.7<br>superplastic: 10.3<br>age: 28",
          "<br>cement: 375.0<br>superplastic: 23.4<br>age: 91",
          "<br>cement: 181.4<br>superplastic: 7.6<br>age: 28",
          "<br>cement: 298.2<br>superplastic: 11.1<br>age: 28",
          "<br>cement: 236.0<br>superplastic: 0.0<br>age: 7",
          "<br>cement: 236.0<br>superplastic: 0.0<br>age: 365",
          "<br>cement: 339.0<br>superplastic: 0.0<br>age: 3",
          "<br>cement: 387.0<br>superplastic: 14.3<br>age: 56",
          "<br>cement: 166.8<br>superplastic: 0.0<br>age: 90",
          "<br>cement: 387.0<br>superplastic: 13.9<br>age: 28",
          "<br>cement: 133.0<br>superplastic: 0.0<br>age: 3",
          "<br>cement: 162.0<br>superplastic: 10.0<br>age: 28",
          "<br>cement: 262.0<br>superplastic: 5.0<br>age: 28",
          "<br>cement: 213.7<br>superplastic: 6.9<br>age: 14",
          "<br>cement: 332.5<br>superplastic: 0.0<br>age: 90",
          "<br>cement: 313.3<br>superplastic: 8.6<br>age: 7",
          "<br>cement: 302.0<br>superplastic: 0.0<br>age: 180",
          "<br>cement: 183.9<br>superplastic: 0.0<br>age: 90",
          "<br>cement: 500.0<br>superplastic: 0.0<br>age: 7",
          "<br>cement: 218.2<br>superplastic: 11.9<br>age: 28",
          "<br>cement: 387.0<br>superplastic: 11.6<br>age: 28",
          "<br>cement: 380.0<br>superplastic: 0.0<br>age: 270",
          "<br>cement: 213.5<br>superplastic: 11.7<br>age: 14",
          "<br>cement: 160.0<br>superplastic: 11.0<br>age: 28",
          "<br>cement: 322.0<br>superplastic: 0.0<br>age: 180",
          "<br>cement: 173.5<br>superplastic: 6.5<br>age: 14",
          "<br>cement: 252.0<br>superplastic: 0.0<br>age: 7",
          "<br>cement: 299.8<br>superplastic: 9.9<br>age: 28",
          "<br>cement: 531.3<br>superplastic: 28.2<br>age: 28",
          "<br>cement: 198.6<br>superplastic: 0.0<br>age: 360",
          "<br>cement: 116.0<br>superplastic: 0.0<br>age: 28",
          "<br>cement: 304.0<br>superplastic: 0.0<br>age: 365",
          "<br>cement: 331.0<br>superplastic: 0.0<br>age: 28",
          "<br>cement: 286.3<br>superplastic: 11.2<br>age: 28",
          "<br>cement: 349.0<br>superplastic: 0.0<br>age: 7",
          "<br>cement: 520.0<br>superplastic: 5.2<br>age: 28",
          "<br>cement: 252.1<br>superplastic: 8.3<br>age: 28",
          "<br>cement: 255.5<br>superplastic: 0.0<br>age: 7",
          "<br>cement: 446.0<br>superplastic: 11.6<br>age: 28",
          "<br>cement: 172.4<br>superplastic: 4.1<br>age: 100",
          "<br>cement: 190.7<br>superplastic: 7.8<br>age: 56",
          "<br>cement: 322.0<br>superplastic: 8.0<br>age: 28",
          "<br>cement: 446.0<br>superplastic: 11.6<br>age: 28",
          "<br>cement: 178.0<br>superplastic: 3.6<br>age: 56",
          "<br>cement: 212.1<br>superplastic: 5.7<br>age: 3",
          "<br>cement: 276.0<br>superplastic: 9.0<br>age: 28",
          "<br>cement: 393.0<br>superplastic: 0.0<br>age: 90",
          "<br>cement: 238.1<br>superplastic: 0.0<br>age: 28",
          "<br>cement: 230.0<br>superplastic: 4.6<br>age: 3",
          "<br>cement: 389.9<br>superplastic: 22.0<br>age: 3",
          "<br>cement: 157.0<br>superplastic: 0.0<br>age: 90",
          "<br>cement: 296.0<br>superplastic: 0.0<br>age: 7",
          "<br>cement: 230.0<br>superplastic: 4.6<br>age: 28",
          "<br>cement: 359.0<br>superplastic: 10.9<br>age: 28",
          "<br>cement: 374.0<br>superplastic: 10.1<br>age: 56",
          "<br>cement: 102.0<br>superplastic: 0.0<br>age: 7",
          "<br>cement: 202.0<br>superplastic: 1.7<br>age: 3",
          "<br>cement: 350.0<br>superplastic: 0.0<br>age: 14",
          "<br>cement: 236.0<br>superplastic: 0.0<br>age: 28",
          "<br>cement: 252.0<br>superplastic: 0.0<br>age: 7",
          "<br>cement: 252.3<br>superplastic: 14.2<br>age: 100",
          "<br>cement: 336.5<br>superplastic: 3.4<br>age: 28",
          "<br>cement: 362.6<br>superplastic: 11.6<br>age: 56",
          "<br>cement: 218.2<br>superplastic: 11.9<br>age: 56",
          "<br>cement: 315.0<br>superplastic: 5.9<br>age: 28",
          "<br>cement: 159.0<br>superplastic: 7.0<br>age: 28",
          "<br>cement: 154.8<br>superplastic: 9.1<br>age: 28",
          "<br>cement: 281.0<br>superplastic: 0.0<br>age: 28",
          "<br>cement: 231.8<br>superplastic: 6.7<br>age: 14",
          "<br>cement: 318.8<br>superplastic: 14.3<br>age: 91",
          "<br>cement: 266.0<br>superplastic: 0.0<br>age: 365",
          "<br>cement: 277.0<br>superplastic: 0.0<br>age: 180",
          "<br>cement: 166.8<br>superplastic: 0.0<br>age: 28",
          "<br>cement: 159.8<br>superplastic: 12.2<br>age: 28",
          "<br>cement: 397.0<br>superplastic: 0.0<br>age: 7",
          "<br>cement: 231.8<br>superplastic: 6.7<br>age: 100",
          "<br>cement: 164.6<br>superplastic: 11.7<br>age: 28",
          "<br>cement: 122.6<br>superplastic: 0.0<br>age: 28",
          "<br>cement: 136.4<br>superplastic: 10.4<br>age: 28",
          "<br>cement: 190.0<br>superplastic: 0.0<br>age: 180",
          "<br>cement: 337.9<br>superplastic: 9.5<br>age: 56",
          "<br>cement: 349.0<br>superplastic: 0.0<br>age: 90",
          "<br>cement: 184.0<br>superplastic: 6.0<br>age: 28",
          "<br>cement: 424.0<br>superplastic: 8.5<br>age: 7",
          "<br>cement: 379.5<br>superplastic: 15.9<br>age: 28",
          "<br>cement: 212.0<br>superplastic: 7.8<br>age: 3",
          "<br>cement: 156.0<br>superplastic: 11.0<br>age: 28",
          "<br>cement: 136.0<br>superplastic: 6.0<br>age: 28",
          "<br>cement: 246.8<br>superplastic: 12.0<br>age: 100",
          "<br>cement: 203.5<br>superplastic: 0.0<br>age: 7",
          "<br>cement: 385.0<br>superplastic: 0.0<br>age: 3",
          "<br>cement: 181.4<br>superplastic: 7.6<br>age: 3",
          "<br>cement: 254.0<br>superplastic: 0.0<br>age: 90",
          "<br>cement: 359.0<br>superplastic: 10.9<br>age: 3",
          "<br>cement: 230.0<br>superplastic: 4.6<br>age: 100",
          "<br>cement: 382.0<br>superplastic: 0.0<br>age: 7",
          "<br>cement: 220.8<br>superplastic: 0.0<br>age: 28",
          "<br>cement: 313.3<br>superplastic: 8.0<br>age: 28",
          "<br>cement: 167.4<br>superplastic: 7.8<br>age: 56",
          "<br>cement: 144.0<br>superplastic: 8.0<br>age: 28",
          "<br>cement: 310.0<br>superplastic: 0.0<br>age: 90",
          "<br>cement: 425.0<br>superplastic: 18.6<br>age: 56",
          "<br>cement: 108.3<br>superplastic: 0.0<br>age: 3",
          "<br>cement: 214.9<br>superplastic: 9.6<br>age: 3",
          "<br>cement: 469.0<br>superplastic: 32.2<br>age: 56",
          "<br>cement: 310.0<br>superplastic: 0.0<br>age: 28",
          "<br>cement: 522.0<br>superplastic: 0.0<br>age: 7",
          "<br>cement: 236.0<br>superplastic: 0.0<br>age: 3",
          "<br>cement: 213.7<br>superplastic: 6.9<br>age: 3",
          "<br>cement: 250.2<br>superplastic: 0.0<br>age: 3",
          "<br>cement: 149.0<br>superplastic: 8.0<br>age: 28",
          "<br>cement: 439.0<br>superplastic: 11.1<br>age: 56",
          "<br>cement: 313.0<br>superplastic: 8.0<br>age: 28",
          "<br>cement: 427.5<br>superplastic: 0.0<br>age: 90",
          "<br>cement: 165.0<br>superplastic: 0.0<br>age: 28",
          "<br>cement: 322.5<br>superplastic: 8.5<br>age: 28",
          "<br>cement: 393.0<br>superplastic: 0.0<br>age: 90",
          "<br>cement: 362.6<br>superplastic: 11.6<br>age: 91",
          "<br>cement: 122.6<br>superplastic: 0.0<br>age: 3",
          "<br>cement: 213.7<br>superplastic: 10.2<br>age: 28",
          "<br>cement: 200.0<br>superplastic: 0.0<br>age: 28",
          "<br>cement: 108.3<br>superplastic: 0.0<br>age: 90",
          "<br>cement: 213.8<br>superplastic: 6.7<br>age: 28",
          "<br>cement: 290.4<br>superplastic: 9.4<br>age: 28",
          "<br>cement: 153.0<br>superplastic: 6.0<br>age: 28",
          "<br>cement: 229.7<br>superplastic: 6.1<br>age: 56",
          "<br>cement: 251.4<br>superplastic: 5.8<br>age: 28",
          "<br>cement: 322.0<br>superplastic: 0.0<br>age: 14",
          "<br>cement: 525.0<br>superplastic: 0.0<br>age: 270",
          "<br>cement: 389.9<br>superplastic: 22.0<br>age: 56",
          "<br>cement: 252.3<br>superplastic: 14.2<br>age: 14",
          "<br>cement: 475.0<br>superplastic: 8.9<br>age: 3",
          "<br>cement: 259.9<br>superplastic: 10.4<br>age: 28",
          "<br>cement: 310.0<br>superplastic: 0.0<br>age: 7",
          "<br>cement: 266.0<br>superplastic: 0.0<br>age: 270",
          "<br>cement: 236.9<br>superplastic: 6.0<br>age: 28",
          "<br>cement: 366.0<br>superplastic: 6.6<br>age: 28",
          "<br>cement: 333.0<br>superplastic: 0.0<br>age: 3",
          "<br>cement: 326.0<br>superplastic: 9.0<br>age: 28",
          "<br>cement: 145.9<br>superplastic: 3.4<br>age: 28",
          "<br>cement: 133.0<br>superplastic: 0.0<br>age: 7",
          "<br>cement: 251.4<br>superplastic: 5.8<br>age: 56",
          "<br>cement: 500.0<br>superplastic: 0.0<br>age: 270",
          "<br>cement: 154.8<br>superplastic: 9.1<br>age: 28",
          "<br>cement: 349.0<br>superplastic: 0.0<br>age: 120",
          "<br>cement: 389.9<br>superplastic: 22.0<br>age: 28",
          "<br>cement: 162.0<br>superplastic: 18.8<br>age: 28",
          "<br>cement: 277.1<br>superplastic: 11.8<br>age: 100",
          "<br>cement: 166.0<br>superplastic: 13.0<br>age: 28",
          "<br>cement: 277.0<br>superplastic: 7.0<br>age: 28",
          "<br>cement: 425.0<br>superplastic: 16.5<br>age: 3",
          "<br>cement: 439.0<br>superplastic: 11.1<br>age: 28",
          "<br>cement: 540.0<br>superplastic: 0.0<br>age: 3",
          "<br>cement: 480.0<br>superplastic: 0.0<br>age: 28",
          "<br>cement: 382.0<br>superplastic: 0.0<br>age: 28",
          "<br>cement: 475.0<br>superplastic: 0.0<br>age: 90",
          "<br>cement: 143.0<br>superplastic: 8.0<br>age: 28",
          "<br>cement: 203.5<br>superplastic: 0.0<br>age: 90",
          "<br>cement: 374.0<br>superplastic: 10.1<br>age: 91",
          "<br>cement: 181.9<br>superplastic: 0.0<br>age: 7",
          "<br>cement: 153.0<br>superplastic: 8.0<br>age: 28",
          "<br>cement: 450.1<br>superplastic: 3.0<br>age: 28",
          "<br>cement: 238.0<br>superplastic: 0.0<br>age: 28",
          "<br>cement: 380.0<br>superplastic: 0.0<br>age: 90",
          "<br>cement: 469.0<br>superplastic: 32.2<br>age: 91",
          "<br>cement: 528.0<br>superplastic: 6.9<br>age: 28",
          "<br>cement: 238.2<br>superplastic: 0.0<br>age: 28",
          "<br>cement: 186.2<br>superplastic: 0.0<br>age: 28",
          "<br>cement: 212.6<br>superplastic: 10.4<br>age: 28",
          "<br>cement: 475.0<br>superplastic: 0.0<br>age: 270",
          "<br>cement: 425.0<br>superplastic: 16.5<br>age: 3",
          "<br>cement: 198.6<br>superplastic: 0.0<br>age: 3",
          "<br>cement: 491.0<br>superplastic: 3.9<br>age: 7",
          "<br>cement: 277.1<br>superplastic: 11.8<br>age: 56",
          "<br>cement: 342.0<br>superplastic: 0.0<br>age: 180",
          "<br>cement: 387.0<br>superplastic: 13.9<br>age: 7",
          "<br>cement: 152.6<br>superplastic: 6.3<br>age: 28",
          "<br>cement: 281.0<br>superplastic: 0.0<br>age: 28",
          "<br>cement: 198.6<br>superplastic: 0.0<br>age: 90",
          "<br>cement: 491.0<br>superplastic: 3.9<br>age: 28",
          "<br>cement: 290.4<br>superplastic: 9.4<br>age: 14",
          "<br>cement: 144.0<br>superplastic: 18.0<br>age: 28",
          "<br>cement: 246.8<br>superplastic: 12.0<br>age: 14",
          "<br>cement: 252.5<br>superplastic: 0.0<br>age: 28",
          "<br>cement: 236.0<br>superplastic: 0.0<br>age: 180",
          "<br>cement: 540.0<br>superplastic: 0.0<br>age: 270",
          "<br>cement: 295.0<br>superplastic: 0.0<br>age: 7",
          "<br>cement: 150.7<br>superplastic: 15.6<br>age: 28",
          "<br>cement: 218.9<br>superplastic: 11.3<br>age: 28",
          "<br>cement: 233.8<br>superplastic: 4.6<br>age: 14",
          "<br>cement: 249.1<br>superplastic: 12.8<br>age: 100",
          "<br>cement: 339.0<br>superplastic: 0.0<br>age: 28",
          "<br>cement: 505.0<br>superplastic: 0.0<br>age: 28",
          "<br>cement: 230.0<br>superplastic: 4.6<br>age: 56",
          "<br>cement: 374.0<br>superplastic: 10.1<br>age: 3",
          "<br>cement: 139.6<br>superplastic: 0.0<br>age: 360",
          "<br>cement: 148.1<br>superplastic: 16.1<br>age: 28",
          "<br>cement: 190.3<br>superplastic: 9.9<br>age: 100",
          "<br>cement: 376.0<br>superplastic: 0.0<br>age: 14",
          "<br>cement: 251.4<br>superplastic: 6.4<br>age: 28",
          "<br>cement: 157.0<br>superplastic: 0.0<br>age: 7",
          "<br>cement: 304.0<br>superplastic: 0.0<br>age: 28",
          "<br>cement: 167.4<br>superplastic: 7.8<br>age: 14",
          "<br>cement: 304.0<br>superplastic: 6.0<br>age: 28",
          "<br>cement: 182.0<br>superplastic: 8.2<br>age: 3",
          "<br>cement: 252.0<br>superplastic: 0.0<br>age: 28",
          "<br>cement: 323.7<br>superplastic: 10.3<br>age: 3",
          "<br>cement: 350.0<br>superplastic: 0.0<br>age: 90",
          "<br>cement: 213.5<br>superplastic: 11.7<br>age: 100",
          "<br>cement: 286.3<br>superplastic: 11.2<br>age: 91",
          "<br>cement: 143.7<br>superplastic: 8.5<br>age: 28",
          "<br>cement: 236.0<br>superplastic: 0.0<br>age: 90",
          "<br>cement: 213.7<br>superplastic: 10.2<br>age: 14",
          "<br>cement: 181.4<br>superplastic: 7.6<br>age: 100",
          "<br>cement: 249.1<br>superplastic: 12.8<br>age: 56",
          "<br>cement: 193.5<br>superplastic: 0.0<br>age: 28",
          "<br>cement: 194.7<br>superplastic: 7.5<br>age: 28",
          "<br>cement: 289.0<br>superplastic: 6.0<br>age: 28",
          "<br>cement: 298.0<br>superplastic: 6.0<br>age: 28",
          "<br>cement: 192.0<br>superplastic: 0.0<br>age: 90",
          "<br>cement: 213.5<br>superplastic: 11.7<br>age: 56",
          "<br>cement: 190.0<br>superplastic: 0.0<br>age: 28",
          "<br>cement: 173.0<br>superplastic: 0.0<br>age: 90",
          "<br>cement: 213.5<br>superplastic: 11.7<br>age: 3",
          "<br>cement: 173.8<br>superplastic: 9.7<br>age: 28",
          "<br>cement: 284.0<br>superplastic: 7.0<br>age: 28",
          "<br>cement: 135.7<br>superplastic: 0.0<br>age: 7",
          "<br>cement: 246.8<br>superplastic: 12.0<br>age: 28",
          "<br>cement: 136.0<br>superplastic: 10.0<br>age: 28",
          "<br>cement: 139.6<br>superplastic: 0.0<br>age: 3",
          "<br>cement: 250.0<br>superplastic: 5.5<br>age: 14",
          "<br>cement: 475.0<br>superplastic: 0.0<br>age: 180",
          "<br>cement: 149.0<br>superplastic: 6.0<br>age: 28",
          "<br>cement: 277.0<br>superplastic: 0.0<br>age: 360",
          "<br>cement: 225.0<br>superplastic: 0.0<br>age: 7",
          "<br>cement: 289.0<br>superplastic: 5.5<br>age: 28",
          "<br>cement: 480.0<br>superplastic: 0.0<br>age: 90",
          "<br>cement: 153.0<br>superplastic: 0.0<br>age: 90",
          "<br>cement: 231.8<br>superplastic: 6.7<br>age: 56",
          "<br>cement: 225.0<br>superplastic: 0.0<br>age: 28",
          "<br>cement: 190.3<br>superplastic: 9.9<br>age: 14",
          "<br>cement: 172.4<br>superplastic: 4.1<br>age: 28",
          "<br>cement: 266.0<br>superplastic: 0.0<br>age: 180",
          "<br>cement: 212.5<br>superplastic: 8.7<br>age: 28",
          "<br>cement: 172.4<br>superplastic: 4.1<br>age: 56",
          "<br>cement: 388.6<br>superplastic: 12.1<br>age: 28",
          "<br>cement: 277.0<br>superplastic: 0.0<br>age: 28",
          "<br>cement: 141.3<br>superplastic: 0.0<br>age: 3",
          "<br>cement: 339.0<br>superplastic: 0.0<br>age: 90",
          "<br>cement: 289.0<br>superplastic: 0.0<br>age: 90",
          "<br>cement: 154.8<br>superplastic: 9.1<br>age: 28",
          "<br>cement: 480.0<br>superplastic: 0.0<br>age: 28",
          "<br>cement: 198.6<br>superplastic: 0.0<br>age: 28",
          "<br>cement: 194.7<br>superplastic: 7.5<br>age: 28",
          "<br>cement: 349.0<br>superplastic: 0.0<br>age: 7",
          "<br>cement: 366.0<br>superplastic: 7.0<br>age: 28",
          "<br>cement: 236.0<br>superplastic: 0.0<br>age: 90",
          "<br>cement: 305.3<br>superplastic: 0.0<br>age: 28",
          "<br>cement: 213.8<br>superplastic: 6.7<br>age: 56",
          "<br>cement: 218.2<br>superplastic: 11.9<br>age: 14",
          "<br>cement: 238.2<br>superplastic: 0.0<br>age: 7",
          "<br>cement: 159.0<br>superplastic: 11.0<br>age: 28",
          "<br>cement: 102.0<br>superplastic: 0.0<br>age: 90",
          "<br>cement: 170.3<br>superplastic: 0.0<br>age: 7",
          "<br>cement: 425.0<br>superplastic: 16.5<br>age: 7",
          "<br>cement: 342.0<br>superplastic: 0.0<br>age: 365",
          "<br>cement: 173.5<br>superplastic: 6.5<br>age: 3",
          "<br>cement: 330.5<br>superplastic: 8.1<br>age: 28",
          "<br>cement: 318.8<br>superplastic: 14.3<br>age: 28",
          "<br>cement: 304.8<br>superplastic: 9.8<br>age: 28",
          "<br>cement: 266.0<br>superplastic: 10.0<br>age: 28",
          "<br>cement: 165.0<br>superplastic: 8.1<br>age: 14",
          "<br>cement: 362.6<br>superplastic: 11.6<br>age: 3",
          "<br>cement: 139.6<br>superplastic: 0.0<br>age: 90",
          "<br>cement: 150.0<br>superplastic: 12.0<br>age: 28",
          "<br>cement: 310.0<br>superplastic: 10.0<br>age: 28",
          "<br>cement: 148.0<br>superplastic: 15.0<br>age: 28",
          "<br>cement: 203.5<br>superplastic: 0.0<br>age: 28",
          "<br>cement: 212.0<br>superplastic: 7.8<br>age: 14",
          "<br>cement: 102.0<br>superplastic: 0.0<br>age: 3",
          "<br>cement: 305.3<br>superplastic: 0.0<br>age: 90",
          "<br>cement: 183.9<br>superplastic: 0.0<br>age: 28",
          "<br>cement: 296.0<br>superplastic: 11.0<br>age: 28",
          "<br>cement: 275.1<br>superplastic: 9.9<br>age: 100",
          "<br>cement: 424.0<br>superplastic: 8.5<br>age: 56",
          "<br>cement: 166.1<br>superplastic: 4.5<br>age: 3",
          "<br>cement: 297.8<br>superplastic: 6.0<br>age: 28",
          "<br>cement: 321.3<br>superplastic: 4.6<br>age: 28",
          "<br>cement: 333.0<br>superplastic: 0.0<br>age: 90",
          "<br>cement: 102.0<br>superplastic: 0.0<br>age: 28",
          "<br>cement: 388.6<br>superplastic: 12.1<br>age: 91",
          "<br>cement: 480.0<br>superplastic: 0.0<br>age: 90",
          "<br>cement: 362.6<br>superplastic: 11.6<br>age: 3",
          "<br>cement: 134.7<br>superplastic: 10.0<br>age: 28",
          "<br>cement: 250.0<br>superplastic: 5.5<br>age: 3",
          "<br>cement: 284.0<br>superplastic: 5.5<br>age: 56",
          "<br>cement: 393.0<br>superplastic: 0.0<br>age: 7",
          "<br>cement: 475.0<br>superplastic: 8.9<br>age: 91",
          "<br>cement: 212.5<br>superplastic: 8.7<br>age: 100",
          "<br>cement: 251.4<br>superplastic: 5.8<br>age: 3",
          "<br>cement: 275.1<br>superplastic: 9.9<br>age: 28",
          "<br>cement: 166.8<br>superplastic: 0.0<br>age: 3",
          "<br>cement: 173.8<br>superplastic: 9.7<br>age: 3",
          "<br>cement: 374.0<br>superplastic: 10.1<br>age: 28",
          "<br>cement: 168.0<br>superplastic: 5.7<br>age: 28",
          "<br>cement: 425.0<br>superplastic: 16.5<br>age: 28",
          "<br>cement: 331.0<br>superplastic: 0.0<br>age: 120",
          "<br>cement: 525.0<br>superplastic: 0.0<br>age: 14",
          "<br>cement: 446.0<br>superplastic: 10.3<br>age: 28",
          "<br>cement: 300.0<br>superplastic: 10.0<br>age: 28",
          "<br>cement: 213.8<br>superplastic: 6.7<br>age: 14",
          "<br>cement: 255.0<br>superplastic: 0.0<br>age: 3",
          "<br>cement: 275.1<br>superplastic: 9.9<br>age: 14",
          "<br>cement: 382.5<br>superplastic: 0.0<br>age: 28",
          "<br>cement: 359.0<br>superplastic: 10.9<br>age: 7",
          "<br>cement: 190.3<br>superplastic: 9.9<br>age: 56",
          "<br>cement: 290.2<br>superplastic: 0.0<br>age: 28",
          "<br>cement: 380.0<br>superplastic: 0.0<br>age: 90",
          "<br>cement: 165.0<br>superplastic: 8.1<br>age: 100",
          "<br>cement: 375.0<br>superplastic: 23.4<br>age: 7",
          "<br>cement: 331.0<br>superplastic: 0.0<br>age: 360",
          "<br>cement: 277.0<br>superplastic: 7.0<br>age: 28",
          "<br>cement: 321.0<br>superplastic: 11.0<br>age: 28",
          "<br>cement: 313.3<br>superplastic: 8.6<br>age: 56",
          "<br>cement: 522.0<br>superplastic: 0.0<br>age: 28",
          "<br>cement: 446.0<br>superplastic: 11.6<br>age: 56",
          "<br>cement: 339.2<br>superplastic: 0.0<br>age: 7",
          "<br>cement: 286.3<br>superplastic: 11.2<br>age: 7",
          "<br>cement: 288.0<br>superplastic: 0.0<br>age: 90",
          "<br>cement: 212.6<br>superplastic: 10.4<br>age: 14",
          "<br>cement: 400.0<br>superplastic: 0.0<br>age: 28",
          "<br>cement: 155.2<br>superplastic: 9.2<br>age: 28",
          "<br>cement: 349.0<br>superplastic: 0.0<br>age: 28",
          "<br>cement: 334.0<br>superplastic: 15.3<br>age: 28",
          "<br>cement: 168.0<br>superplastic: 5.7<br>age: 100",
          "<br>cement: 362.6<br>superplastic: 11.6<br>age: 56",
          "<br>cement: 255.5<br>superplastic: 0.0<br>age: 28",
          "<br>cement: 427.5<br>superplastic: 0.0<br>age: 365",
          "<br>cement: 439.0<br>superplastic: 11.1<br>age: 3",
          "<br>cement: 261.9<br>superplastic: 5.0<br>age: 28",
          "<br>cement: 252.0<br>superplastic: 0.0<br>age: 28",
          "<br>cement: 485.0<br>superplastic: 0.0<br>age: 28",
          "<br>cement: 194.7<br>superplastic: 7.5<br>age: 3",
          "<br>cement: 148.0<br>superplastic: 2.0<br>age: 28",
          "<br>cement: 288.0<br>superplastic: 0.0<br>age: 28",
          "<br>cement: 359.0<br>superplastic: 10.9<br>age: 56",
          "<br>cement: 356.0<br>superplastic: 11.0<br>age: 28",
          "<br>cement: 382.0<br>superplastic: 0.0<br>age: 7",
          "<br>cement: 439.0<br>superplastic: 11.1<br>age: 91",
          "<br>cement: 264.5<br>superplastic: 5.9<br>age: 28",
          "<br>cement: 190.7<br>superplastic: 7.8<br>age: 14",
          "<br>cement: 173.8<br>superplastic: 9.7<br>age: 100",
          "<br>cement: 317.9<br>superplastic: 5.7<br>age: 28",
          "<br>cement: 288.4<br>superplastic: 7.0<br>age: 28",
          "<br>cement: 425.0<br>superplastic: 16.5<br>age: 91",
          "<br>cement: 359.0<br>superplastic: 10.9<br>age: 3",
          "<br>cement: 237.5<br>superplastic: 0.0<br>age: 365",
          "<br>cement: 133.0<br>superplastic: 0.0<br>age: 28",
          "<br>cement: 427.5<br>superplastic: 0.0<br>age: 28",
          "<br>cement: 162.0<br>superplastic: 10.0<br>age: 28",
          "<br>cement: 251.8<br>superplastic: 12.4<br>age: 56",
          "<br>cement: 425.0<br>superplastic: 16.5<br>age: 56",
          "<br>cement: 491.0<br>superplastic: 3.9<br>age: 7",
          "<br>cement: 275.0<br>superplastic: 10.4<br>age: 28",
          "<br>cement: 145.4<br>superplastic: 7.8<br>age: 28",
          "<br>cement: 362.6<br>superplastic: 11.6<br>age: 91",
          "<br>cement: 277.2<br>superplastic: 11.2<br>age: 3",
          "<br>cement: 212.5<br>superplastic: 8.7<br>age: 3",
          "<br>cement: 218.9<br>superplastic: 11.3<br>age: 100",
          "<br>cement: 297.2<br>superplastic: 9.5<br>age: 14",
          "<br>cement: 333.0<br>superplastic: 0.0<br>age: 28",
          "<br>cement: 280.0<br>superplastic: 9.0<br>age: 28",
          "<br>cement: 178.0<br>superplastic: 3.6<br>age: 100",
          "<br>cement: 339.0<br>superplastic: 0.0<br>age: 28",
          "<br>cement: 500.0<br>superplastic: 0.0<br>age: 1",
          "<br>cement: 362.6<br>superplastic: 11.6<br>age: 7",
          "<br>cement: 375.0<br>superplastic: 23.4<br>age: 3",
          "<br>cement: 382.0<br>superplastic: 0.0<br>age: 7",
          "<br>cement: 451.0<br>superplastic: 11.3<br>age: 28",
          "<br>cement: 251.8<br>superplastic: 12.4<br>age: 28",
          "<br>cement: 212.0<br>superplastic: 0.0<br>age: 90",
          "<br>cement: 153.0<br>superplastic: 0.0<br>age: 7",
          "<br>cement: 318.8<br>superplastic: 14.3<br>age: 3",
          "<br>cement: 296.0<br>superplastic: 0.0<br>age: 28",
          "<br>cement: 313.8<br>superplastic: 10.1<br>age: 28",
          "<br>cement: 164.0<br>superplastic: 13.0<br>age: 28",
          "<br>cement: 297.2<br>superplastic: 9.5<br>age: 56",
          "<br>cement: 231.8<br>superplastic: 6.7<br>age: 3",
          "<br>cement: 203.5<br>superplastic: 0.0<br>age: 7",
          "<br>cement: 425.0<br>superplastic: 16.5<br>age: 56",
          "<br>cement: 310.0<br>superplastic: 22.0<br>age: 28",
          "<br>cement: 349.0<br>superplastic: 0.0<br>age: 90",
          "<br>cement: 480.0<br>superplastic: 0.0<br>age: 3",
          "<br>cement: 298.1<br>superplastic: 12.8<br>age: 28",
          "<br>cement: 446.0<br>superplastic: 11.6<br>age: 28",
          "<br>cement: 381.4<br>superplastic: 0.0<br>age: 7",
          "<br>cement: 475.0<br>superplastic: 9.5<br>age: 28",
          "<br>cement: 362.6<br>superplastic: 11.6<br>age: 28",
          "<br>cement: 500.0<br>superplastic: 0.0<br>age: 3",
          "<br>cement: 425.0<br>superplastic: 16.5<br>age: 91",
          "<br>cement: 261.0<br>superplastic: 9.0<br>age: 28",
          "<br>cement: 359.0<br>superplastic: 10.9<br>age: 56",
          "<br>cement: 237.5<br>superplastic: 0.0<br>age: 90",
          "<br>cement: 393.0<br>superplastic: 0.0<br>age: 3",
          "<br>cement: 286.3<br>superplastic: 11.2<br>age: 56",
          "<br>cement: 213.7<br>superplastic: 6.9<br>age: 56",
          "<br>cement: 173.8<br>superplastic: 9.7<br>age: 56",
          "<br>cement: 238.1<br>superplastic: 7.0<br>age: 3",
          "<br>cement: 251.4<br>superplastic: 6.4<br>age: 14",
          "<br>cement: 387.0<br>superplastic: 13.9<br>age: 56",
          "<br>cement: 531.3<br>superplastic: 28.2<br>age: 7",
          "<br>cement: 304.0<br>superplastic: 0.0<br>age: 180",
          "<br>cement: 525.0<br>superplastic: 0.0<br>age: 90",
          "<br>cement: 145.0<br>superplastic: 5.7<br>age: 28",
          "<br>cement: 212.0<br>superplastic: 0.0<br>age: 3",
          "<br>cement: 374.0<br>superplastic: 10.1<br>age: 7",
          "<br>cement: 165.0<br>superplastic: 12.0<br>age: 28",
          "<br>cement: 424.0<br>superplastic: 8.9<br>age: 28",
          "<br>cement: 150.0<br>superplastic: 11.9<br>age: 28",
          "<br>cement: 212.0<br>superplastic: 0.0<br>age: 7",
          "<br>cement: 272.8<br>superplastic: 0.0<br>age: 7",
          "<br>cement: 284.0<br>superplastic: 5.5<br>age: 28",
          "<br>cement: 116.0<br>superplastic: 0.0<br>age: 3",
          "<br>cement: 260.0<br>superplastic: 10.0<br>age: 28",
          "<br>cement: 376.0<br>superplastic: 0.0<br>age: 28",
          "<br>cement: 379.5<br>superplastic: 15.9<br>age: 7",
          "<br>cement: 233.8<br>superplastic: 4.6<br>age: 56",
          "<br>cement: 181.9<br>superplastic: 0.0<br>age: 28",
          "<br>cement: 500.0<br>superplastic: 0.0<br>age: 90",
          "<br>cement: 167.0<br>superplastic: 7.9<br>age: 14",
          "<br>cement: 212.6<br>superplastic: 10.4<br>age: 3",
          "<br>cement: 297.2<br>superplastic: 9.5<br>age: 28",
          "<br>cement: 153.1<br>superplastic: 8.0<br>age: 28",
          "<br>cement: 173.0<br>superplastic: 0.0<br>age: 28",
          "<br>cement: 525.0<br>superplastic: 0.0<br>age: 7",
          "<br>cement: 289.0<br>superplastic: 0.0<br>age: 28",
          "<br>cement: 228.0<br>superplastic: 0.0<br>age: 28",
          "<br>cement: 182.0<br>superplastic: 8.2<br>age: 56",
          "<br>cement: 144.0<br>superplastic: 7.0<br>age: 28",
          "<br>cement: 155.0<br>superplastic: 9.0<br>age: 28",
          "<br>cement: 251.4<br>superplastic: 6.4<br>age: 3",
          "<br>cement: 475.0<br>superplastic: 8.9<br>age: 56",
          "<br>cement: 190.0<br>superplastic: 0.0<br>age: 270",
          "<br>cement: 157.0<br>superplastic: 0.0<br>age: 28",
          "<br>cement: 355.0<br>superplastic: 13.1<br>age: 28",
          "<br>cement: 202.0<br>superplastic: 1.7<br>age: 56",
          "<br>cement: 446.0<br>superplastic: 11.6<br>age: 56",
          "<br>cement: 425.0<br>superplastic: 18.6<br>age: 91",
          "<br>cement: 362.6<br>superplastic: 11.6<br>age: 7",
          "<br>cement: 425.0<br>superplastic: 16.5<br>age: 28",
          "<br>cement: 190.7<br>superplastic: 7.8<br>age: 100",
          "<br>cement: 325.0<br>superplastic: 0.0<br>age: 28",
          "<br>cement: 251.4<br>superplastic: 6.4<br>age: 100",
          "<br>cement: 525.0<br>superplastic: 0.0<br>age: 180",
          "<br>cement: 212.5<br>superplastic: 8.7<br>age: 56",
          "<br>cement: 149.0<br>superplastic: 13.0<br>age: 28",
          "<br>cement: 375.0<br>superplastic: 23.4<br>age: 56",
          "<br>cement: 173.5<br>superplastic: 6.5<br>age: 100",
          "<br>cement: 165.0<br>superplastic: 0.0<br>age: 56",
          "<br>cement: 168.0<br>superplastic: 5.7<br>age: 3",
          "<br>cement: 157.0<br>superplastic: 9.0<br>age: 28",
          "<br>cement: 272.6<br>superplastic: 10.6<br>age: 28",
          "<br>cement: 251.8<br>superplastic: 12.4<br>age: 100",
          "<br>cement: 322.0<br>superplastic: 0.0<br>age: 28",
          "<br>cement: 238.1<br>superplastic: 0.0<br>age: 7",
          "<br>cement: 424.0<br>superplastic: 8.9<br>age: 56",
          "<br>cement: 339.0<br>superplastic: 0.0<br>age: 180",
          "<br>cement: 331.0<br>superplastic: 0.0<br>age: 3",
          "<br>cement: 133.1<br>superplastic: 3.1<br>age: 28",
          "<br>cement: 212.1<br>superplastic: 5.7<br>age: 28",
          "<br>cement: 165.0<br>superplastic: 8.1<br>age: 56",
          "<br>cement: 145.0<br>superplastic: 11.0<br>age: 28",
          "<br>cement: 277.0<br>superplastic: 0.0<br>age: 3",
          "<br>cement: 339.0<br>superplastic: 0.0<br>age: 365",
          "<br>cement: 143.6<br>superplastic: 17.9<br>age: 28",
          "<br>cement: 210.7<br>superplastic: 0.0<br>age: 7",
          "<br>cement: 362.6<br>superplastic: 11.6<br>age: 56",
          "<br>cement: 260.9<br>superplastic: 8.6<br>age: 28",
          "<br>cement: 305.3<br>superplastic: 0.0<br>age: 3",
          "<br>cement: 166.1<br>superplastic: 4.5<br>age: 100",
          "<br>cement: 500.0<br>superplastic: 9.0<br>age: 28",
          "<br>cement: 475.0<br>superplastic: 0.0<br>age: 7",
          "<br>cement: 229.7<br>superplastic: 6.1<br>age: 100",
          "<br>cement: 439.0<br>superplastic: 11.1<br>age: 7",
          "<br>cement: 393.0<br>superplastic: 0.0<br>age: 3",
          "<br>cement: 238.1<br>superplastic: 7.0<br>age: 28",
          "<br>cement: 491.0<br>superplastic: 3.9<br>age: 56",
          "<br>cement: 491.0<br>superplastic: 3.9<br>age: 56",
          "<br>cement: 388.6<br>superplastic: 12.1<br>age: 56",
          "<br>cement: 295.8<br>superplastic: 0.0<br>age: 7",
          "<br>cement: 250.0<br>superplastic: 5.5<br>age: 56",
          "<br>cement: 339.0<br>superplastic: 0.0<br>age: 14",
          "<br>cement: 332.5<br>superplastic: 0.0<br>age: 180",
          "<br>cement: 167.0<br>superplastic: 7.9<br>age: 3",
          "<br>cement: 380.0<br>superplastic: 0.0<br>age: 180",
          "<br>cement: 380.0<br>superplastic: 0.0<br>age: 270",
          "<br>cement: 288.0<br>superplastic: 7.0<br>age: 28",
          "<br>cement: 212.6<br>superplastic: 10.4<br>age: 100",
          "<br>cement: 200.0<br>superplastic: 0.0<br>age: 90",
          "<br>cement: 387.0<br>superplastic: 13.9<br>age: 3",
          "<br>cement: 296.0<br>superplastic: 0.0<br>age: 7",
          "<br>cement: 322.2<br>superplastic: 10.4<br>age: 28",
          "<br>cement: 251.4<br>superplastic: 5.8<br>age: 14",
          "<br>cement: 446.0<br>superplastic: 11.6<br>age: 3",
          "<br>cement: 304.0<br>superplastic: 0.0<br>age: 270",
          "<br>cement: 310.0<br>superplastic: 0.0<br>age: 3",
          "<br>cement: 405.0<br>superplastic: 0.0<br>age: 28",
          "<br>cement: 321.0<br>superplastic: 5.0<br>age: 28",
          "<br>cement: 275.0<br>superplastic: 0.0<br>age: 7",
          "<br>cement: 149.0<br>superplastic: 7.1<br>age: 28",
          "<br>cement: 186.2<br>superplastic: 0.0<br>age: 7",
          "<br>cement: 446.0<br>superplastic: 11.6<br>age: 7",
          "<br>cement: 401.8<br>superplastic: 11.4<br>age: 7",
          "<br>cement: 331.0<br>superplastic: 0.0<br>age: 3",
          "<br>cement: 198.6<br>superplastic: 0.0<br>age: 180",
          "<br>cement: 222.4<br>superplastic: 4.5<br>age: 100",
          "<br>cement: 173.8<br>superplastic: 9.7<br>age: 14",
          "<br>cement: 255.0<br>superplastic: 0.0<br>age: 28",
          "<br>cement: 255.3<br>superplastic: 6.5<br>age: 28",
          "<br>cement: 322.0<br>superplastic: 10.0<br>age: 28",
          "<br>cement: 266.2<br>superplastic: 10.4<br>age: 28",
          "<br>cement: 480.0<br>superplastic: 0.0<br>age: 3",
          "<br>cement: 250.0<br>superplastic: 5.3<br>age: 3",
          "<br>cement: 190.7<br>superplastic: 7.8<br>age: 28",
          "<br>cement: 214.9<br>superplastic: 9.6<br>age: 14",
          "<br>cement: 277.2<br>superplastic: 11.2<br>age: 100",
          "<br>cement: 385.0<br>superplastic: 20.0<br>age: 28",
          "<br>cement: 307.0<br>superplastic: 0.0<br>age: 3",
          "<br>cement: 295.7<br>superplastic: 8.9<br>age: 28",
          "<br>cement: 246.8<br>superplastic: 12.0<br>age: 3",
          "<br>cement: 525.0<br>superplastic: 0.0<br>age: 28",
          "<br>cement: 250.0<br>superplastic: 0.0<br>age: 7",
          "<br>cement: 251.4<br>superplastic: 5.8<br>age: 56",
          "<br>cement: 540.0<br>superplastic: 0.0<br>age: 14",
          "<br>cement: 190.3<br>superplastic: 9.9<br>age: 28",
          "<br>cement: 387.0<br>superplastic: 14.3<br>age: 7",
          "<br>cement: 173.0<br>superplastic: 0.0<br>age: 7",
          "<br>cement: 166.1<br>superplastic: 4.5<br>age: 56",
          "<br>cement: 310.0<br>superplastic: 0.0<br>age: 28",
          "<br>cement: 254.0<br>superplastic: 0.0<br>age: 3",
          "<br>cement: 190.3<br>superplastic: 9.9<br>age: 14",
          "<br>cement: 145.0<br>superplastic: 8.0<br>age: 28",
          "<br>cement: 277.1<br>superplastic: 11.8<br>age: 3",
          "<br>cement: 289.0<br>superplastic: 0.0<br>age: 3",
          "<br>cement: 339.2<br>superplastic: 0.0<br>age: 28",
          "<br>cement: 200.0<br>superplastic: 0.0<br>age: 7",
          "<br>cement: 295.8<br>superplastic: 0.0<br>age: 28",
          "<br>cement: 230.0<br>superplastic: 4.6<br>age: 14",
          "<br>cement: 425.0<br>superplastic: 18.6<br>age: 7",
          "<br>cement: 238.1<br>superplastic: 7.0<br>age: 56",
          "<br>cement: 284.0<br>superplastic: 5.5<br>age: 3",
          "<br>cement: 349.0<br>superplastic: 0.0<br>age: 3",
          "<br>cement: 152.0<br>superplastic: 18.0<br>age: 28",
          "<br>cement: 160.2<br>superplastic: 11.3<br>age: 28",
          "<br>cement: 202.0<br>superplastic: 1.7<br>age: 7",
          "<br>cement: 194.7<br>superplastic: 7.5<br>age: 3",
          "<br>cement: 156.0<br>superplastic: 7.0<br>age: 28",
          "<br>cement: 222.4<br>superplastic: 4.5<br>age: 14",
          "<br>cement: 143.8<br>superplastic: 7.5<br>age: 28",
          "<br>cement: 168.9<br>superplastic: 10.8<br>age: 100",
          "<br>cement: 266.0<br>superplastic: 0.0<br>age: 90",
          "<br>cement: 194.7<br>superplastic: 7.5<br>age: 56",
          "<br>cement: 349.0<br>superplastic: 0.0<br>age: 28",
          "<br>cement: 380.0<br>superplastic: 0.0<br>age: 7",
          "<br>cement: 151.0<br>superplastic: 12.0<br>age: 28",
          "<br>cement: 376.0<br>superplastic: 0.0<br>age: 3",
          "<br>cement: 212.0<br>superplastic: 7.8<br>age: 28",
          "<br>cement: 310.0<br>superplastic: 0.0<br>age: 3",
          "<br>cement: 307.0<br>superplastic: 0.0<br>age: 180",
          "<br>cement: 166.0<br>superplastic: 12.7<br>age: 28",
          "<br>cement: 252.5<br>superplastic: 0.0<br>age: 7",
          "<br>cement: 475.0<br>superplastic: 8.9<br>age: 28",
          "<br>cement: 229.7<br>superplastic: 6.1<br>age: 28",
          "<br>cement: 158.8<br>superplastic: 0.0<br>age: 7",
          "<br>cement: 139.9<br>superplastic: 7.4<br>age: 28",
          "<br>cement: 349.0<br>superplastic: 0.0<br>age: 3",
          "<br>cement: 157.0<br>superplastic: 0.0<br>age: 3",
          "<br>cement: 122.6<br>superplastic: 0.0<br>age: 7",
          "<br>cement: 218.9<br>superplastic: 11.3<br>age: 14",
          "<br>cement: 331.0<br>superplastic: 0.0<br>age: 90",
          "<br>cement: 295.0<br>superplastic: 0.0<br>age: 28",
          "<br>cement: 173.5<br>superplastic: 6.5<br>age: 56",
          "<br>cement: 374.3<br>superplastic: 6.7<br>age: 28",
          "<br>cement: 287.3<br>superplastic: 9.2<br>age: 28",
          "<br>cement: 298.1<br>superplastic: 6.1<br>age: 28",
          "<br>cement: 190.0<br>superplastic: 0.0<br>age: 365",
          "<br>cement: 350.0<br>superplastic: 0.0<br>age: 28",
          "<br>cement: 303.6<br>superplastic: 6.2<br>age: 28",
          "<br>cement: 350.0<br>superplastic: 0.0<br>age: 28",
          "<br>cement: 168.9<br>superplastic: 10.8<br>age: 3",
          "<br>cement: 339.0<br>superplastic: 0.0<br>age: 7",
          "<br>cement: 252.3<br>superplastic: 14.2<br>age: 3",
          "<br>cement: 380.0<br>superplastic: 0.0<br>age: 365",
          "<br>cement: 500.0<br>superplastic: 0.0<br>age: 180",
          "<br>cement: 249.1<br>superplastic: 12.8<br>age: 28",
          "<br>cement: 167.0<br>superplastic: 7.9<br>age: 56",
          "<br>cement: 381.4<br>superplastic: 0.0<br>age: 28",
          "<br>cement: 500.0<br>superplastic: 0.0<br>age: 28",
          "<br>cement: 212.0<br>superplastic: 0.0<br>age: 28",
          "<br>cement: 255.0<br>superplastic: 0.0<br>age: 7",
          "<br>cement: 220.8<br>superplastic: 0.0<br>age: 7",
          "<br>cement: 192.0<br>superplastic: 0.0<br>age: 28",
          "<br>cement: 213.7<br>superplastic: 10.2<br>age: 100",
          "<br>cement: 190.3<br>superplastic: 9.9<br>age: 3",
          "<br>cement: 540.0<br>superplastic: 2.5<br>age: 28",
          "<br>cement: 362.6<br>superplastic: 11.6<br>age: 91",
          "<br>cement: 214.9<br>superplastic: 9.6<br>age: 28",
          "<br>cement: 289.0<br>superplastic: 0.0<br>age: 7",
          "<br>cement: 108.3<br>superplastic: 0.0<br>age: 28",
          "<br>cement: 210.7<br>superplastic: 0.0<br>age: 28",
          "<br>cement: 362.6<br>superplastic: 11.6<br>age: 28",
          "<br>cement: 170.3<br>superplastic: 0.0<br>age: 28",
          "<br>cement: 140.0<br>superplastic: 6.0<br>age: 28",
          "<br>cement: 540.0<br>superplastic: 0.0<br>age: 90",
          "<br>cement: 135.7<br>superplastic: 0.0<br>age: 28",
          "<br>cement: 150.9<br>superplastic: 11.6<br>age: 28",
          "<br>cement: 469.0<br>superplastic: 32.2<br>age: 7",
          "<br>cement: 290.4<br>superplastic: 9.4<br>age: 100",
          "<br>cement: 167.0<br>superplastic: 7.9<br>age: 100",
          "<br>cement: 250.2<br>superplastic: 0.0<br>age: 7",
          "<br>cement: 236.0<br>superplastic: 0.0<br>age: 28",
          "<br>cement: 192.0<br>superplastic: 0.0<br>age: 7",
          "<br>cement: 333.0<br>superplastic: 17.9<br>age: 28",
          "<br>cement: 158.8<br>superplastic: 0.0<br>age: 28",
          "<br>cement: 252.3<br>superplastic: 14.2<br>age: 28",
          "<br>cement: 446.0<br>superplastic: 11.6<br>age: 7",
          "<br>cement: 254.0<br>superplastic: 0.0<br>age: 365",
          "<br>cement: 349.0<br>superplastic: 0.0<br>age: 360",
          "<br>cement: 213.5<br>superplastic: 11.7<br>age: 3",
          "<br>cement: 251.4<br>superplastic: 5.8<br>age: 28",
          "<br>cement: 194.7<br>superplastic: 7.5<br>age: 56",
          "<br>cement: 135.0<br>superplastic: 6.0<br>age: 28",
          "<br>cement: 277.1<br>superplastic: 11.8<br>age: 28",
          "<br>cement: 251.4<br>superplastic: 5.8<br>age: 100",
          "<br>cement: 387.0<br>superplastic: 14.3<br>age: 3",
          "<br>cement: 525.0<br>superplastic: 0.0<br>age: 3",
          "<br>cement: 151.0<br>superplastic: 16.0<br>age: 28",
          "<br>cement: 146.5<br>superplastic: 8.8<br>age: 28",
          "<br>cement: 362.6<br>superplastic: 11.6<br>age: 91",
          "<br>cement: 313.3<br>superplastic: 8.0<br>age: 28",
          "<br>cement: 250.2<br>superplastic: 0.0<br>age: 28",
          "<br>cement: 374.0<br>superplastic: 7.0<br>age: 28",
          "<br>cement: 146.0<br>superplastic: 3.0<br>age: 28",
          "<br>cement: 168.9<br>superplastic: 10.8<br>age: 28",
          "<br>cement: 212.1<br>superplastic: 5.7<br>age: 14",
          "<br>cement: 400.0<br>superplastic: 0.0<br>age: 7",
          "<br>cement: 212.6<br>superplastic: 10.4<br>age: 56",
          "<br>cement: 275.0<br>superplastic: 0.0<br>age: 28",
          "<br>cement: 540.0<br>superplastic: 0.0<br>age: 180",
          "<br>cement: 376.0<br>superplastic: 0.0<br>age: 56",
          "<br>cement: 314.0<br>superplastic: 10.0<br>age: 28",
          "<br>cement: 298.0<br>superplastic: 13.0<br>age: 28",
          "<br>cement: 251.4<br>superplastic: 5.8<br>age: 100",
          "<br>cement: 296.0<br>superplastic: 10.5<br>age: 28",
          "<br>cement: 251.4<br>superplastic: 5.8<br>age: 14",
          "<br>cement: 153.0<br>superplastic: 0.0<br>age: 3",
          "<br>cement: 314.0<br>superplastic: 8.0<br>age: 28",
          "<br>cement: 190.3<br>superplastic: 9.9<br>age: 100",
          "<br>cement: 446.0<br>superplastic: 11.6<br>age: 3",
          "<br>cement: 307.0<br>superplastic: 0.0<br>age: 90",
          "<br>cement: 516.0<br>superplastic: 8.3<br>age: 28",
          "<br>cement: 168.0<br>superplastic: 5.7<br>age: 56",
          "<br>cement: 427.5<br>superplastic: 0.0<br>age: 7",
          "<br>cement: 173.5<br>superplastic: 6.5<br>age: 28",
          "<br>cement: 333.0<br>superplastic: 0.0<br>age: 7",
          "<br>cement: 339.0<br>superplastic: 0.0<br>age: 7",
          "<br>cement: 152.0<br>superplastic: 8.0<br>age: 28",
          "<br>cement: 213.8<br>superplastic: 6.7<br>age: 3",
          "<br>cement: 152.7<br>superplastic: 8.0<br>age: 28",
          "<br>cement: 198.6<br>superplastic: 0.0<br>age: 7",
          "<br>cement: 222.4<br>superplastic: 4.5<br>age: 3",
          "<br>cement: 305.0<br>superplastic: 10.0<br>age: 28",
          "<br>cement: 375.0<br>superplastic: 0.0<br>age: 7",
          "<br>cement: 297.2<br>superplastic: 9.5<br>age: 100",
          "<br>cement: 148.5<br>superplastic: 6.1<br>age: 28",
          "<br>cement: 272.8<br>superplastic: 9.0<br>age: 28",
          "<br>cement: 424.0<br>superplastic: 8.9<br>age: 3",
          "<br>cement: 359.0<br>superplastic: 10.9<br>age: 7",
          "<br>cement: 332.5<br>superplastic: 0.0<br>age: 28",
          "<br>cement: 380.0<br>superplastic: 0.0<br>age: 28",
          "<br>cement: 446.0<br>superplastic: 11.6<br>age: 7",
          "<br>cement: 108.3<br>superplastic: 0.0<br>age: 7",
          "<br>cement: 249.1<br>superplastic: 12.8<br>age: 14",
          "<br>cement: 389.9<br>superplastic: 22.0<br>age: 7",
          "<br>cement: 250.0<br>superplastic: 5.3<br>age: 14",
          "<br>cement: 213.7<br>superplastic: 10.2<br>age: 3",
          "<br>cement: 165.0<br>superplastic: 8.1<br>age: 28",
          "<br>cement: 182.0<br>superplastic: 8.2<br>age: 28",
          "<br>cement: 469.0<br>superplastic: 32.2<br>age: 28",
          "<br>cement: 154.0<br>superplastic: 7.0<br>age: 28",
          "<br>cement: 250.0<br>superplastic: 0.0<br>age: 28",
          "<br>cement: 200.0<br>superplastic: 0.0<br>age: 28",
          "<br>cement: 172.4<br>superplastic: 4.1<br>age: 14",
          "<br>cement: 164.2<br>superplastic: 12.6<br>age: 28",
          "<br>cement: 382.5<br>superplastic: 0.0<br>age: 7",
          "<br>cement: 313.0<br>superplastic: 10.0<br>age: 28",
          "<br>cement: 250.0<br>superplastic: 9.5<br>age: 28",
          "<br>cement: 397.0<br>superplastic: 0.0<br>age: 28",
          "<br>cement: 139.7<br>superplastic: 5.8<br>age: 28",
          "<br>cement: 190.3<br>superplastic: 9.9<br>age: 56",
          "<br>cement: 331.0<br>superplastic: 8.0<br>age: 28",
          "<br>cement: 229.7<br>superplastic: 6.1<br>age: 14",
          "<br>cement: 425.0<br>superplastic: 16.5<br>age: 7",
          "<br>cement: 385.0<br>superplastic: 0.0<br>age: 1",
          "<br>cement: 238.1<br>superplastic: 7.0<br>age: 14",
          "<br>cement: 325.6<br>superplastic: 8.9<br>age: 28",
          "<br>cement: 337.9<br>superplastic: 9.5<br>age: 91",
          "<br>cement: 222.4<br>superplastic: 4.5<br>age: 28",
          "<br>cement: 212.0<br>superplastic: 7.8<br>age: 100",
          "<br>cement: 181.4<br>superplastic: 7.6<br>age: 56",
          "<br>cement: 531.3<br>superplastic: 28.2<br>age: 56",
          "<br>cement: 337.9<br>superplastic: 9.5<br>age: 7",
          "<br>cement: 302.0<br>superplastic: 0.0<br>age: 28",
          "<br>cement: 313.3<br>superplastic: 8.6<br>age: 3",
          "<br>cement: 332.5<br>superplastic: 0.0<br>age: 7",
          "<br>cement: 300.0<br>superplastic: 0.0<br>age: 7",
          "<br>cement: 337.9<br>superplastic: 9.5<br>age: 3",
          "<br>cement: 388.6<br>superplastic: 12.1<br>age: 7",
          "<br>cement: 491.0<br>superplastic: 3.9<br>age: 3",
          "<br>cement: 165.0<br>superplastic: 0.0<br>age: 3",
          "<br>cement: 252.3<br>superplastic: 14.2<br>age: 56",
          "<br>cement: 349.0<br>superplastic: 0.0<br>age: 3",
          "<br>cement: 427.5<br>superplastic: 0.0<br>age: 270",
          "<br>cement: 249.1<br>superplastic: 12.8<br>age: 3",
          "<br>cement: 203.5<br>superplastic: 0.0<br>age: 28",
          "<br>cement: 132.0<br>superplastic: 5.5<br>age: 28",
          "<br>cement: 387.0<br>superplastic: 11.6<br>age: 3",
          "<br>cement: 425.0<br>superplastic: 18.6<br>age: 3",
          "<br>cement: 312.7<br>superplastic: 8.0<br>age: 28",
          "<br>cement: 375.0<br>superplastic: 23.4<br>age: 28",
          "<br>cement: 218.2<br>superplastic: 11.9<br>age: 100",
          "<br>cement: 300.0<br>superplastic: 0.0<br>age: 28",
          "<br>cement: 162.0<br>superplastic: 19.0<br>age: 28",
          "<br>cement: 310.0<br>superplastic: 0.0<br>age: 180",
          "<br>cement: 310.0<br>superplastic: 0.0<br>age: 120",
          "<br>cement: 401.8<br>superplastic: 11.4<br>age: 56",
          "<br>cement: 213.7<br>superplastic: 6.9<br>age: 100",
          "<br>cement: 153.0<br>superplastic: 8.0<br>age: 28",
          "<br>cement: 273.0<br>superplastic: 9.0<br>age: 28",
          "<br>cement: 214.9<br>superplastic: 9.6<br>age: 56",
          "<br>cement: 172.4<br>superplastic: 4.1<br>age: 3",
          "<br>cement: 516.0<br>superplastic: 8.2<br>age: 28",
          "<br>cement: 116.0<br>superplastic: 0.0<br>age: 7",
          "<br>cement: 331.0<br>superplastic: 0.0<br>age: 7",
          "<br>cement: 212.1<br>superplastic: 5.7<br>age: 100",
          "<br>cement: 155.0<br>superplastic: 9.0<br>age: 28",
          "<br>cement: 401.8<br>superplastic: 11.4<br>age: 3",
          "<br>cement: 279.8<br>superplastic: 9.5<br>age: 28",
          "<br>cement: 158.4<br>superplastic: 11.0<br>age: 28",
          "<br>cement: 265.0<br>superplastic: 6.0<br>age: 28",
          "<br>cement: 237.5<br>superplastic: 0.0<br>age: 270",
          "<br>cement: 290.4<br>superplastic: 9.4<br>age: 3",
          "<br>cement: 425.0<br>superplastic: 16.5<br>age: 56",
          "<br>cement: 277.1<br>superplastic: 11.8<br>age: 14",
          "<br>cement: 213.5<br>superplastic: 11.7<br>age: 14",
          "<br>cement: 146.0<br>superplastic: 3.0<br>age: 28",
          "<br>cement: 425.0<br>superplastic: 16.5<br>age: 7",
          "<br>cement: 500.1<br>superplastic: 3.0<br>age: 28",
          "<br>cement: 295.7<br>superplastic: 8.9<br>age: 56",
          "<br>cement: 213.5<br>superplastic: 11.7<br>age: 56",
          "<br>cement: 141.9<br>superplastic: 10.9<br>age: 28",
          "<br>cement: 491.0<br>superplastic: 3.9<br>age: 28",
          "<br>cement: 148.1<br>superplastic: 15.0<br>age: 28",
          "<br>cement: 313.3<br>superplastic: 8.6<br>age: 91",
          "<br>cement: 362.6<br>superplastic: 11.6<br>age: 56",
          "<br>cement: 250.0<br>superplastic: 5.3<br>age: 100",
          "<br>cement: 212.0<br>superplastic: 7.8<br>age: 56",
          "<br>cement: 148.0<br>superplastic: 16.0<br>age: 28",
          "<br>cement: 393.0<br>superplastic: 0.0<br>age: 28",
          "<br>cement: 286.3<br>superplastic: 11.2<br>age: 3",
          "<br>cement: 233.8<br>superplastic: 4.6<br>age: 100",
          "<br>cement: 213.7<br>superplastic: 10.2<br>age: 56",
          "<br>cement: 254.0<br>superplastic: 0.0<br>age: 180",
          "<br>cement: 475.0<br>superplastic: 0.0<br>age: 365",
          "<br>cement: 379.5<br>superplastic: 15.9<br>age: 91",
          "<br>cement: 355.9<br>superplastic: 11.0<br>age: 28",
          "<br>cement: 153.0<br>superplastic: 8.0<br>age: 28",
          "<br>cement: 318.0<br>superplastic: 6.0<br>age: 28",
          "<br>cement: 159.1<br>superplastic: 11.3<br>age: 28",
          "<br>cement: 285.0<br>superplastic: 7.6<br>age: 28",
          "<br>cement: 379.5<br>superplastic: 15.9<br>age: 3",
          "<br>cement: 314.0<br>superplastic: 8.0<br>age: 28",
          "<br>cement: 331.0<br>superplastic: 0.0<br>age: 3",
          "<br>cement: 424.0<br>superplastic: 8.5<br>age: 28",
          "<br>cement: 159.0<br>superplastic: 15.0<br>age: 28",
          "<br>cement: 318.8<br>superplastic: 14.3<br>age: 56",
          "<br>cement: 168.0<br>superplastic: 5.7<br>age: 14",
          "<br>cement: 385.0<br>superplastic: 0.0<br>age: 7",
          "<br>cement: 212.1<br>superplastic: 5.7<br>age: 56",
          "<br>cement: 194.7<br>superplastic: 7.5<br>age: 14",
          "<br>cement: 239.6<br>superplastic: 0.0<br>age: 28",
          "<br>cement: 310.0<br>superplastic: 0.0<br>age: 360",
          "<br>cement: 181.4<br>superplastic: 7.6<br>age: 14",
          "<br>cement: 310.0<br>superplastic: 0.0<br>age: 90",
          "<br>cement: 375.0<br>superplastic: 0.0<br>age: 28",
          "<br>cement: 310.0<br>superplastic: 0.0<br>age: 7",
          "<br>cement: 297.0<br>superplastic: 0.0<br>age: 7",
          "<br>cement: 295.7<br>superplastic: 8.9<br>age: 3",
          "<br>cement: 475.0<br>superplastic: 8.9<br>age: 7",
          "<br>cement: 144.0<br>superplastic: 6.0<br>age: 28",
          "<br>cement: 446.0<br>superplastic: 10.3<br>age: 56",
          "<br>cement: 321.4<br>superplastic: 11.5<br>age: 28",
          "<br>cement: 350.0<br>superplastic: 0.0<br>age: 7",
          "<br>cement: 313.3<br>superplastic: 8.0<br>age: 28",
          "<br>cement: 316.1<br>superplastic: 0.0<br>age: 7",
          "<br>cement: 362.6<br>superplastic: 11.6<br>age: 7",
          "<br>cement: 397.0<br>superplastic: 0.0<br>age: 28",
          "<br>cement: 540.0<br>superplastic: 0.0<br>age: 28",
          "<br>cement: 313.3<br>superplastic: 8.6<br>age: 28",
          "<br>cement: 355.0<br>superplastic: 12.3<br>age: 28",
          "<br>cement: 307.0<br>superplastic: 0.0<br>age: 28",
          "<br>cement: 312.9<br>superplastic: 9.6<br>age: 28",
          "<br>cement: 153.6<br>superplastic: 10.1<br>age: 28",
          "<br>cement: 214.9<br>superplastic: 9.6<br>age: 100",
          "<br>cement: 143.0<br>superplastic: 8.4<br>age: 28",
          "<br>cement: 362.6<br>superplastic: 11.6<br>age: 3",
          "<br>cement: 153.0<br>superplastic: 0.0<br>age: 28",
          "<br>cement: 194.7<br>superplastic: 7.5<br>age: 100",
          "<br>cement: 142.0<br>superplastic: 11.0<br>age: 28",
          "<br>cement: 272.8<br>superplastic: 0.0<br>age: 28",
          "<br>cement: 133.0<br>superplastic: 0.0<br>age: 90",
          "<br>cement: 387.0<br>superplastic: 11.6<br>age: 7",
          "<br>cement: 389.9<br>superplastic: 22.0<br>age: 91",
          "<br>cement: 332.5<br>superplastic: 0.0<br>age: 270",
          "<br>cement: 190.0<br>superplastic: 0.0<br>age: 90",
          "<br>cement: 275.1<br>superplastic: 9.9<br>age: 56",
          "<br>cement: 166.1<br>superplastic: 4.5<br>age: 14",
          "<br>cement: 469.0<br>superplastic: 32.2<br>age: 3",
          "<br>cement: 356.0<br>superplastic: 9.0<br>age: 28",
          "<br>cement: 307.0<br>superplastic: 0.0<br>age: 365",
          "<br>cement: 200.0<br>superplastic: 0.0<br>age: 7",
          "<br>cement: 313.0<br>superplastic: 8.0<br>age: 28",
          "<br>cement: 251.8<br>superplastic: 12.4<br>age: 3",
          "<br>cement: 218.9<br>superplastic: 11.3<br>age: 3",
          "<br>cement: 277.0<br>superplastic: 0.0<br>age: 14",
          "<br>cement: 520.0<br>superplastic: 5.2<br>age: 28",
          "<br>cement: 277.2<br>superplastic: 11.2<br>age: 28",
          "<br>cement: 401.8<br>superplastic: 11.4<br>age: 28",
          "<br>cement: 397.0<br>superplastic: 0.0<br>age: 28",
          "<br>cement: 362.6<br>superplastic: 11.6<br>age: 28",
          "<br>cement: 236.0<br>superplastic: 0.0<br>age: 3",
          "<br>cement: 141.3<br>superplastic: 0.0<br>age: 90",
          "<br>cement: 231.8<br>superplastic: 6.7<br>age: 28",
          "<br>cement: 349.0<br>superplastic: 0.0<br>age: 180",
          "<br>cement: 167.4<br>superplastic: 7.8<br>age: 3",
          "<br>cement: 491.0<br>superplastic: 3.9<br>age: 3",
          "<br>cement: 213.5<br>superplastic: 11.7<br>age: 28",
          "<br>cement: 393.0<br>superplastic: 0.0<br>age: 28",
          "<br>cement: 305.3<br>superplastic: 0.0<br>age: 7",
          "<br>cement: 298.0<br>superplastic: 11.0<br>age: 28",
          "<br>cement: 287.0<br>superplastic: 9.0<br>age: 28",
          "<br>cement: 425.0<br>superplastic: 18.6<br>age: 28",
          "<br>cement: 250.2<br>superplastic: 0.0<br>age: 90",
          "<br>cement: 277.2<br>superplastic: 11.2<br>age: 56",
          "<br>cement: 284.0<br>superplastic: 7.2<br>age: 28",
          "<br>cement: 424.0<br>superplastic: 8.5<br>age: 3",
          "<br>cement: 167.4<br>superplastic: 7.8<br>age: 100",
          "<br>cement: 350.0<br>superplastic: 0.0<br>age: 180",
          "<br>cement: 202.0<br>superplastic: 1.7<br>age: 28",
          "<br>cement: 139.6<br>superplastic: 0.0<br>age: 28",
          "<br>cement: 238.0<br>superplastic: 0.0<br>age: 28",
          "<br>cement: 424.0<br>superplastic: 8.9<br>age: 7",
          "<br>cement: 239.6<br>superplastic: 0.0<br>age: 7",
          "<br>cement: 401.8<br>superplastic: 11.4<br>age: 91",
          "<br>cement: 425.0<br>superplastic: 16.5<br>age: 28",
          "<br>cement: 446.0<br>superplastic: 11.6<br>age: 3",
          "<br>cement: 154.0<br>superplastic: 10.0<br>age: 28",
          "<br>cement: 380.0<br>superplastic: 0.0<br>age: 365",
          "<br>cement: 178.0<br>superplastic: 3.6<br>age: 14",
          "<br>cement: 164.0<br>superplastic: 8.0<br>age: 28",
          "<br>cement: 160.0<br>superplastic: 12.0<br>age: 28",
          "<br>cement: 167.4<br>superplastic: 7.8<br>age: 28",
          "<br>cement: 165.0<br>superplastic: 0.0<br>age: 100",
          "<br>cement: 233.8<br>superplastic: 4.6<br>age: 28",
          "<br>cement: 316.1<br>superplastic: 0.0<br>age: 28",
          "<br>cement: 323.7<br>superplastic: 10.3<br>age: 56",
          "<br>cement: 250.0<br>superplastic: 5.3<br>age: 28",
          "<br>cement: 387.0<br>superplastic: 14.3<br>age: 28",
          "<br>cement: 158.0<br>superplastic: 11.0<br>age: 28",
          "<br>cement: 288.0<br>superplastic: 0.0<br>age: 3",
          "<br>cement: 213.5<br>superplastic: 11.7<br>age: 100",
          "<br>cement: 213.7<br>superplastic: 6.9<br>age: 28",
          "<br>cement: 190.3<br>superplastic: 9.9<br>age: 3",
          "<br>cement: 313.0<br>superplastic: 8.0<br>age: 28",
          "<br>cement: 296.0<br>superplastic: 0.0<br>age: 90",
          "<br>cement: 359.0<br>superplastic: 10.9<br>age: 28",
          "<br>cement: 153.1<br>superplastic: 8.0<br>age: 28",
          "<br>cement: 298.0<br>superplastic: 6.0<br>age: 28",
          "<br>cement: 140.0<br>superplastic: 7.0<br>age: 28",
          "<br>cement: 139.6<br>superplastic: 0.0<br>age: 180",
          "<br>cement: 147.0<br>superplastic: 9.0<br>age: 28",
          "<br>cement: 288.0<br>superplastic: 0.0<br>age: 7",
          "<br>cement: 183.9<br>superplastic: 0.0<br>age: 7",
          "<br>cement: 203.5<br>superplastic: 0.0<br>age: 3",
          "<br>cement: 144.8<br>superplastic: 11.1<br>age: 28",
          "<br>cement: 141.3<br>superplastic: 0.0<br>age: 7",
          "<br>cement: 297.2<br>superplastic: 9.5<br>age: 3",
          "<br>cement: 135.0<br>superplastic: 10.0<br>age: 28",
          "<br>cement: 531.3<br>superplastic: 28.2<br>age: 3",
          "<br>cement: 276.4<br>superplastic: 8.9<br>age: 28",
          "<br>cement: 342.0<br>superplastic: 0.0<br>age: 270",
          "<br>cement: 540.0<br>superplastic: 0.0<br>age: 7"
         ],
         "type": "scatter3d",
         "x": {
          "bdata": "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",
          "dtype": "f8"
         },
         "y": {
          "bdata": "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",
          "dtype": "f8"
         },
         "z": {
          "bdata": "HAAOABwAHAAcAFoABwA4ABwAHAAcAAMADgAHABwAZAAcABwAAwAcAAMABwAHABwAHAAcAFoAWwAcABwAHAAcABwAHABaABwADgAOAAcAHAAOADgAHAAcAFsAOAAHABwAHAADABwAtAA4ABwAHAAHAGQABwAOAGQAAwADAGQAOABtATgAHABkAGQABwADAFoAAwAcADgADgAHAAMAAwA4ABwAWgBaAGQADgAcABwADgADAAMABwAHAA4AtAADABwAHAAHABwAtAAcABwAHAC0AAMAHAAcAAcAHAAcABwABwAcABwADgADABwAHAA4AA4ABwA4ABwAHAA4ABwAWgAHABwAWwAcABwABwBtAQMAOABaABwAAwAcABwADgBaAAcAtABaAAcAHAAcAA4BDgAcALQADgAHABwAHABoARwAbQEcABwABwAcABwABwAcAGQAOAAcABwAOAADABwAWgAcAAMAAwBaAAcAHAAcADgABwADAA4AHAAHAGQAHAA4ADgAHAAcABwAHAAOAFsAbQG0ABwAHAAHAGQAHAAcABwAtAA4AFoAHAAHABwAAwAcABwAZAAHAAMAAwBaAAMAZAAHABwAHAA4ABwAWgA4AAMAAwA4ABwABwADAAMAAwAcADgAHABaABwAHABaAFsAAwAcABwAWgAcABwAHAA4ABwADgAOATgADgADABwABwAOARwAHAADABwAHAAHADgADgEcAHgAHAAcAGQAHAAcAAMAHAADABwAHABaABwAWgBbAAcAHAAcABwAWgBbABwAHAAcABwADgEDAAMABwA4ALQABwAcABwAWgAcAA4AHAAOABwAtAAOAQcAHAAcAA4AZAAcABwAOAADAGgBHABkAA4AHAAHABwADgAcAAMAHAADAFoAZABbABwAWgAOAGQAOAAcABwAHAAcAFoAOAAcAFoAAwAcABwABwAcABwAAwAOALQAHABoAQcAHABaAFoAOAAcAA4AHAC0ABwAOAAcABwAAwBaAFoAHAAcABwAHAAHABwAWgAcADgADgAHABwAWgAHAAcAbQEDABwAHAAcABwADgADAFoAHAAcABwAHAAOAAMAWgAcABwAZAA4AAMAHAAcAFoAHABbAFoAAwAcAAMAOAAHAFsAZAADABwAAwADABwAHAAcAHgADgAcABwADgADAA4AHAAHADgAHABaAGQABwBoARwAHAA4ABwAOAAHAAcAWgAOABwAHAAcABwAZAA4ABwAbQEDABwAHAAcAAMAHAAcADgAHAAHAFsAHAAOAGQAHAAcAFsAAwBtARwAHAAcADgAOAAHABwAHABbAAMAAwBkAA4AHAAcAGQAHAABAAcAAwAHABwAHABaAAcAAwAcABwAHAA4AAMABwA4ABwAWgADABwAHAAHABwAHAADAFsAHAA4AFoAAwA4ADgAOAADAA4AOAAHALQAWgAcAAMABwAcABwAHAAHAAcAHAADABwAHAAHADgAHABaAA4AAwAcABwAHAAHABwAHAA4ABwAHAADADgADgEcABwAOAA4AFsABwAcAGQAHABkALQAOAAcADgAZAA4AAMAHAAcAGQAHAAHADgAtAADABwAHAA4ABwAAwBtARwABwA4ABwAAwBkABwABwBkAAcAAwAcADgAOAA4AAcAOAAOALQAAwC0AA4BHABkAFoAAwAHABwADgADAA4BAwAcABwABwAcAAcABwAHAAMAtABkAA4AHAAcABwAHAADAAMAHAAOAGQAHAADABwAAwAcAAcAOAAOABwABwAHADgAHAADAA4AHAADAAMAHAAHABwADgAHADgAAwADABwAHAAHAAMAHAAOABwAZABaADgAHAAHABwAAwAcAAMAtAAcAAcAHAAcAAcAHAADAAMABwAOAFoAHAA4ABwAHAAcAG0BHAAcABwAAwAHAAMAbQG0ABwAOAAcABwAHAAHAAcAHABkAAMAHABbABwABwAcABwAHAAcABwAWgAcABwABwBkAGQABwAcAAcAHAAcABwABwBtAWgBAwAcADgAHAAcAGQAAwADABwAHABbABwAHAAcABwAHAAOAAcAOAAcALQAOAAcABwAZAAcAA4AAwAcAGQAAwBaABwAOAAHABwABwAHABwAAwAcAAcAAwAcAAcAZAAcABwAAwAHABwAHAAHAAcADgAHAA4AAwAcABwAHAAcABwAHAAOABwABwAcABwAHAAcADgAHAAOAAcAAQAOABwAWwAcAGQAOAA4AAcAHAADAAcABwADAAcAAwADADgAAwAOAQMAHAAcAAMAAwAcABwAZAAcABwAtAB4ADgAZAAcABwAOAADABwABwAHAGQAHAADABwAHAAcAA4BAwA4AA4ADgAcAAcAHAA4ADgAHAAcABwAWwA4AGQAOAAcABwAAwBkADgAtABtAVsAHAAcABwAHAAcAAMAHAADABwAHAA4AA4ABwA4AA4AHABoAQ4AWgAcAAcABwADAAcAHAA4ABwABwAcAAcABwAcABwAHAAcABwAHAAcAGQAHAADABwAZAAcABwAWgAHAFsADgFaADgADgADABwAbQEHABwAAwADAA4AHAAcABwAHAAcAAMAWgAcALQAAwADABwAHAAHABwAHAAcAFoAOAAcAAMAZAC0ABwAHAAcAAcABwBbABwAAwAcAG0BDgAcABwAHABkABwAHAA4ABwAHAAcAAMAZAAcAAMAHABaABwAHAAcABwAtAAcAAcABwADABwABwADABwAAwAcAA4BBwA=",
          "dtype": "i2"
         }
        }
       ],
       "layout": {
        "height": 1200,
        "scene": {
         "xaxis": {
          "title": {
           "text": "cement"
          }
         },
         "yaxis": {
          "title": {
           "text": "superplastic"
          }
         },
         "zaxis": {
          "title": {
           "text": "age"
          }
         }
        },
        "template": {
         "data": {
          "bar": [
           {
            "error_x": {
             "color": "#2a3f5f"
            },
            "error_y": {
             "color": "#2a3f5f"
            },
            "marker": {
             "line": {
              "color": "#E5ECF6",
              "width": 0.5
             },
             "pattern": {
              "fillmode": "overlay",
              "size": 10,
              "solidity": 0.2
             }
            },
            "type": "bar"
           }
          ],
          "barpolar": [
           {
            "marker": {
             "line": {
              "color": "#E5ECF6",
              "width": 0.5
             },
             "pattern": {
              "fillmode": "overlay",
              "size": 10,
              "solidity": 0.2
             }
            },
            "type": "barpolar"
           }
          ],
          "carpet": [
           {
            "aaxis": {
             "endlinecolor": "#2a3f5f",
             "gridcolor": "white",
             "linecolor": "white",
             "minorgridcolor": "white",
             "startlinecolor": "#2a3f5f"
            },
            "baxis": {
             "endlinecolor": "#2a3f5f",
             "gridcolor": "white",
             "linecolor": "white",
             "minorgridcolor": "white",
             "startlinecolor": "#2a3f5f"
            },
            "type": "carpet"
           }
          ],
          "choropleth": [
           {
            "colorbar": {
             "outlinewidth": 0,
             "ticks": ""
            },
            "type": "choropleth"
           }
          ],
          "contour": [
           {
            "colorbar": {
             "outlinewidth": 0,
             "ticks": ""
            },
            "colorscale": [
             [
              0,
              "#0d0887"
             ],
             [
              0.1111111111111111,
              "#46039f"
             ],
             [
              0.2222222222222222,
              "#7201a8"
             ],
             [
              0.3333333333333333,
              "#9c179e"
             ],
             [
              0.4444444444444444,
              "#bd3786"
             ],
             [
              0.5555555555555556,
              "#d8576b"
             ],
             [
              0.6666666666666666,
              "#ed7953"
             ],
             [
              0.7777777777777778,
              "#fb9f3a"
             ],
             [
              0.8888888888888888,
              "#fdca26"
             ],
             [
              1,
              "#f0f921"
             ]
            ],
            "type": "contour"
           }
          ],
          "contourcarpet": [
           {
            "colorbar": {
             "outlinewidth": 0,
             "ticks": ""
            },
            "type": "contourcarpet"
           }
          ],
          "heatmap": [
           {
            "colorbar": {
             "outlinewidth": 0,
             "ticks": ""
            },
            "colorscale": [
             [
              0,
              "#0d0887"
             ],
             [
              0.1111111111111111,
              "#46039f"
             ],
             [
              0.2222222222222222,
              "#7201a8"
             ],
             [
              0.3333333333333333,
              "#9c179e"
             ],
             [
              0.4444444444444444,
              "#bd3786"
             ],
             [
              0.5555555555555556,
              "#d8576b"
             ],
             [
              0.6666666666666666,
              "#ed7953"
             ],
             [
              0.7777777777777778,
              "#fb9f3a"
             ],
             [
              0.8888888888888888,
              "#fdca26"
             ],
             [
              1,
              "#f0f921"
             ]
            ],
            "type": "heatmap"
           }
          ],
          "histogram": [
           {
            "marker": {
             "pattern": {
              "fillmode": "overlay",
              "size": 10,
              "solidity": 0.2
             }
            },
            "type": "histogram"
           }
          ],
          "histogram2d": [
           {
            "colorbar": {
             "outlinewidth": 0,
             "ticks": ""
            },
            "colorscale": [
             [
              0,
              "#0d0887"
             ],
             [
              0.1111111111111111,
              "#46039f"
             ],
             [
              0.2222222222222222,
              "#7201a8"
             ],
             [
              0.3333333333333333,
              "#9c179e"
             ],
             [
              0.4444444444444444,
              "#bd3786"
             ],
             [
              0.5555555555555556,
              "#d8576b"
             ],
             [
              0.6666666666666666,
              "#ed7953"
             ],
             [
              0.7777777777777778,
              "#fb9f3a"
             ],
             [
              0.8888888888888888,
              "#fdca26"
             ],
             [
              1,
              "#f0f921"
             ]
            ],
            "type": "histogram2d"
           }
          ],
          "histogram2dcontour": [
           {
            "colorbar": {
             "outlinewidth": 0,
             "ticks": ""
            },
            "colorscale": [
             [
              0,
              "#0d0887"
             ],
             [
              0.1111111111111111,
              "#46039f"
             ],
             [
              0.2222222222222222,
              "#7201a8"
             ],
             [
              0.3333333333333333,
              "#9c179e"
             ],
             [
              0.4444444444444444,
              "#bd3786"
             ],
             [
              0.5555555555555556,
              "#d8576b"
             ],
             [
              0.6666666666666666,
              "#ed7953"
             ],
             [
              0.7777777777777778,
              "#fb9f3a"
             ],
             [
              0.8888888888888888,
              "#fdca26"
             ],
             [
              1,
              "#f0f921"
             ]
            ],
            "type": "histogram2dcontour"
           }
          ],
          "mesh3d": [
           {
            "colorbar": {
             "outlinewidth": 0,
             "ticks": ""
            },
            "type": "mesh3d"
           }
          ],
          "parcoords": [
           {
            "line": {
             "colorbar": {
              "outlinewidth": 0,
              "ticks": ""
             }
            },
            "type": "parcoords"
           }
          ],
          "pie": [
           {
            "automargin": true,
            "type": "pie"
           }
          ],
          "scatter": [
           {
            "fillpattern": {
             "fillmode": "overlay",
             "size": 10,
             "solidity": 0.2
            },
            "type": "scatter"
           }
          ],
          "scatter3d": [
           {
            "line": {
             "colorbar": {
              "outlinewidth": 0,
              "ticks": ""
             }
            },
            "marker": {
             "colorbar": {
              "outlinewidth": 0,
              "ticks": ""
             }
            },
            "type": "scatter3d"
           }
          ],
          "scattercarpet": [
           {
            "marker": {
             "colorbar": {
              "outlinewidth": 0,
              "ticks": ""
             }
            },
            "type": "scattercarpet"
           }
          ],
          "scattergeo": [
           {
            "marker": {
             "colorbar": {
              "outlinewidth": 0,
              "ticks": ""
             }
            },
            "type": "scattergeo"
           }
          ],
          "scattergl": [
           {
            "marker": {
             "colorbar": {
              "outlinewidth": 0,
              "ticks": ""
             }
            },
            "type": "scattergl"
           }
          ],
          "scattermap": [
           {
            "marker": {
             "colorbar": {
              "outlinewidth": 0,
              "ticks": ""
             }
            },
            "type": "scattermap"
           }
          ],
          "scattermapbox": [
           {
            "marker": {
             "colorbar": {
              "outlinewidth": 0,
              "ticks": ""
             }
            },
            "type": "scattermapbox"
           }
          ],
          "scatterpolar": [
           {
            "marker": {
             "colorbar": {
              "outlinewidth": 0,
              "ticks": ""
             }
            },
            "type": "scatterpolar"
           }
          ],
          "scatterpolargl": [
           {
            "marker": {
             "colorbar": {
              "outlinewidth": 0,
              "ticks": ""
             }
            },
            "type": "scatterpolargl"
           }
          ],
          "scatterternary": [
           {
            "marker": {
             "colorbar": {
              "outlinewidth": 0,
              "ticks": ""
             }
            },
            "type": "scatterternary"
           }
          ],
          "surface": [
           {
            "colorbar": {
             "outlinewidth": 0,
             "ticks": ""
            },
            "colorscale": [
             [
              0,
              "#0d0887"
             ],
             [
              0.1111111111111111,
              "#46039f"
             ],
             [
              0.2222222222222222,
              "#7201a8"
             ],
             [
              0.3333333333333333,
              "#9c179e"
             ],
             [
              0.4444444444444444,
              "#bd3786"
             ],
             [
              0.5555555555555556,
              "#d8576b"
             ],
             [
              0.6666666666666666,
              "#ed7953"
             ],
             [
              0.7777777777777778,
              "#fb9f3a"
             ],
             [
              0.8888888888888888,
              "#fdca26"
             ],
             [
              1,
              "#f0f921"
             ]
            ],
            "type": "surface"
           }
          ],
          "table": [
           {
            "cells": {
             "fill": {
              "color": "#EBF0F8"
             },
             "line": {
              "color": "white"
             }
            },
            "header": {
             "fill": {
              "color": "#C8D4E3"
             },
             "line": {
              "color": "white"
             }
            },
            "type": "table"
           }
          ]
         },
         "layout": {
          "annotationdefaults": {
           "arrowcolor": "#2a3f5f",
           "arrowhead": 0,
           "arrowwidth": 1
          },
          "autotypenumbers": "strict",
          "coloraxis": {
           "colorbar": {
            "outlinewidth": 0,
            "ticks": ""
           }
          },
          "colorscale": {
           "diverging": [
            [
             0,
             "#8e0152"
            ],
            [
             0.1,
             "#c51b7d"
            ],
            [
             0.2,
             "#de77ae"
            ],
            [
             0.3,
             "#f1b6da"
            ],
            [
             0.4,
             "#fde0ef"
            ],
            [
             0.5,
             "#f7f7f7"
            ],
            [
             0.6,
             "#e6f5d0"
            ],
            [
             0.7,
             "#b8e186"
            ],
            [
             0.8,
             "#7fbc41"
            ],
            [
             0.9,
             "#4d9221"
            ],
            [
             1,
             "#276419"
            ]
           ],
           "sequential": [
            [
             0,
             "#0d0887"
            ],
            [
             0.1111111111111111,
             "#46039f"
            ],
            [
             0.2222222222222222,
             "#7201a8"
            ],
            [
             0.3333333333333333,
             "#9c179e"
            ],
            [
             0.4444444444444444,
             "#bd3786"
            ],
            [
             0.5555555555555556,
             "#d8576b"
            ],
            [
             0.6666666666666666,
             "#ed7953"
            ],
            [
             0.7777777777777778,
             "#fb9f3a"
            ],
            [
             0.8888888888888888,
             "#fdca26"
            ],
            [
             1,
             "#f0f921"
            ]
           ],
           "sequentialminus": [
            [
             0,
             "#0d0887"
            ],
            [
             0.1111111111111111,
             "#46039f"
            ],
            [
             0.2222222222222222,
             "#7201a8"
            ],
            [
             0.3333333333333333,
             "#9c179e"
            ],
            [
             0.4444444444444444,
             "#bd3786"
            ],
            [
             0.5555555555555556,
             "#d8576b"
            ],
            [
             0.6666666666666666,
             "#ed7953"
            ],
            [
             0.7777777777777778,
             "#fb9f3a"
            ],
            [
             0.8888888888888888,
             "#fdca26"
            ],
            [
             1,
             "#f0f921"
            ]
           ]
          },
          "colorway": [
           "#636efa",
           "#EF553B",
           "#00cc96",
           "#ab63fa",
           "#FFA15A",
           "#19d3f3",
           "#FF6692",
           "#B6E880",
           "#FF97FF",
           "#FECB52"
          ],
          "font": {
           "color": "#2a3f5f"
          },
          "geo": {
           "bgcolor": "white",
           "lakecolor": "white",
           "landcolor": "#E5ECF6",
           "showlakes": true,
           "showland": true,
           "subunitcolor": "white"
          },
          "hoverlabel": {
           "align": "left"
          },
          "hovermode": "closest",
          "mapbox": {
           "style": "light"
          },
          "paper_bgcolor": "white",
          "plot_bgcolor": "#E5ECF6",
          "polar": {
           "angularaxis": {
            "gridcolor": "white",
            "linecolor": "white",
            "ticks": ""
           },
           "bgcolor": "#E5ECF6",
           "radialaxis": {
            "gridcolor": "white",
            "linecolor": "white",
            "ticks": ""
           }
          },
          "scene": {
           "xaxis": {
            "backgroundcolor": "#E5ECF6",
            "gridcolor": "white",
            "gridwidth": 2,
            "linecolor": "white",
            "showbackground": true,
            "ticks": "",
            "zerolinecolor": "white"
           },
           "yaxis": {
            "backgroundcolor": "#E5ECF6",
            "gridcolor": "white",
            "gridwidth": 2,
            "linecolor": "white",
            "showbackground": true,
            "ticks": "",
            "zerolinecolor": "white"
           },
           "zaxis": {
            "backgroundcolor": "#E5ECF6",
            "gridcolor": "white",
            "gridwidth": 2,
            "linecolor": "white",
            "showbackground": true,
            "ticks": "",
            "zerolinecolor": "white"
           }
          },
          "shapedefaults": {
           "line": {
            "color": "#2a3f5f"
           }
          },
          "ternary": {
           "aaxis": {
            "gridcolor": "white",
            "linecolor": "white",
            "ticks": ""
           },
           "baxis": {
            "gridcolor": "white",
            "linecolor": "white",
            "ticks": ""
           },
           "bgcolor": "#E5ECF6",
           "caxis": {
            "gridcolor": "white",
            "linecolor": "white",
            "ticks": ""
           }
          },
          "title": {
           "x": 0.05
          },
          "xaxis": {
           "automargin": true,
           "gridcolor": "white",
           "linecolor": "white",
           "ticks": "",
           "title": {
            "standoff": 15
           },
           "zerolinecolor": "white",
           "zerolinewidth": 2
          },
          "yaxis": {
           "automargin": true,
           "gridcolor": "white",
           "linecolor": "white",
           "ticks": "",
           "title": {
            "standoff": 15
           },
           "zerolinecolor": "white",
           "zerolinewidth": 2
          }
         }
        },
        "title": {
         "text": "Scatter Plot 3D de Soporte vs Confianza vs Lift"
        },
        "width": 800
       }
      }
     },
     "metadata": {},
     "output_type": "display_data"
    }
   ],
   "source": [
    "rotable_3d(df, 'cement', 'superplastic', 'age', 'target')"
   ]
  }
 ],
 "metadata": {
  "colab": {
   "provenance": []
  },
  "kernelspec": {
   "display_name": ".venv",
   "language": "python",
   "name": "python3"
  },
  "language_info": {
   "codemirror_mode": {
    "name": "ipython",
    "version": 3
   },
   "file_extension": ".py",
   "mimetype": "text/x-python",
   "name": "python",
   "nbconvert_exporter": "python",
   "pygments_lexer": "ipython3",
   "version": "3.12.10"
  }
 },
 "nbformat": 4,
 "nbformat_minor": 0
}
